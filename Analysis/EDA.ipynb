{
 "cells": [
  {
   "cell_type": "markdown",
   "metadata": {},
   "source": [
    "# 1: Import Packages and Define Functions"
   ]
  },
  {
   "cell_type": "code",
   "execution_count": 594,
   "metadata": {},
   "outputs": [],
   "source": [
    "# Import some libraries that will be used\n",
    "import pandas as pd\n",
    "import numpy as np\n",
    "import matplotlib.pyplot as plt\n",
    "import seaborn as sns\n",
    "import mysql.connector\n",
    "import sys\n",
    "sys.path.insert(1, '/Users/brianmccabe/DataScience/Flatiron/mod5/Emoji_Analysis/Scripts/')\n",
    "import config\n",
    "\n",
    "\n",
    "\n",
    "pd.set_option('display.max_columns', 300)\n",
    "\n",
    "%matplotlib inline"
   ]
  },
  {
   "cell_type": "code",
   "execution_count": 595,
   "metadata": {},
   "outputs": [
    {
     "name": "stderr",
     "output_type": "stream",
     "text": [
      "[nltk_data] Downloading package stopwords to\n",
      "[nltk_data]     /Users/brianmccabe/nltk_data...\n",
      "[nltk_data]   Package stopwords is already up-to-date!\n",
      "[nltk_data] Downloading package punkt to\n",
      "[nltk_data]     /Users/brianmccabe/nltk_data...\n",
      "[nltk_data]   Package punkt is already up-to-date!\n",
      "[nltk_data] Downloading package wordnet to\n",
      "[nltk_data]     /Users/brianmccabe/nltk_data...\n",
      "[nltk_data]   Package wordnet is already up-to-date!\n"
     ]
    },
    {
     "data": {
      "text/plain": [
       "True"
      ]
     },
     "execution_count": 595,
     "metadata": {},
     "output_type": "execute_result"
    }
   ],
   "source": [
    "import nltk\n",
    "from sklearn.feature_extraction.text import CountVectorizer\n",
    "from sklearn.feature_extraction.text import TfidfVectorizer\n",
    "from sklearn.feature_extraction.text import TfidfTransformer\n",
    "from nltk.probability import FreqDist\n",
    "from nltk.corpus import stopwords\n",
    "from nltk.stem import PorterStemmer\n",
    "from sklearn.metrics import confusion_matrix\n",
    "from sklearn.naive_bayes import MultinomialNB, BernoulliNB\n",
    "from sklearn import metrics\n",
    "from sklearn.model_selection import train_test_split\n",
    "from matplotlib import cm\n",
    "import numpy as np\n",
    "from sklearn.ensemble import RandomForestClassifier\n",
    "from sklearn.metrics import accuracy_score\n",
    "from sklearn.metrics import f1_score\n",
    "from sklearn.naive_bayes import MultinomialNB\n",
    "import string\n",
    "import scipy\n",
    "import emoji\n",
    "from vaderSentiment.vaderSentiment import SentimentIntensityAnalyzer\n",
    "import re\n",
    "\n",
    "nltk.download('stopwords')\n",
    "nltk.download('punkt')\n",
    "nltk.download('wordnet')"
   ]
  },
  {
   "cell_type": "code",
   "execution_count": 596,
   "metadata": {},
   "outputs": [],
   "source": [
    "def extract_emojis(s):\n",
    "    return ''.join(c for c in s if c in emoji.UNICODE_EMOJI)"
   ]
  },
  {
   "cell_type": "code",
   "execution_count": 597,
   "metadata": {},
   "outputs": [],
   "source": [
    "def check_for_flags(s):\n",
    "    s = str(s)\n",
    "    has_flag = False\n",
    "    for flag in flags:\n",
    "        if flag in s:\n",
    "            has_flag = True\n",
    "    return has_flag"
   ]
  },
  {
   "cell_type": "code",
   "execution_count": 598,
   "metadata": {},
   "outputs": [],
   "source": [
    "def unique_emoji_count(s):\n",
    "    return len(set([c for c in s]))"
   ]
  },
  {
   "cell_type": "code",
   "execution_count": 599,
   "metadata": {},
   "outputs": [],
   "source": [
    "def condence_emojis(s):\n",
    "    try:\n",
    "        return set(s).pop()\n",
    "    except:\n",
    "        return None"
   ]
  },
  {
   "cell_type": "code",
   "execution_count": 600,
   "metadata": {},
   "outputs": [],
   "source": [
    "analyzer = SentimentIntensityAnalyzer()\n",
    "def sentiment_scores(s):\n",
    "    return analyzer.polarity_scores(s)['compound']"
   ]
  },
  {
   "cell_type": "code",
   "execution_count": 601,
   "metadata": {},
   "outputs": [],
   "source": [
    "def remove_emojis(s):\n",
    "    pattern = \"\\w+\"\n",
    "    return ' '.join(re.findall(pattern, s))"
   ]
  },
  {
   "cell_type": "code",
   "execution_count": 625,
   "metadata": {},
   "outputs": [],
   "source": [
    "def impute_top_emoji(s, mappings = emoji_sentiment_mappings, data = df):\n",
    "    val = df[df.emoji == s].sentiment_score.values[0]\n",
    "    s = list(set(s))\n",
    "    closest = 100\n",
    "    top = s[0]\n",
    "    for i in range(0, len(s)):\n",
    "        try:\n",
    "            if abs(val - emoji_sentiment_mappings.loc[s[i]].sentiment_score) < closest:\n",
    "                closest = abs(val - emoji_sentiment_mappings.loc[s[i]].sentiment_score)\n",
    "                top = s[i]\n",
    "        except:\n",
    "            continue\n",
    "    return top"
   ]
  },
  {
   "cell_type": "markdown",
   "metadata": {},
   "source": [
    "# 2: Load in the Data"
   ]
  },
  {
   "cell_type": "code",
   "execution_count": 602,
   "metadata": {},
   "outputs": [],
   "source": [
    "connection = mysql.connector.connect(host=config.host,\n",
    "                                         user=config.user,\n",
    "                                         port=config.port,\n",
    "                                         password=config.password,\n",
    "                                         database=config.database,\n",
    "                                         auth_plugin='mysql_native_password')\n",
    "\n",
    "cursor = connection.cursor()\n",
    "query = \"SELECT tweet FROM Tweets WHERE HEX(tweet) RLIKE '^(..)*F.'\"\n",
    "\n",
    "df = pd.read_sql(query, connection)"
   ]
  },
  {
   "cell_type": "code",
   "execution_count": 603,
   "metadata": {},
   "outputs": [],
   "source": [
    "df['emoji'] = df.tweet.apply(extract_emojis)"
   ]
  },
  {
   "cell_type": "code",
   "execution_count": 604,
   "metadata": {},
   "outputs": [
    {
     "data": {
      "text/html": [
       "<div>\n",
       "<style scoped>\n",
       "    .dataframe tbody tr th:only-of-type {\n",
       "        vertical-align: middle;\n",
       "    }\n",
       "\n",
       "    .dataframe tbody tr th {\n",
       "        vertical-align: top;\n",
       "    }\n",
       "\n",
       "    .dataframe thead th {\n",
       "        text-align: right;\n",
       "    }\n",
       "</style>\n",
       "<table border=\"1\" class=\"dataframe\">\n",
       "  <thead>\n",
       "    <tr style=\"text-align: right;\">\n",
       "      <th></th>\n",
       "      <th>tweet</th>\n",
       "      <th>emoji</th>\n",
       "    </tr>\n",
       "  </thead>\n",
       "  <tbody>\n",
       "    <tr>\n",
       "      <th>0</th>\n",
       "      <td>\" cause hm? well, maybe \\nchange is needed. yo...</td>\n",
       "      <td></td>\n",
       "    </tr>\n",
       "    <tr>\n",
       "      <th>1</th>\n",
       "      <td>\" well, i will 𝙨𝙩𝙞𝙡𝙡 thank you for it.  ~\\n\\na...</td>\n",
       "      <td></td>\n",
       "    </tr>\n",
       "    <tr>\n",
       "      <th>2</th>\n",
       "      <td>\"'One day, honest citizens are going to stand ...</td>\n",
       "      <td>🤣</td>\n",
       "    </tr>\n",
       "    <tr>\n",
       "      <th>3</th>\n",
       "      <td>\"...You are not alone.\\nThere's a place where ...</td>\n",
       "      <td>🎶🎶🎼</td>\n",
       "    </tr>\n",
       "    <tr>\n",
       "      <th>4</th>\n",
       "      <td>\"5 Books That Changed My Life As An Investor\"....</td>\n",
       "      <td>👏</td>\n",
       "    </tr>\n",
       "  </tbody>\n",
       "</table>\n",
       "</div>"
      ],
      "text/plain": [
       "                                               tweet emoji\n",
       "0  \" cause hm? well, maybe \\nchange is needed. yo...      \n",
       "1  \" well, i will 𝙨𝙩𝙞𝙡𝙡 thank you for it.  ~\\n\\na...      \n",
       "2  \"'One day, honest citizens are going to stand ...     🤣\n",
       "3  \"...You are not alone.\\nThere's a place where ...   🎶🎶🎼\n",
       "4  \"5 Books That Changed My Life As An Investor\"....     👏"
      ]
     },
     "execution_count": 604,
     "metadata": {},
     "output_type": "execute_result"
    }
   ],
   "source": [
    "df.head()"
   ]
  },
  {
   "cell_type": "code",
   "execution_count": 605,
   "metadata": {
    "scrolled": true
   },
   "outputs": [
    {
     "data": {
      "text/plain": [
       "'🤣😭'"
      ]
     },
     "execution_count": 605,
     "metadata": {},
     "output_type": "execute_result"
    }
   ],
   "source": [
    "# remove white spaces in emoji column since they mess up unique emoji count below...\n",
    "df.emoji.apply(str.strip).loc[9]"
   ]
  },
  {
   "cell_type": "code",
   "execution_count": 606,
   "metadata": {},
   "outputs": [
    {
     "data": {
      "text/plain": [
       "['🤣', '😭']"
      ]
     },
     "execution_count": 606,
     "metadata": {},
     "output_type": "execute_result"
    }
   ],
   "source": [
    "# We can see that emoji flags have strange representations. I will remove them from the dataset.\n",
    "[c for c in df.emoji.loc[9]]"
   ]
  },
  {
   "cell_type": "code",
   "execution_count": 607,
   "metadata": {},
   "outputs": [],
   "source": [
    "import flag\n",
    "from bs4 import BeautifulSoup\n",
    "import requests"
   ]
  },
  {
   "cell_type": "code",
   "execution_count": 608,
   "metadata": {},
   "outputs": [],
   "source": [
    "url = 'https://en.wikipedia.org/wiki/Regional_indicator_symbol'\n",
    "page = requests.get(url)\n",
    "soup = BeautifulSoup(page.content, 'html.parser')"
   ]
  },
  {
   "cell_type": "code",
   "execution_count": 609,
   "metadata": {},
   "outputs": [
    {
     "data": {
      "text/plain": [
       "['🇦🇨', '🇦🇩', '🇦🇪', '🇦🇫', '🇦🇬']"
      ]
     },
     "execution_count": 609,
     "metadata": {},
     "output_type": "execute_result"
    }
   ],
   "source": [
    "flags = []\n",
    "skip_first = 0\n",
    "for item in soup.find('tbody').find_all('tr'):\n",
    "    if skip_first == 0:\n",
    "        skip_first += 1\n",
    "        continue\n",
    "    flagcode = item.find_all('td')[1].text\n",
    "    flags.append(flag.flag(flagcode))\n",
    "\n",
    "flags[0:5]    "
   ]
  },
  {
   "cell_type": "code",
   "execution_count": 610,
   "metadata": {},
   "outputs": [
    {
     "data": {
      "text/plain": [
       "False    27093\n",
       "True       989\n",
       "Name: emoji, dtype: int64"
      ]
     },
     "execution_count": 610,
     "metadata": {},
     "output_type": "execute_result"
    }
   ],
   "source": [
    "df.emoji.apply(check_for_flags).value_counts()"
   ]
  },
  {
   "cell_type": "code",
   "execution_count": 611,
   "metadata": {},
   "outputs": [],
   "source": [
    "df['has_flag'] = df.emoji.apply(check_for_flags)\n",
    "df = df[df.has_flag == False]\n",
    "df.drop('has_flag', axis=1, inplace=True)"
   ]
  },
  {
   "cell_type": "code",
   "execution_count": 612,
   "metadata": {},
   "outputs": [],
   "source": [
    "df['unique_emoji_count'] = df.emoji.apply(unique_emoji_count)"
   ]
  },
  {
   "cell_type": "code",
   "execution_count": 613,
   "metadata": {},
   "outputs": [
    {
     "data": {
      "text/html": [
       "<div>\n",
       "<style scoped>\n",
       "    .dataframe tbody tr th:only-of-type {\n",
       "        vertical-align: middle;\n",
       "    }\n",
       "\n",
       "    .dataframe tbody tr th {\n",
       "        vertical-align: top;\n",
       "    }\n",
       "\n",
       "    .dataframe thead th {\n",
       "        text-align: right;\n",
       "    }\n",
       "</style>\n",
       "<table border=\"1\" class=\"dataframe\">\n",
       "  <thead>\n",
       "    <tr style=\"text-align: right;\">\n",
       "      <th></th>\n",
       "      <th>tweet</th>\n",
       "      <th>emoji</th>\n",
       "      <th>unique_emoji_count</th>\n",
       "    </tr>\n",
       "  </thead>\n",
       "  <tbody>\n",
       "    <tr>\n",
       "      <th>0</th>\n",
       "      <td>\" cause hm? well, maybe \\nchange is needed. yo...</td>\n",
       "      <td></td>\n",
       "      <td>0</td>\n",
       "    </tr>\n",
       "    <tr>\n",
       "      <th>1</th>\n",
       "      <td>\" well, i will 𝙨𝙩𝙞𝙡𝙡 thank you for it.  ~\\n\\na...</td>\n",
       "      <td></td>\n",
       "      <td>0</td>\n",
       "    </tr>\n",
       "    <tr>\n",
       "      <th>2</th>\n",
       "      <td>\"'One day, honest citizens are going to stand ...</td>\n",
       "      <td>🤣</td>\n",
       "      <td>1</td>\n",
       "    </tr>\n",
       "    <tr>\n",
       "      <th>3</th>\n",
       "      <td>\"...You are not alone.\\nThere's a place where ...</td>\n",
       "      <td>🎶🎶🎼</td>\n",
       "      <td>2</td>\n",
       "    </tr>\n",
       "    <tr>\n",
       "      <th>4</th>\n",
       "      <td>\"5 Books That Changed My Life As An Investor\"....</td>\n",
       "      <td>👏</td>\n",
       "      <td>1</td>\n",
       "    </tr>\n",
       "  </tbody>\n",
       "</table>\n",
       "</div>"
      ],
      "text/plain": [
       "                                               tweet emoji  unique_emoji_count\n",
       "0  \" cause hm? well, maybe \\nchange is needed. yo...                         0\n",
       "1  \" well, i will 𝙨𝙩𝙞𝙡𝙡 thank you for it.  ~\\n\\na...                         0\n",
       "2  \"'One day, honest citizens are going to stand ...     🤣                   1\n",
       "3  \"...You are not alone.\\nThere's a place where ...   🎶🎶🎼                   2\n",
       "4  \"5 Books That Changed My Life As An Investor\"....     👏                   1"
      ]
     },
     "execution_count": 613,
     "metadata": {},
     "output_type": "execute_result"
    }
   ],
   "source": [
    "df.head()"
   ]
  },
  {
   "cell_type": "code",
   "execution_count": 614,
   "metadata": {},
   "outputs": [],
   "source": [
    "df['sentiment_score'] = df.tweet.apply(sentiment_scores)"
   ]
  },
  {
   "cell_type": "code",
   "execution_count": 615,
   "metadata": {},
   "outputs": [
    {
     "data": {
      "text/html": [
       "<div>\n",
       "<style scoped>\n",
       "    .dataframe tbody tr th:only-of-type {\n",
       "        vertical-align: middle;\n",
       "    }\n",
       "\n",
       "    .dataframe tbody tr th {\n",
       "        vertical-align: top;\n",
       "    }\n",
       "\n",
       "    .dataframe thead th {\n",
       "        text-align: right;\n",
       "    }\n",
       "</style>\n",
       "<table border=\"1\" class=\"dataframe\">\n",
       "  <thead>\n",
       "    <tr style=\"text-align: right;\">\n",
       "      <th></th>\n",
       "      <th>tweet</th>\n",
       "      <th>emoji</th>\n",
       "      <th>unique_emoji_count</th>\n",
       "      <th>sentiment_score</th>\n",
       "    </tr>\n",
       "  </thead>\n",
       "  <tbody>\n",
       "    <tr>\n",
       "      <th>0</th>\n",
       "      <td>\" cause hm? well, maybe \\nchange is needed. yo...</td>\n",
       "      <td></td>\n",
       "      <td>0</td>\n",
       "      <td>0.3818</td>\n",
       "    </tr>\n",
       "    <tr>\n",
       "      <th>1</th>\n",
       "      <td>\" well, i will 𝙨𝙩𝙞𝙡𝙡 thank you for it.  ~\\n\\na...</td>\n",
       "      <td></td>\n",
       "      <td>0</td>\n",
       "      <td>0.8555</td>\n",
       "    </tr>\n",
       "    <tr>\n",
       "      <th>2</th>\n",
       "      <td>\"'One day, honest citizens are going to stand ...</td>\n",
       "      <td>🤣</td>\n",
       "      <td>1</td>\n",
       "      <td>0.8288</td>\n",
       "    </tr>\n",
       "    <tr>\n",
       "      <th>3</th>\n",
       "      <td>\"...You are not alone.\\nThere's a place where ...</td>\n",
       "      <td>🎶🎶🎼</td>\n",
       "      <td>2</td>\n",
       "      <td>-0.0926</td>\n",
       "    </tr>\n",
       "    <tr>\n",
       "      <th>4</th>\n",
       "      <td>\"5 Books That Changed My Life As An Investor\"....</td>\n",
       "      <td>👏</td>\n",
       "      <td>1</td>\n",
       "      <td>0.5719</td>\n",
       "    </tr>\n",
       "  </tbody>\n",
       "</table>\n",
       "</div>"
      ],
      "text/plain": [
       "                                               tweet emoji  \\\n",
       "0  \" cause hm? well, maybe \\nchange is needed. yo...         \n",
       "1  \" well, i will 𝙨𝙩𝙞𝙡𝙡 thank you for it.  ~\\n\\na...         \n",
       "2  \"'One day, honest citizens are going to stand ...     🤣   \n",
       "3  \"...You are not alone.\\nThere's a place where ...   🎶🎶🎼   \n",
       "4  \"5 Books That Changed My Life As An Investor\"....     👏   \n",
       "\n",
       "   unique_emoji_count  sentiment_score  \n",
       "0                   0           0.3818  \n",
       "1                   0           0.8555  \n",
       "2                   1           0.8288  \n",
       "3                   2          -0.0926  \n",
       "4                   1           0.5719  "
      ]
     },
     "execution_count": 615,
     "metadata": {},
     "output_type": "execute_result"
    }
   ],
   "source": [
    "df.head()"
   ]
  },
  {
   "cell_type": "code",
   "execution_count": 616,
   "metadata": {},
   "outputs": [],
   "source": [
    "df['tweet'] = df.tweet.apply(remove_emojis)"
   ]
  },
  {
   "cell_type": "code",
   "execution_count": 617,
   "metadata": {},
   "outputs": [
    {
     "data": {
      "text/html": [
       "<div>\n",
       "<style scoped>\n",
       "    .dataframe tbody tr th:only-of-type {\n",
       "        vertical-align: middle;\n",
       "    }\n",
       "\n",
       "    .dataframe tbody tr th {\n",
       "        vertical-align: top;\n",
       "    }\n",
       "\n",
       "    .dataframe thead th {\n",
       "        text-align: right;\n",
       "    }\n",
       "</style>\n",
       "<table border=\"1\" class=\"dataframe\">\n",
       "  <thead>\n",
       "    <tr style=\"text-align: right;\">\n",
       "      <th></th>\n",
       "      <th>tweet</th>\n",
       "      <th>emoji</th>\n",
       "      <th>unique_emoji_count</th>\n",
       "      <th>sentiment_score</th>\n",
       "    </tr>\n",
       "  </thead>\n",
       "  <tbody>\n",
       "    <tr>\n",
       "      <th>0</th>\n",
       "      <td>cause hm well maybe change is needed you ve sh...</td>\n",
       "      <td></td>\n",
       "      <td>0</td>\n",
       "      <td>0.3818</td>\n",
       "    </tr>\n",
       "    <tr>\n",
       "      <th>1</th>\n",
       "      <td>well i will 𝙨𝙩𝙞𝙡𝙡 thank you for it and i can g...</td>\n",
       "      <td></td>\n",
       "      <td>0</td>\n",
       "      <td>0.8555</td>\n",
       "    </tr>\n",
       "    <tr>\n",
       "      <th>2</th>\n",
       "      <td>One day honest citizens are going to stand up ...</td>\n",
       "      <td>🤣</td>\n",
       "      <td>1</td>\n",
       "      <td>0.8288</td>\n",
       "    </tr>\n",
       "    <tr>\n",
       "      <th>3</th>\n",
       "      <td>You are not alone There s a place where FEAR h...</td>\n",
       "      <td>🎶🎶🎼</td>\n",
       "      <td>2</td>\n",
       "      <td>-0.0926</td>\n",
       "    </tr>\n",
       "    <tr>\n",
       "      <th>4</th>\n",
       "      <td>5 Books That Changed My Life As An Investor Ex...</td>\n",
       "      <td>👏</td>\n",
       "      <td>1</td>\n",
       "      <td>0.5719</td>\n",
       "    </tr>\n",
       "  </tbody>\n",
       "</table>\n",
       "</div>"
      ],
      "text/plain": [
       "                                               tweet emoji  \\\n",
       "0  cause hm well maybe change is needed you ve sh...         \n",
       "1  well i will 𝙨𝙩𝙞𝙡𝙡 thank you for it and i can g...         \n",
       "2  One day honest citizens are going to stand up ...     🤣   \n",
       "3  You are not alone There s a place where FEAR h...   🎶🎶🎼   \n",
       "4  5 Books That Changed My Life As An Investor Ex...     👏   \n",
       "\n",
       "   unique_emoji_count  sentiment_score  \n",
       "0                   0           0.3818  \n",
       "1                   0           0.8555  \n",
       "2                   1           0.8288  \n",
       "3                   2          -0.0926  \n",
       "4                   1           0.5719  "
      ]
     },
     "execution_count": 617,
     "metadata": {},
     "output_type": "execute_result"
    }
   ],
   "source": [
    "df.head()"
   ]
  },
  {
   "cell_type": "code",
   "execution_count": 618,
   "metadata": {},
   "outputs": [],
   "source": [
    "#df['emoji'] = df.emoji.apply(condence_emojis)"
   ]
  },
  {
   "cell_type": "code",
   "execution_count": 619,
   "metadata": {},
   "outputs": [
    {
     "data": {
      "text/plain": [
       "0"
      ]
     },
     "execution_count": 619,
     "metadata": {},
     "output_type": "execute_result"
    }
   ],
   "source": [
    "df.emoji.isna().sum()"
   ]
  },
  {
   "cell_type": "code",
   "execution_count": 620,
   "metadata": {},
   "outputs": [],
   "source": [
    "df.dropna(inplace=True)"
   ]
  },
  {
   "cell_type": "code",
   "execution_count": 621,
   "metadata": {},
   "outputs": [
    {
     "data": {
      "text/plain": [
       "tweet                 0\n",
       "emoji                 0\n",
       "unique_emoji_count    0\n",
       "sentiment_score       0\n",
       "dtype: int64"
      ]
     },
     "execution_count": 621,
     "metadata": {},
     "output_type": "execute_result"
    }
   ],
   "source": [
    "df.isna().sum()"
   ]
  },
  {
   "cell_type": "code",
   "execution_count": 622,
   "metadata": {},
   "outputs": [],
   "source": [
    "df = df[df.unique_emoji_count > 0]"
   ]
  },
  {
   "cell_type": "code",
   "execution_count": 623,
   "metadata": {},
   "outputs": [],
   "source": [
    "df.reset_index(inplace=True)"
   ]
  },
  {
   "cell_type": "code",
   "execution_count": 626,
   "metadata": {},
   "outputs": [],
   "source": [
    "# Creating a dataframe of singular emojis to the average sentiment score they obtain\n",
    "df2 = df.copy()\n",
    "df2 = df2[df2.unique_emoji_count == 1]\n",
    "df2['emoji'] = df2.emoji.apply(condence_emojis)\n",
    "emoji_sentiment_mappings = df2[['emoji', 'sentiment_score']].groupby('emoji').mean()"
   ]
  },
  {
   "cell_type": "code",
   "execution_count": 632,
   "metadata": {},
   "outputs": [],
   "source": [
    "df['top_emoji'] = df.emoji.apply(impute_top_emoji)"
   ]
  },
  {
   "cell_type": "code",
   "execution_count": 634,
   "metadata": {},
   "outputs": [],
   "source": [
    "df.drop([\"unique_emoji_count\", \"emoji\"], axis=1, inplace=True)\n",
    "df.drop('index', axis=1, inplace=True)"
   ]
  },
  {
   "cell_type": "code",
   "execution_count": 642,
   "metadata": {},
   "outputs": [
    {
     "data": {
      "text/html": [
       "<div>\n",
       "<style scoped>\n",
       "    .dataframe tbody tr th:only-of-type {\n",
       "        vertical-align: middle;\n",
       "    }\n",
       "\n",
       "    .dataframe tbody tr th {\n",
       "        vertical-align: top;\n",
       "    }\n",
       "\n",
       "    .dataframe thead th {\n",
       "        text-align: right;\n",
       "    }\n",
       "</style>\n",
       "<table border=\"1\" class=\"dataframe\">\n",
       "  <thead>\n",
       "    <tr style=\"text-align: right;\">\n",
       "      <th></th>\n",
       "      <th>sentiment_score</th>\n",
       "    </tr>\n",
       "    <tr>\n",
       "      <th>emoji</th>\n",
       "      <th></th>\n",
       "    </tr>\n",
       "  </thead>\n",
       "  <tbody>\n",
       "    <tr>\n",
       "      <th>🕵</th>\n",
       "      <td>-0.9300</td>\n",
       "    </tr>\n",
       "    <tr>\n",
       "      <th>🐇</th>\n",
       "      <td>-0.8830</td>\n",
       "    </tr>\n",
       "    <tr>\n",
       "      <th>🚁</th>\n",
       "      <td>-0.8760</td>\n",
       "    </tr>\n",
       "    <tr>\n",
       "      <th>🍵</th>\n",
       "      <td>-0.8618</td>\n",
       "    </tr>\n",
       "    <tr>\n",
       "      <th>👮</th>\n",
       "      <td>-0.8225</td>\n",
       "    </tr>\n",
       "    <tr>\n",
       "      <th>🇫</th>\n",
       "      <td>-0.8074</td>\n",
       "    </tr>\n",
       "    <tr>\n",
       "      <th>🏳</th>\n",
       "      <td>-0.8034</td>\n",
       "    </tr>\n",
       "    <tr>\n",
       "      <th>👐</th>\n",
       "      <td>-0.7885</td>\n",
       "    </tr>\n",
       "    <tr>\n",
       "      <th>🥚</th>\n",
       "      <td>-0.7509</td>\n",
       "    </tr>\n",
       "    <tr>\n",
       "      <th>🐀</th>\n",
       "      <td>-0.7430</td>\n",
       "    </tr>\n",
       "  </tbody>\n",
       "</table>\n",
       "</div>"
      ],
      "text/plain": [
       "       sentiment_score\n",
       "emoji                 \n",
       "🕵              -0.9300\n",
       "🐇              -0.8830\n",
       "🚁              -0.8760\n",
       "🍵              -0.8618\n",
       "👮              -0.8225\n",
       "🇫              -0.8074\n",
       "🏳              -0.8034\n",
       "👐              -0.7885\n",
       "🥚              -0.7509\n",
       "🐀              -0.7430"
      ]
     },
     "execution_count": 642,
     "metadata": {},
     "output_type": "execute_result"
    }
   ],
   "source": [
    "emoji_sentiment_mappings.sort_values(by='sentiment_score')[0:10]"
   ]
  },
  {
   "cell_type": "code",
   "execution_count": 650,
   "metadata": {},
   "outputs": [],
   "source": [
    "emoji_counts = dict(df.top_emoji.value_counts())"
   ]
  },
  {
   "cell_type": "code",
   "execution_count": 654,
   "metadata": {},
   "outputs": [],
   "source": [
    "df['emoji_frequency'] = df.top_emoji.map(emoji_counts)"
   ]
  },
  {
   "cell_type": "code",
   "execution_count": 657,
   "metadata": {},
   "outputs": [
    {
     "data": {
      "text/html": [
       "<div>\n",
       "<style scoped>\n",
       "    .dataframe tbody tr th:only-of-type {\n",
       "        vertical-align: middle;\n",
       "    }\n",
       "\n",
       "    .dataframe tbody tr th {\n",
       "        vertical-align: top;\n",
       "    }\n",
       "\n",
       "    .dataframe thead th {\n",
       "        text-align: right;\n",
       "    }\n",
       "</style>\n",
       "<table border=\"1\" class=\"dataframe\">\n",
       "  <thead>\n",
       "    <tr style=\"text-align: right;\">\n",
       "      <th></th>\n",
       "      <th>tweet</th>\n",
       "      <th>sentiment_score</th>\n",
       "      <th>top_emoji</th>\n",
       "      <th>emoji_frequency</th>\n",
       "    </tr>\n",
       "  </thead>\n",
       "  <tbody>\n",
       "    <tr>\n",
       "      <th>0</th>\n",
       "      <td>One day honest citizens are going to stand up ...</td>\n",
       "      <td>0.8288</td>\n",
       "      <td>🤣</td>\n",
       "      <td>988</td>\n",
       "    </tr>\n",
       "    <tr>\n",
       "      <th>1</th>\n",
       "      <td>You are not alone There s a place where FEAR h...</td>\n",
       "      <td>-0.0926</td>\n",
       "      <td>🎶</td>\n",
       "      <td>63</td>\n",
       "    </tr>\n",
       "    <tr>\n",
       "      <th>2</th>\n",
       "      <td>5 Books That Changed My Life As An Investor Ex...</td>\n",
       "      <td>0.5719</td>\n",
       "      <td>👏</td>\n",
       "      <td>169</td>\n",
       "    </tr>\n",
       "    <tr>\n",
       "      <th>3</th>\n",
       "      <td>8616 new cases in 24 hours it s scary stay saf...</td>\n",
       "      <td>-0.0772</td>\n",
       "      <td>🤍</td>\n",
       "      <td>56</td>\n",
       "    </tr>\n",
       "    <tr>\n",
       "      <th>4</th>\n",
       "      <td>absolutely losing it over this picture of my b...</td>\n",
       "      <td>0.7187</td>\n",
       "      <td>💕</td>\n",
       "      <td>206</td>\n",
       "    </tr>\n",
       "    <tr>\n",
       "      <th>...</th>\n",
       "      <td>...</td>\n",
       "      <td>...</td>\n",
       "      <td>...</td>\n",
       "      <td>...</td>\n",
       "    </tr>\n",
       "    <tr>\n",
       "      <th>26962</th>\n",
       "      <td>IncredibleEdibleWrecsam would Wrexham folk to ...</td>\n",
       "      <td>0.9899</td>\n",
       "      <td>💚</td>\n",
       "      <td>84</td>\n",
       "    </tr>\n",
       "    <tr>\n",
       "      <th>26963</th>\n",
       "      <td>IncredibleEdibleWrecsam would Wrexham folk to ...</td>\n",
       "      <td>0.9899</td>\n",
       "      <td>💚</td>\n",
       "      <td>84</td>\n",
       "    </tr>\n",
       "    <tr>\n",
       "      <th>26964</th>\n",
       "      <td>LOL no sympathy for ChickfilA enjoy your loote...</td>\n",
       "      <td>0.9943</td>\n",
       "      <td>🤣</td>\n",
       "      <td>988</td>\n",
       "    </tr>\n",
       "    <tr>\n",
       "      <th>26965</th>\n",
       "      <td>Says the person who is able to walk past the d...</td>\n",
       "      <td>0.9911</td>\n",
       "      <td>😂</td>\n",
       "      <td>2717</td>\n",
       "    </tr>\n",
       "    <tr>\n",
       "      <th>26966</th>\n",
       "      <td>Liverpool fans kill me clowns https t co Bbtk1...</td>\n",
       "      <td>0.9972</td>\n",
       "      <td>🤣</td>\n",
       "      <td>988</td>\n",
       "    </tr>\n",
       "  </tbody>\n",
       "</table>\n",
       "<p>26967 rows × 4 columns</p>\n",
       "</div>"
      ],
      "text/plain": [
       "                                                   tweet  sentiment_score  \\\n",
       "0      One day honest citizens are going to stand up ...           0.8288   \n",
       "1      You are not alone There s a place where FEAR h...          -0.0926   \n",
       "2      5 Books That Changed My Life As An Investor Ex...           0.5719   \n",
       "3      8616 new cases in 24 hours it s scary stay saf...          -0.0772   \n",
       "4      absolutely losing it over this picture of my b...           0.7187   \n",
       "...                                                  ...              ...   \n",
       "26962  IncredibleEdibleWrecsam would Wrexham folk to ...           0.9899   \n",
       "26963  IncredibleEdibleWrecsam would Wrexham folk to ...           0.9899   \n",
       "26964  LOL no sympathy for ChickfilA enjoy your loote...           0.9943   \n",
       "26965  Says the person who is able to walk past the d...           0.9911   \n",
       "26966  Liverpool fans kill me clowns https t co Bbtk1...           0.9972   \n",
       "\n",
       "      top_emoji  emoji_frequency  \n",
       "0             🤣              988  \n",
       "1             🎶               63  \n",
       "2             👏              169  \n",
       "3             🤍               56  \n",
       "4             💕              206  \n",
       "...         ...              ...  \n",
       "26962         💚               84  \n",
       "26963         💚               84  \n",
       "26964         🤣              988  \n",
       "26965         😂             2717  \n",
       "26966         🤣              988  \n",
       "\n",
       "[26967 rows x 4 columns]"
      ]
     },
     "execution_count": 657,
     "metadata": {},
     "output_type": "execute_result"
    }
   ],
   "source": [
    "df"
   ]
  },
  {
   "cell_type": "code",
   "execution_count": null,
   "metadata": {},
   "outputs": [],
   "source": []
  }
 ],
 "metadata": {
  "kernelspec": {
   "display_name": "Python 3",
   "language": "python",
   "name": "python3"
  },
  "language_info": {
   "codemirror_mode": {
    "name": "ipython",
    "version": 3
   },
   "file_extension": ".py",
   "mimetype": "text/x-python",
   "name": "python",
   "nbconvert_exporter": "python",
   "pygments_lexer": "ipython3",
   "version": "3.8.3"
  }
 },
 "nbformat": 4,
 "nbformat_minor": 4
}
