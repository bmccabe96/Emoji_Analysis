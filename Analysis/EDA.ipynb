{
 "cells": [
  {
   "cell_type": "markdown",
   "metadata": {},
   "source": [
    "# 1: Import Packages and Define Functions"
   ]
  },
  {
   "cell_type": "code",
   "execution_count": 667,
   "metadata": {},
   "outputs": [],
   "source": [
    "# Import some libraries that will be used\n",
    "import pandas as pd\n",
    "import numpy as np\n",
    "import matplotlib.pyplot as plt\n",
    "import seaborn as sns\n",
    "import mysql.connector\n",
    "import sys\n",
    "sys.path.insert(1, '/Users/brianmccabe/DataScience/Flatiron/mod5/Emoji_Analysis/Scripts/')\n",
    "import config\n",
    "\n",
    "\n",
    "\n",
    "pd.set_option('display.max_columns', 300)\n",
    "\n",
    "%matplotlib inline"
   ]
  },
  {
   "cell_type": "code",
   "execution_count": 668,
   "metadata": {},
   "outputs": [
    {
     "name": "stderr",
     "output_type": "stream",
     "text": [
      "[nltk_data] Downloading package stopwords to\n",
      "[nltk_data]     /Users/brianmccabe/nltk_data...\n",
      "[nltk_data]   Package stopwords is already up-to-date!\n",
      "[nltk_data] Downloading package punkt to\n",
      "[nltk_data]     /Users/brianmccabe/nltk_data...\n",
      "[nltk_data]   Package punkt is already up-to-date!\n",
      "[nltk_data] Downloading package wordnet to\n",
      "[nltk_data]     /Users/brianmccabe/nltk_data...\n",
      "[nltk_data]   Package wordnet is already up-to-date!\n"
     ]
    },
    {
     "data": {
      "text/plain": [
       "True"
      ]
     },
     "execution_count": 668,
     "metadata": {},
     "output_type": "execute_result"
    }
   ],
   "source": [
    "import nltk\n",
    "from sklearn.feature_extraction.text import CountVectorizer\n",
    "from sklearn.feature_extraction.text import TfidfVectorizer\n",
    "from sklearn.feature_extraction.text import TfidfTransformer\n",
    "from nltk.probability import FreqDist\n",
    "from nltk.corpus import stopwords\n",
    "from nltk.stem import PorterStemmer\n",
    "from sklearn.metrics import confusion_matrix\n",
    "from sklearn.naive_bayes import MultinomialNB, BernoulliNB\n",
    "from sklearn import metrics\n",
    "from sklearn.model_selection import train_test_split\n",
    "from matplotlib import cm\n",
    "import numpy as np\n",
    "from sklearn.ensemble import RandomForestClassifier\n",
    "from sklearn.metrics import accuracy_score\n",
    "from sklearn.metrics import f1_score\n",
    "from sklearn.naive_bayes import MultinomialNB\n",
    "import string\n",
    "import scipy\n",
    "import emoji\n",
    "from vaderSentiment.vaderSentiment import SentimentIntensityAnalyzer\n",
    "import re\n",
    "\n",
    "nltk.download('stopwords')\n",
    "nltk.download('punkt')\n",
    "nltk.download('wordnet')"
   ]
  },
  {
   "cell_type": "code",
   "execution_count": 669,
   "metadata": {},
   "outputs": [],
   "source": [
    "def extract_emojis(s):\n",
    "    return ''.join(c for c in s if c in emoji.UNICODE_EMOJI)"
   ]
  },
  {
   "cell_type": "code",
   "execution_count": 670,
   "metadata": {},
   "outputs": [],
   "source": [
    "def check_for_flags(s):\n",
    "    s = str(s)\n",
    "    has_flag = False\n",
    "    for flag in flags:\n",
    "        if flag in s:\n",
    "            has_flag = True\n",
    "    return has_flag"
   ]
  },
  {
   "cell_type": "code",
   "execution_count": 671,
   "metadata": {},
   "outputs": [],
   "source": [
    "def unique_emoji_count(s):\n",
    "    return len(set([c for c in s]))"
   ]
  },
  {
   "cell_type": "code",
   "execution_count": 672,
   "metadata": {},
   "outputs": [],
   "source": [
    "def condence_emojis(s):\n",
    "    try:\n",
    "        return set(s).pop()\n",
    "    except:\n",
    "        return None"
   ]
  },
  {
   "cell_type": "code",
   "execution_count": 673,
   "metadata": {},
   "outputs": [],
   "source": [
    "analyzer = SentimentIntensityAnalyzer()\n",
    "def sentiment_scores(s):\n",
    "    return analyzer.polarity_scores(s)['compound']"
   ]
  },
  {
   "cell_type": "code",
   "execution_count": 674,
   "metadata": {},
   "outputs": [],
   "source": [
    "def remove_emojis(s):\n",
    "    pattern = \"\\w+\"\n",
    "    return ' '.join(re.findall(pattern, s))"
   ]
  },
  {
   "cell_type": "code",
   "execution_count": 675,
   "metadata": {},
   "outputs": [],
   "source": [
    "def impute_top_emoji(s, mappings = emoji_sentiment_mappings, data = df):\n",
    "    val = df[df.emoji == s].sentiment_score.values[0]\n",
    "    s = list(set(s))\n",
    "    closest = 100\n",
    "    top = s[0]\n",
    "    for i in range(0, len(s)):\n",
    "        try:\n",
    "            if abs(val - emoji_sentiment_mappings.loc[s[i]].sentiment_score) < closest:\n",
    "                closest = abs(val - emoji_sentiment_mappings.loc[s[i]].sentiment_score)\n",
    "                top = s[i]\n",
    "        except:\n",
    "            continue\n",
    "    return top"
   ]
  },
  {
   "cell_type": "markdown",
   "metadata": {},
   "source": [
    "# 2: Load in the Data and Clean"
   ]
  },
  {
   "cell_type": "code",
   "execution_count": 676,
   "metadata": {},
   "outputs": [],
   "source": [
    "connection = mysql.connector.connect(host=config.host,\n",
    "                                         user=config.user,\n",
    "                                         port=config.port,\n",
    "                                         password=config.password,\n",
    "                                         database=config.database,\n",
    "                                         auth_plugin='mysql_native_password')\n",
    "\n",
    "cursor = connection.cursor()\n",
    "query = \"SELECT tweet FROM Tweets WHERE HEX(tweet) RLIKE '^(..)*F.'\"\n",
    "\n",
    "df = pd.read_sql(query, connection)"
   ]
  },
  {
   "cell_type": "code",
   "execution_count": 677,
   "metadata": {},
   "outputs": [],
   "source": [
    "df['emoji'] = df.tweet.apply(extract_emojis)"
   ]
  },
  {
   "cell_type": "code",
   "execution_count": 678,
   "metadata": {
    "scrolled": true
   },
   "outputs": [
    {
     "data": {
      "text/plain": [
       "'🤣😭'"
      ]
     },
     "execution_count": 678,
     "metadata": {},
     "output_type": "execute_result"
    }
   ],
   "source": [
    "# remove white spaces in emoji column since they mess up unique emoji count below...\n",
    "df.emoji.apply(str.strip).loc[9]"
   ]
  },
  {
   "cell_type": "code",
   "execution_count": 679,
   "metadata": {},
   "outputs": [
    {
     "data": {
      "text/plain": [
       "['🤣', '😭']"
      ]
     },
     "execution_count": 679,
     "metadata": {},
     "output_type": "execute_result"
    }
   ],
   "source": [
    "# We can see that emoji flags have strange representations. I will remove them from the dataset.\n",
    "[c for c in df.emoji.loc[9]]"
   ]
  },
  {
   "cell_type": "code",
   "execution_count": 680,
   "metadata": {},
   "outputs": [],
   "source": [
    "import flag\n",
    "from bs4 import BeautifulSoup\n",
    "import requests"
   ]
  },
  {
   "cell_type": "code",
   "execution_count": 681,
   "metadata": {},
   "outputs": [],
   "source": [
    "url = 'https://en.wikipedia.org/wiki/Regional_indicator_symbol'\n",
    "page = requests.get(url)\n",
    "soup = BeautifulSoup(page.content, 'html.parser')"
   ]
  },
  {
   "cell_type": "code",
   "execution_count": 682,
   "metadata": {},
   "outputs": [
    {
     "data": {
      "text/plain": [
       "['🇦🇨', '🇦🇩', '🇦🇪', '🇦🇫', '🇦🇬']"
      ]
     },
     "execution_count": 682,
     "metadata": {},
     "output_type": "execute_result"
    }
   ],
   "source": [
    "flags = []\n",
    "skip_first = 0\n",
    "for item in soup.find('tbody').find_all('tr'):\n",
    "    if skip_first == 0:\n",
    "        skip_first += 1\n",
    "        continue\n",
    "    flagcode = item.find_all('td')[1].text\n",
    "    flags.append(flag.flag(flagcode))\n",
    "\n",
    "flags[0:5]    "
   ]
  },
  {
   "cell_type": "code",
   "execution_count": 683,
   "metadata": {},
   "outputs": [
    {
     "data": {
      "text/plain": [
       "False    27311\n",
       "True      1001\n",
       "Name: emoji, dtype: int64"
      ]
     },
     "execution_count": 683,
     "metadata": {},
     "output_type": "execute_result"
    }
   ],
   "source": [
    "df.emoji.apply(check_for_flags).value_counts()"
   ]
  },
  {
   "cell_type": "code",
   "execution_count": 684,
   "metadata": {},
   "outputs": [],
   "source": [
    "df['has_flag'] = df.emoji.apply(check_for_flags)\n",
    "df = df[df.has_flag == False]\n",
    "df.drop('has_flag', axis=1, inplace=True)"
   ]
  },
  {
   "cell_type": "code",
   "execution_count": 685,
   "metadata": {},
   "outputs": [],
   "source": [
    "df['unique_emoji_count'] = df.emoji.apply(unique_emoji_count)"
   ]
  },
  {
   "cell_type": "code",
   "execution_count": 686,
   "metadata": {},
   "outputs": [],
   "source": [
    "df['sentiment_score'] = df.tweet.apply(sentiment_scores)"
   ]
  },
  {
   "cell_type": "code",
   "execution_count": 687,
   "metadata": {},
   "outputs": [],
   "source": [
    "df['tweet'] = df.tweet.apply(remove_emojis)"
   ]
  },
  {
   "cell_type": "code",
   "execution_count": 688,
   "metadata": {},
   "outputs": [
    {
     "data": {
      "text/plain": [
       "0"
      ]
     },
     "execution_count": 688,
     "metadata": {},
     "output_type": "execute_result"
    }
   ],
   "source": [
    "df.emoji.isna().sum()"
   ]
  },
  {
   "cell_type": "code",
   "execution_count": 689,
   "metadata": {},
   "outputs": [],
   "source": [
    "df.dropna(inplace=True)"
   ]
  },
  {
   "cell_type": "code",
   "execution_count": 690,
   "metadata": {},
   "outputs": [
    {
     "data": {
      "text/plain": [
       "tweet                 0\n",
       "emoji                 0\n",
       "unique_emoji_count    0\n",
       "sentiment_score       0\n",
       "dtype: int64"
      ]
     },
     "execution_count": 690,
     "metadata": {},
     "output_type": "execute_result"
    }
   ],
   "source": [
    "df.isna().sum()"
   ]
  },
  {
   "cell_type": "code",
   "execution_count": 691,
   "metadata": {},
   "outputs": [],
   "source": [
    "df = df[df.unique_emoji_count > 0]"
   ]
  },
  {
   "cell_type": "code",
   "execution_count": 692,
   "metadata": {},
   "outputs": [],
   "source": [
    "df.reset_index(inplace=True)"
   ]
  },
  {
   "cell_type": "code",
   "execution_count": 693,
   "metadata": {},
   "outputs": [],
   "source": [
    "# Creating a dataframe of singular emojis to the average sentiment score they obtain\n",
    "df2 = df.copy()\n",
    "df2 = df2[df2.unique_emoji_count == 1]\n",
    "df2['emoji'] = df2.emoji.apply(condence_emojis)\n",
    "emoji_sentiment_mappings = df2[['emoji', 'sentiment_score']].groupby('emoji').mean()"
   ]
  },
  {
   "cell_type": "code",
   "execution_count": 694,
   "metadata": {},
   "outputs": [],
   "source": [
    "df['top_emoji'] = df.emoji.apply(impute_top_emoji)"
   ]
  },
  {
   "cell_type": "code",
   "execution_count": 695,
   "metadata": {},
   "outputs": [],
   "source": [
    "df.drop([\"unique_emoji_count\", \"emoji\"], axis=1, inplace=True)\n",
    "df.drop('index', axis=1, inplace=True)"
   ]
  },
  {
   "cell_type": "code",
   "execution_count": 696,
   "metadata": {},
   "outputs": [],
   "source": [
    "emoji_counts = dict(df.top_emoji.value_counts())"
   ]
  },
  {
   "cell_type": "code",
   "execution_count": 697,
   "metadata": {},
   "outputs": [],
   "source": [
    "df['emoji_frequency'] = df.top_emoji.map(emoji_counts)"
   ]
  },
  {
   "cell_type": "code",
   "execution_count": 698,
   "metadata": {},
   "outputs": [
    {
     "data": {
      "text/html": [
       "<div>\n",
       "<style scoped>\n",
       "    .dataframe tbody tr th:only-of-type {\n",
       "        vertical-align: middle;\n",
       "    }\n",
       "\n",
       "    .dataframe tbody tr th {\n",
       "        vertical-align: top;\n",
       "    }\n",
       "\n",
       "    .dataframe thead th {\n",
       "        text-align: right;\n",
       "    }\n",
       "</style>\n",
       "<table border=\"1\" class=\"dataframe\">\n",
       "  <thead>\n",
       "    <tr style=\"text-align: right;\">\n",
       "      <th></th>\n",
       "      <th>tweet</th>\n",
       "      <th>sentiment_score</th>\n",
       "      <th>top_emoji</th>\n",
       "      <th>emoji_frequency</th>\n",
       "    </tr>\n",
       "  </thead>\n",
       "  <tbody>\n",
       "    <tr>\n",
       "      <th>0</th>\n",
       "      <td>One day honest citizens are going to stand up ...</td>\n",
       "      <td>0.8288</td>\n",
       "      <td>🤣</td>\n",
       "      <td>992</td>\n",
       "    </tr>\n",
       "    <tr>\n",
       "      <th>1</th>\n",
       "      <td>You are not alone There s a place where FEAR h...</td>\n",
       "      <td>-0.0926</td>\n",
       "      <td>🎶</td>\n",
       "      <td>61</td>\n",
       "    </tr>\n",
       "    <tr>\n",
       "      <th>2</th>\n",
       "      <td>5 Books That Changed My Life As An Investor Ex...</td>\n",
       "      <td>0.5719</td>\n",
       "      <td>👏</td>\n",
       "      <td>177</td>\n",
       "    </tr>\n",
       "    <tr>\n",
       "      <th>3</th>\n",
       "      <td>8616 new cases in 24 hours it s scary stay saf...</td>\n",
       "      <td>-0.0772</td>\n",
       "      <td>🤍</td>\n",
       "      <td>56</td>\n",
       "    </tr>\n",
       "    <tr>\n",
       "      <th>4</th>\n",
       "      <td>absolutely losing it over this picture of my b...</td>\n",
       "      <td>0.7187</td>\n",
       "      <td>💕</td>\n",
       "      <td>207</td>\n",
       "    </tr>\n",
       "  </tbody>\n",
       "</table>\n",
       "</div>"
      ],
      "text/plain": [
       "                                               tweet  sentiment_score  \\\n",
       "0  One day honest citizens are going to stand up ...           0.8288   \n",
       "1  You are not alone There s a place where FEAR h...          -0.0926   \n",
       "2  5 Books That Changed My Life As An Investor Ex...           0.5719   \n",
       "3  8616 new cases in 24 hours it s scary stay saf...          -0.0772   \n",
       "4  absolutely losing it over this picture of my b...           0.7187   \n",
       "\n",
       "  top_emoji  emoji_frequency  \n",
       "0         🤣              992  \n",
       "1         🎶               61  \n",
       "2         👏              177  \n",
       "3         🤍               56  \n",
       "4         💕              207  "
      ]
     },
     "execution_count": 698,
     "metadata": {},
     "output_type": "execute_result"
    }
   ],
   "source": [
    "df.head()"
   ]
  },
  {
   "cell_type": "markdown",
   "metadata": {},
   "source": [
    "# 3. Explore the Data and Create Initial Insights"
   ]
  },
  {
   "cell_type": "code",
   "execution_count": 699,
   "metadata": {},
   "outputs": [
    {
     "data": {
      "text/plain": [
       "count    27184.000000\n",
       "mean       562.530312\n",
       "std        841.303087\n",
       "min          1.000000\n",
       "25%         61.000000\n",
       "50%        204.000000\n",
       "75%        453.000000\n",
       "max       2730.000000\n",
       "Name: emoji_frequency, dtype: float64"
      ]
     },
     "execution_count": 699,
     "metadata": {},
     "output_type": "execute_result"
    }
   ],
   "source": [
    "df.emoji_frequency.describe()"
   ]
  },
  {
   "cell_type": "code",
   "execution_count": 700,
   "metadata": {},
   "outputs": [],
   "source": [
    "emojis = df[df.emoji_frequency>60].groupby('top_emoji')[['sentiment_score', 'emoji_frequency']].mean()"
   ]
  },
  {
   "cell_type": "code",
   "execution_count": 701,
   "metadata": {},
   "outputs": [
    {
     "data": {
      "text/html": [
       "<div>\n",
       "<style scoped>\n",
       "    .dataframe tbody tr th:only-of-type {\n",
       "        vertical-align: middle;\n",
       "    }\n",
       "\n",
       "    .dataframe tbody tr th {\n",
       "        vertical-align: top;\n",
       "    }\n",
       "\n",
       "    .dataframe thead th {\n",
       "        text-align: right;\n",
       "    }\n",
       "</style>\n",
       "<table border=\"1\" class=\"dataframe\">\n",
       "  <thead>\n",
       "    <tr style=\"text-align: right;\">\n",
       "      <th></th>\n",
       "      <th>sentiment_score</th>\n",
       "      <th>emoji_frequency</th>\n",
       "    </tr>\n",
       "    <tr>\n",
       "      <th>top_emoji</th>\n",
       "      <th></th>\n",
       "      <th></th>\n",
       "    </tr>\n",
       "  </thead>\n",
       "  <tbody>\n",
       "    <tr>\n",
       "      <th>😱</th>\n",
       "      <td>-0.716108</td>\n",
       "      <td>102</td>\n",
       "    </tr>\n",
       "    <tr>\n",
       "      <th>😞</th>\n",
       "      <td>-0.581378</td>\n",
       "      <td>109</td>\n",
       "    </tr>\n",
       "    <tr>\n",
       "      <th>😭</th>\n",
       "      <td>-0.538639</td>\n",
       "      <td>1741</td>\n",
       "    </tr>\n",
       "    <tr>\n",
       "      <th>😢</th>\n",
       "      <td>-0.523270</td>\n",
       "      <td>131</td>\n",
       "    </tr>\n",
       "    <tr>\n",
       "      <th>😫</th>\n",
       "      <td>-0.405080</td>\n",
       "      <td>75</td>\n",
       "    </tr>\n",
       "    <tr>\n",
       "      <th>😕</th>\n",
       "      <td>-0.380187</td>\n",
       "      <td>61</td>\n",
       "    </tr>\n",
       "    <tr>\n",
       "      <th>😬</th>\n",
       "      <td>-0.335974</td>\n",
       "      <td>132</td>\n",
       "    </tr>\n",
       "    <tr>\n",
       "      <th>😩</th>\n",
       "      <td>-0.321308</td>\n",
       "      <td>197</td>\n",
       "    </tr>\n",
       "    <tr>\n",
       "      <th>👻</th>\n",
       "      <td>-0.314107</td>\n",
       "      <td>224</td>\n",
       "    </tr>\n",
       "    <tr>\n",
       "      <th>💥</th>\n",
       "      <td>-0.310835</td>\n",
       "      <td>103</td>\n",
       "    </tr>\n",
       "    <tr>\n",
       "      <th>🔥</th>\n",
       "      <td>-0.303851</td>\n",
       "      <td>550</td>\n",
       "    </tr>\n",
       "    <tr>\n",
       "      <th>🤬</th>\n",
       "      <td>-0.270208</td>\n",
       "      <td>65</td>\n",
       "    </tr>\n",
       "    <tr>\n",
       "      <th>😡</th>\n",
       "      <td>-0.238805</td>\n",
       "      <td>126</td>\n",
       "    </tr>\n",
       "    <tr>\n",
       "      <th>😒</th>\n",
       "      <td>-0.175745</td>\n",
       "      <td>94</td>\n",
       "    </tr>\n",
       "    <tr>\n",
       "      <th>😪</th>\n",
       "      <td>-0.160462</td>\n",
       "      <td>64</td>\n",
       "    </tr>\n",
       "    <tr>\n",
       "      <th>🤢</th>\n",
       "      <td>-0.158746</td>\n",
       "      <td>74</td>\n",
       "    </tr>\n",
       "    <tr>\n",
       "      <th>🤮</th>\n",
       "      <td>-0.157808</td>\n",
       "      <td>61</td>\n",
       "    </tr>\n",
       "    <tr>\n",
       "      <th>😐</th>\n",
       "      <td>-0.122220</td>\n",
       "      <td>116</td>\n",
       "    </tr>\n",
       "    <tr>\n",
       "      <th>💀</th>\n",
       "      <td>-0.111013</td>\n",
       "      <td>275</td>\n",
       "    </tr>\n",
       "    <tr>\n",
       "      <th>😔</th>\n",
       "      <td>-0.083937</td>\n",
       "      <td>342</td>\n",
       "    </tr>\n",
       "    <tr>\n",
       "      <th>🤦</th>\n",
       "      <td>-0.054389</td>\n",
       "      <td>310</td>\n",
       "    </tr>\n",
       "    <tr>\n",
       "      <th>🙃</th>\n",
       "      <td>-0.050136</td>\n",
       "      <td>118</td>\n",
       "    </tr>\n",
       "    <tr>\n",
       "      <th>🙄</th>\n",
       "      <td>-0.037210</td>\n",
       "      <td>342</td>\n",
       "    </tr>\n",
       "    <tr>\n",
       "      <th>😳</th>\n",
       "      <td>-0.034736</td>\n",
       "      <td>228</td>\n",
       "    </tr>\n",
       "    <tr>\n",
       "      <th>🤷</th>\n",
       "      <td>-0.028749</td>\n",
       "      <td>278</td>\n",
       "    </tr>\n",
       "  </tbody>\n",
       "</table>\n",
       "</div>"
      ],
      "text/plain": [
       "           sentiment_score  emoji_frequency\n",
       "top_emoji                                  \n",
       "😱                -0.716108              102\n",
       "😞                -0.581378              109\n",
       "😭                -0.538639             1741\n",
       "😢                -0.523270              131\n",
       "😫                -0.405080               75\n",
       "😕                -0.380187               61\n",
       "😬                -0.335974              132\n",
       "😩                -0.321308              197\n",
       "👻                -0.314107              224\n",
       "💥                -0.310835              103\n",
       "🔥                -0.303851              550\n",
       "🤬                -0.270208               65\n",
       "😡                -0.238805              126\n",
       "😒                -0.175745               94\n",
       "😪                -0.160462               64\n",
       "🤢                -0.158746               74\n",
       "🤮                -0.157808               61\n",
       "😐                -0.122220              116\n",
       "💀                -0.111013              275\n",
       "😔                -0.083937              342\n",
       "🤦                -0.054389              310\n",
       "🙃                -0.050136              118\n",
       "🙄                -0.037210              342\n",
       "😳                -0.034736              228\n",
       "🤷                -0.028749              278"
      ]
     },
     "execution_count": 701,
     "metadata": {},
     "output_type": "execute_result"
    }
   ],
   "source": [
    "emojis.sort_values(by='sentiment_score')[0:25]"
   ]
  },
  {
   "cell_type": "code",
   "execution_count": 702,
   "metadata": {},
   "outputs": [
    {
     "data": {
      "text/html": [
       "<div>\n",
       "<style scoped>\n",
       "    .dataframe tbody tr th:only-of-type {\n",
       "        vertical-align: middle;\n",
       "    }\n",
       "\n",
       "    .dataframe tbody tr th {\n",
       "        vertical-align: top;\n",
       "    }\n",
       "\n",
       "    .dataframe thead th {\n",
       "        text-align: right;\n",
       "    }\n",
       "</style>\n",
       "<table border=\"1\" class=\"dataframe\">\n",
       "  <thead>\n",
       "    <tr style=\"text-align: right;\">\n",
       "      <th></th>\n",
       "      <th>sentiment_score</th>\n",
       "      <th>emoji_frequency</th>\n",
       "    </tr>\n",
       "    <tr>\n",
       "      <th>top_emoji</th>\n",
       "      <th></th>\n",
       "      <th></th>\n",
       "    </tr>\n",
       "  </thead>\n",
       "  <tbody>\n",
       "    <tr>\n",
       "      <th>💖</th>\n",
       "      <td>0.893985</td>\n",
       "      <td>161</td>\n",
       "    </tr>\n",
       "    <tr>\n",
       "      <th>🥰</th>\n",
       "      <td>0.865512</td>\n",
       "      <td>318</td>\n",
       "    </tr>\n",
       "    <tr>\n",
       "      <th>💜</th>\n",
       "      <td>0.834893</td>\n",
       "      <td>248</td>\n",
       "    </tr>\n",
       "    <tr>\n",
       "      <th>💗</th>\n",
       "      <td>0.824041</td>\n",
       "      <td>116</td>\n",
       "    </tr>\n",
       "    <tr>\n",
       "      <th>😊</th>\n",
       "      <td>0.822267</td>\n",
       "      <td>302</td>\n",
       "    </tr>\n",
       "    <tr>\n",
       "      <th>♥</th>\n",
       "      <td>0.816308</td>\n",
       "      <td>61</td>\n",
       "    </tr>\n",
       "    <tr>\n",
       "      <th>💙</th>\n",
       "      <td>0.796727</td>\n",
       "      <td>218</td>\n",
       "    </tr>\n",
       "    <tr>\n",
       "      <th>💕</th>\n",
       "      <td>0.784460</td>\n",
       "      <td>207</td>\n",
       "    </tr>\n",
       "    <tr>\n",
       "      <th>💚</th>\n",
       "      <td>0.770853</td>\n",
       "      <td>85</td>\n",
       "    </tr>\n",
       "    <tr>\n",
       "      <th>👌</th>\n",
       "      <td>0.770022</td>\n",
       "      <td>178</td>\n",
       "    </tr>\n",
       "    <tr>\n",
       "      <th>🖤</th>\n",
       "      <td>0.763830</td>\n",
       "      <td>117</td>\n",
       "    </tr>\n",
       "    <tr>\n",
       "      <th>😄</th>\n",
       "      <td>0.754393</td>\n",
       "      <td>89</td>\n",
       "    </tr>\n",
       "    <tr>\n",
       "      <th>🎉</th>\n",
       "      <td>0.744437</td>\n",
       "      <td>138</td>\n",
       "    </tr>\n",
       "    <tr>\n",
       "      <th>😍</th>\n",
       "      <td>0.709508</td>\n",
       "      <td>453</td>\n",
       "    </tr>\n",
       "    <tr>\n",
       "      <th>🤗</th>\n",
       "      <td>0.687030</td>\n",
       "      <td>105</td>\n",
       "    </tr>\n",
       "    <tr>\n",
       "      <th>😻</th>\n",
       "      <td>0.665715</td>\n",
       "      <td>74</td>\n",
       "    </tr>\n",
       "    <tr>\n",
       "      <th>😁</th>\n",
       "      <td>0.652686</td>\n",
       "      <td>273</td>\n",
       "    </tr>\n",
       "    <tr>\n",
       "      <th>🥳</th>\n",
       "      <td>0.637915</td>\n",
       "      <td>99</td>\n",
       "    </tr>\n",
       "    <tr>\n",
       "      <th>🤣</th>\n",
       "      <td>0.629809</td>\n",
       "      <td>992</td>\n",
       "    </tr>\n",
       "    <tr>\n",
       "      <th>😘</th>\n",
       "      <td>0.625916</td>\n",
       "      <td>80</td>\n",
       "    </tr>\n",
       "    <tr>\n",
       "      <th>🤭</th>\n",
       "      <td>0.625600</td>\n",
       "      <td>61</td>\n",
       "    </tr>\n",
       "    <tr>\n",
       "      <th>😎</th>\n",
       "      <td>0.612374</td>\n",
       "      <td>231</td>\n",
       "    </tr>\n",
       "    <tr>\n",
       "      <th>✨</th>\n",
       "      <td>0.578545</td>\n",
       "      <td>133</td>\n",
       "    </tr>\n",
       "    <tr>\n",
       "      <th>😹</th>\n",
       "      <td>0.528812</td>\n",
       "      <td>67</td>\n",
       "    </tr>\n",
       "    <tr>\n",
       "      <th>😂</th>\n",
       "      <td>0.517917</td>\n",
       "      <td>2730</td>\n",
       "    </tr>\n",
       "  </tbody>\n",
       "</table>\n",
       "</div>"
      ],
      "text/plain": [
       "           sentiment_score  emoji_frequency\n",
       "top_emoji                                  \n",
       "💖                 0.893985              161\n",
       "🥰                 0.865512              318\n",
       "💜                 0.834893              248\n",
       "💗                 0.824041              116\n",
       "😊                 0.822267              302\n",
       "♥                 0.816308               61\n",
       "💙                 0.796727              218\n",
       "💕                 0.784460              207\n",
       "💚                 0.770853               85\n",
       "👌                 0.770022              178\n",
       "🖤                 0.763830              117\n",
       "😄                 0.754393               89\n",
       "🎉                 0.744437              138\n",
       "😍                 0.709508              453\n",
       "🤗                 0.687030              105\n",
       "😻                 0.665715               74\n",
       "😁                 0.652686              273\n",
       "🥳                 0.637915               99\n",
       "🤣                 0.629809              992\n",
       "😘                 0.625916               80\n",
       "🤭                 0.625600               61\n",
       "😎                 0.612374              231\n",
       "✨                 0.578545              133\n",
       "😹                 0.528812               67\n",
       "😂                 0.517917             2730"
      ]
     },
     "execution_count": 702,
     "metadata": {},
     "output_type": "execute_result"
    }
   ],
   "source": [
    "emojis.sort_values(by='sentiment_score', ascending=False)[0:25]"
   ]
  },
  {
   "cell_type": "code",
   "execution_count": null,
   "metadata": {},
   "outputs": [],
   "source": []
  },
  {
   "cell_type": "code",
   "execution_count": null,
   "metadata": {},
   "outputs": [],
   "source": []
  }
 ],
 "metadata": {
  "kernelspec": {
   "display_name": "Python 3",
   "language": "python",
   "name": "python3"
  },
  "language_info": {
   "codemirror_mode": {
    "name": "ipython",
    "version": 3
   },
   "file_extension": ".py",
   "mimetype": "text/x-python",
   "name": "python",
   "nbconvert_exporter": "python",
   "pygments_lexer": "ipython3",
   "version": "3.8.3"
  }
 },
 "nbformat": 4,
 "nbformat_minor": 4
}
