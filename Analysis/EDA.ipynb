{
 "cells": [
  {
   "cell_type": "markdown",
   "metadata": {},
   "source": [
    "# 1: Import Packages and Define Functions"
   ]
  },
  {
   "cell_type": "code",
   "execution_count": 266,
   "metadata": {},
   "outputs": [],
   "source": [
    "# Import some libraries that will be used\n",
    "import pandas as pd\n",
    "import numpy as np\n",
    "import matplotlib.pyplot as plt\n",
    "import seaborn as sns\n",
    "import mysql.connector\n",
    "import sys\n",
    "sys.path.insert(1, '/Users/brianmccabe/DataScience/Flatiron/mod5/Emoji_Analysis/Scripts/')\n",
    "import config\n",
    "import warnings\n",
    "warnings.filterwarnings('ignore')\n",
    "\n",
    "\n",
    "\n",
    "pd.set_option('display.max_columns', 300)\n",
    "\n",
    "%matplotlib inline"
   ]
  },
  {
   "cell_type": "code",
   "execution_count": 267,
   "metadata": {},
   "outputs": [
    {
     "name": "stderr",
     "output_type": "stream",
     "text": [
      "[nltk_data] Downloading package stopwords to\n",
      "[nltk_data]     /Users/brianmccabe/nltk_data...\n",
      "[nltk_data]   Package stopwords is already up-to-date!\n",
      "[nltk_data] Downloading package punkt to\n",
      "[nltk_data]     /Users/brianmccabe/nltk_data...\n",
      "[nltk_data]   Package punkt is already up-to-date!\n",
      "[nltk_data] Downloading package wordnet to\n",
      "[nltk_data]     /Users/brianmccabe/nltk_data...\n",
      "[nltk_data]   Package wordnet is already up-to-date!\n"
     ]
    },
    {
     "data": {
      "text/plain": [
       "True"
      ]
     },
     "execution_count": 267,
     "metadata": {},
     "output_type": "execute_result"
    }
   ],
   "source": [
    "import nltk\n",
    "from sklearn.feature_extraction.text import CountVectorizer\n",
    "from sklearn.feature_extraction.text import TfidfVectorizer\n",
    "from sklearn.feature_extraction.text import TfidfTransformer\n",
    "from nltk.probability import FreqDist\n",
    "from nltk.corpus import stopwords\n",
    "from nltk.stem import PorterStemmer\n",
    "from sklearn.metrics import confusion_matrix\n",
    "from sklearn.naive_bayes import MultinomialNB, BernoulliNB\n",
    "from sklearn import metrics\n",
    "from sklearn.model_selection import train_test_split\n",
    "from matplotlib import cm\n",
    "import numpy as np\n",
    "from sklearn.ensemble import RandomForestClassifier\n",
    "from sklearn.metrics import accuracy_score\n",
    "from sklearn.metrics import f1_score\n",
    "from sklearn.naive_bayes import MultinomialNB\n",
    "import string\n",
    "import scipy\n",
    "import emoji\n",
    "from vaderSentiment.vaderSentiment import SentimentIntensityAnalyzer\n",
    "import re\n",
    "\n",
    "nltk.download('stopwords')\n",
    "nltk.download('punkt')\n",
    "nltk.download('wordnet')"
   ]
  },
  {
   "cell_type": "code",
   "execution_count": 268,
   "metadata": {},
   "outputs": [],
   "source": [
    "def extract_emojis(s):\n",
    "    return ''.join(c for c in s if c in emoji.UNICODE_EMOJI)"
   ]
  },
  {
   "cell_type": "code",
   "execution_count": 269,
   "metadata": {},
   "outputs": [],
   "source": [
    "def check_for_flags(s):\n",
    "    s = str(s)\n",
    "    has_flag = False\n",
    "    for flag in flags:\n",
    "        if flag in s:\n",
    "            has_flag = True\n",
    "    return has_flag"
   ]
  },
  {
   "cell_type": "code",
   "execution_count": 270,
   "metadata": {},
   "outputs": [],
   "source": [
    "def unique_emoji_count(s):\n",
    "    return len(set([c for c in s]))"
   ]
  },
  {
   "cell_type": "code",
   "execution_count": 271,
   "metadata": {},
   "outputs": [],
   "source": [
    "def condence_emojis(s):\n",
    "    try:\n",
    "        return set(s).pop()\n",
    "    except:\n",
    "        return None"
   ]
  },
  {
   "cell_type": "code",
   "execution_count": 272,
   "metadata": {},
   "outputs": [],
   "source": [
    "analyzer = SentimentIntensityAnalyzer()\n",
    "def sentiment_scores(s):\n",
    "    return analyzer.polarity_scores(s)['compound']"
   ]
  },
  {
   "cell_type": "code",
   "execution_count": 273,
   "metadata": {},
   "outputs": [],
   "source": [
    "def remove_emojis(s):\n",
    "    pattern = \"\\w+\"\n",
    "    return ' '.join(re.findall(pattern, s))"
   ]
  },
  {
   "cell_type": "markdown",
   "metadata": {},
   "source": [
    "# 2: Load in the Data and Clean"
   ]
  },
  {
   "cell_type": "code",
   "execution_count": 274,
   "metadata": {},
   "outputs": [],
   "source": [
    "connection = mysql.connector.connect(host=config.host,\n",
    "                                         user=config.user,\n",
    "                                         port=config.port,\n",
    "                                         password=config.password,\n",
    "                                         database=config.database,\n",
    "                                         auth_plugin='mysql_native_password')\n",
    "\n",
    "cursor = connection.cursor()\n",
    "query = \"SELECT tweet FROM Tweets WHERE HEX(tweet) RLIKE '^(..)*F.'\"\n",
    "\n",
    "df = pd.read_sql(query, connection)"
   ]
  },
  {
   "cell_type": "code",
   "execution_count": 275,
   "metadata": {},
   "outputs": [],
   "source": [
    "df['emoji'] = df.tweet.apply(extract_emojis)"
   ]
  },
  {
   "cell_type": "code",
   "execution_count": 276,
   "metadata": {},
   "outputs": [
    {
     "data": {
      "text/plain": [
       "['🤍']"
      ]
     },
     "execution_count": 276,
     "metadata": {},
     "output_type": "execute_result"
    }
   ],
   "source": [
    "# We can see that emoji flags have strange representations. I will remove them from the dataset.\n",
    "## NOTE BELOW LIKELY WILL NO LONGER SHOW A FLAG, SINCE I'VE BEEN PULLING DATA EVERY DAY\n",
    "## But, flags were basically as follows....alone as a string, they are equal to a flag plus a white space\n",
    "## HOWEVER, once you strip it apart into a list form, it becomes a list of two emoticon-characters\n",
    "## For example, Brazil Flag as a string is \"Flag \", but as a list, it is [\"[B], [R]\"]\n",
    "## Below, i actually acquire these codes from wikipedia to aid in removing flags from the dataset\n",
    "[c for c in df.emoji.loc[9]]"
   ]
  },
  {
   "cell_type": "code",
   "execution_count": 277,
   "metadata": {},
   "outputs": [],
   "source": [
    "import flag\n",
    "from bs4 import BeautifulSoup\n",
    "import requests"
   ]
  },
  {
   "cell_type": "code",
   "execution_count": 278,
   "metadata": {},
   "outputs": [],
   "source": [
    "url = 'https://en.wikipedia.org/wiki/Regional_indicator_symbol'\n",
    "page = requests.get(url)\n",
    "soup = BeautifulSoup(page.content, 'html.parser')"
   ]
  },
  {
   "cell_type": "code",
   "execution_count": 279,
   "metadata": {},
   "outputs": [
    {
     "data": {
      "text/plain": [
       "['🇦🇨', '🇦🇩', '🇦🇪', '🇦🇫', '🇦🇬']"
      ]
     },
     "execution_count": 279,
     "metadata": {},
     "output_type": "execute_result"
    }
   ],
   "source": [
    "flags = []\n",
    "skip_first = 0\n",
    "for item in soup.find('tbody').find_all('tr'):\n",
    "    if skip_first == 0:\n",
    "        skip_first += 1\n",
    "        continue\n",
    "    flagcode = item.find_all('td')[1].text\n",
    "    flags.append(flag.flag(flagcode))\n",
    "\n",
    "flags[0:5]    "
   ]
  },
  {
   "cell_type": "code",
   "execution_count": 280,
   "metadata": {},
   "outputs": [
    {
     "data": {
      "text/plain": [
       "False    46448\n",
       "True      1578\n",
       "Name: emoji, dtype: int64"
      ]
     },
     "execution_count": 280,
     "metadata": {},
     "output_type": "execute_result"
    }
   ],
   "source": [
    "df.emoji.apply(check_for_flags).value_counts()"
   ]
  },
  {
   "cell_type": "code",
   "execution_count": 281,
   "metadata": {},
   "outputs": [],
   "source": [
    "df['has_flag'] = df.emoji.apply(check_for_flags)\n",
    "df = df[df.has_flag == False]\n",
    "df.drop('has_flag', axis=1, inplace=True)"
   ]
  },
  {
   "cell_type": "code",
   "execution_count": 282,
   "metadata": {},
   "outputs": [],
   "source": [
    "df['unique_emoji_count'] = df.emoji.apply(unique_emoji_count)"
   ]
  },
  {
   "cell_type": "code",
   "execution_count": 283,
   "metadata": {},
   "outputs": [],
   "source": [
    "df['sentiment_score'] = df.tweet.apply(sentiment_scores)"
   ]
  },
  {
   "cell_type": "code",
   "execution_count": 287,
   "metadata": {},
   "outputs": [],
   "source": [
    "df.to_csv(\"tweets_w_all_emojis_present.csv\")"
   ]
  },
  {
   "cell_type": "code",
   "execution_count": 288,
   "metadata": {},
   "outputs": [],
   "source": [
    "df['tweet'] = df.tweet.apply(remove_emojis)"
   ]
  },
  {
   "cell_type": "code",
   "execution_count": 289,
   "metadata": {},
   "outputs": [
    {
     "data": {
      "text/plain": [
       "0"
      ]
     },
     "execution_count": 289,
     "metadata": {},
     "output_type": "execute_result"
    }
   ],
   "source": [
    "df.emoji.isna().sum()"
   ]
  },
  {
   "cell_type": "code",
   "execution_count": 290,
   "metadata": {},
   "outputs": [],
   "source": [
    "df.dropna(inplace=True)"
   ]
  },
  {
   "cell_type": "code",
   "execution_count": 291,
   "metadata": {},
   "outputs": [
    {
     "data": {
      "text/plain": [
       "tweet                 0\n",
       "emoji                 0\n",
       "unique_emoji_count    0\n",
       "sentiment_score       0\n",
       "dtype: int64"
      ]
     },
     "execution_count": 291,
     "metadata": {},
     "output_type": "execute_result"
    }
   ],
   "source": [
    "df.isna().sum()"
   ]
  },
  {
   "cell_type": "code",
   "execution_count": 292,
   "metadata": {},
   "outputs": [],
   "source": [
    "df = df[df.unique_emoji_count > 0]"
   ]
  },
  {
   "cell_type": "code",
   "execution_count": 293,
   "metadata": {},
   "outputs": [],
   "source": [
    "df.reset_index(inplace=True)"
   ]
  },
  {
   "cell_type": "code",
   "execution_count": 294,
   "metadata": {},
   "outputs": [],
   "source": [
    "# Creating a dataframe of singular emojis to the average sentiment score they obtain\n",
    "df2 = df.copy()\n",
    "df2 = df2[df2.unique_emoji_count == 1]\n",
    "df2['emoji'] = df2.emoji.apply(condence_emojis)\n",
    "emoji_sentiment_mappings = df2[['emoji', 'sentiment_score']].groupby('emoji').mean()"
   ]
  },
  {
   "cell_type": "code",
   "execution_count": 295,
   "metadata": {},
   "outputs": [],
   "source": [
    "def impute_top_emoji(s, mappings = emoji_sentiment_mappings, data = df):\n",
    "    val = df[df.emoji == s].sentiment_score.values[0]\n",
    "    s = list(set(s))\n",
    "    closest = 100\n",
    "    top = s[0]\n",
    "    for i in range(0, len(s)):\n",
    "        try:\n",
    "            if abs(val - emoji_sentiment_mappings.loc[s[i]].sentiment_score) < closest:\n",
    "                closest = abs(val - emoji_sentiment_mappings.loc[s[i]].sentiment_score)\n",
    "                top = s[i]\n",
    "        except:\n",
    "            continue\n",
    "    return top"
   ]
  },
  {
   "cell_type": "code",
   "execution_count": 296,
   "metadata": {},
   "outputs": [],
   "source": [
    "df['top_emoji'] = df.emoji.apply(impute_top_emoji)"
   ]
  },
  {
   "cell_type": "code",
   "execution_count": 297,
   "metadata": {},
   "outputs": [],
   "source": [
    "df.drop([\"unique_emoji_count\", \"emoji\"], axis=1, inplace=True)\n",
    "df.drop('index', axis=1, inplace=True)"
   ]
  },
  {
   "cell_type": "code",
   "execution_count": 298,
   "metadata": {},
   "outputs": [],
   "source": [
    "emoji_counts = dict(df.top_emoji.value_counts())"
   ]
  },
  {
   "cell_type": "code",
   "execution_count": 299,
   "metadata": {},
   "outputs": [],
   "source": [
    "df['emoji_frequency'] = df.top_emoji.map(emoji_counts)"
   ]
  },
  {
   "cell_type": "code",
   "execution_count": 300,
   "metadata": {},
   "outputs": [
    {
     "data": {
      "text/html": [
       "<div>\n",
       "<style scoped>\n",
       "    .dataframe tbody tr th:only-of-type {\n",
       "        vertical-align: middle;\n",
       "    }\n",
       "\n",
       "    .dataframe tbody tr th {\n",
       "        vertical-align: top;\n",
       "    }\n",
       "\n",
       "    .dataframe thead th {\n",
       "        text-align: right;\n",
       "    }\n",
       "</style>\n",
       "<table border=\"1\" class=\"dataframe\">\n",
       "  <thead>\n",
       "    <tr style=\"text-align: right;\">\n",
       "      <th></th>\n",
       "      <th>tweet</th>\n",
       "      <th>sentiment_score</th>\n",
       "      <th>top_emoji</th>\n",
       "      <th>emoji_frequency</th>\n",
       "    </tr>\n",
       "  </thead>\n",
       "  <tbody>\n",
       "    <tr>\n",
       "      <th>0</th>\n",
       "      <td>The Shadow Diaries with Madelaine Petsch and K...</td>\n",
       "      <td>0.0000</td>\n",
       "      <td>🌸</td>\n",
       "      <td>103</td>\n",
       "    </tr>\n",
       "    <tr>\n",
       "      <th>1</th>\n",
       "      <td>FREEEBOOKS Becky sees ghosts and she isn t afr...</td>\n",
       "      <td>-0.3716</td>\n",
       "      <td>🦉</td>\n",
       "      <td>37</td>\n",
       "    </tr>\n",
       "    <tr>\n",
       "      <th>2</th>\n",
       "      <td>One day honest citizens are going to stand up ...</td>\n",
       "      <td>0.8288</td>\n",
       "      <td>🤣</td>\n",
       "      <td>1553</td>\n",
       "    </tr>\n",
       "    <tr>\n",
       "      <th>3</th>\n",
       "      <td>a deep slow burning and highly engrossing read...</td>\n",
       "      <td>-0.6166</td>\n",
       "      <td>🌟</td>\n",
       "      <td>128</td>\n",
       "    </tr>\n",
       "    <tr>\n",
       "      <th>4</th>\n",
       "      <td>his next movie will deal with love in more exp...</td>\n",
       "      <td>0.9732</td>\n",
       "      <td>😍</td>\n",
       "      <td>790</td>\n",
       "    </tr>\n",
       "  </tbody>\n",
       "</table>\n",
       "</div>"
      ],
      "text/plain": [
       "                                               tweet  sentiment_score  \\\n",
       "0  The Shadow Diaries with Madelaine Petsch and K...           0.0000   \n",
       "1  FREEEBOOKS Becky sees ghosts and she isn t afr...          -0.3716   \n",
       "2  One day honest citizens are going to stand up ...           0.8288   \n",
       "3  a deep slow burning and highly engrossing read...          -0.6166   \n",
       "4  his next movie will deal with love in more exp...           0.9732   \n",
       "\n",
       "  top_emoji  emoji_frequency  \n",
       "0         🌸              103  \n",
       "1         🦉               37  \n",
       "2         🤣             1553  \n",
       "3         🌟              128  \n",
       "4         😍              790  "
      ]
     },
     "execution_count": 300,
     "metadata": {},
     "output_type": "execute_result"
    }
   ],
   "source": [
    "df.head()"
   ]
  },
  {
   "cell_type": "code",
   "execution_count": 301,
   "metadata": {},
   "outputs": [],
   "source": [
    "df.to_csv(\"tweets.csv\")"
   ]
  },
  {
   "cell_type": "markdown",
   "metadata": {},
   "source": [
    "# 3. Explore the Data and Create Initial Insights"
   ]
  },
  {
   "cell_type": "code",
   "execution_count": 302,
   "metadata": {},
   "outputs": [
    {
     "data": {
      "text/plain": [
       "<matplotlib.axes._subplots.AxesSubplot at 0x12d578370>"
      ]
     },
     "execution_count": 302,
     "metadata": {},
     "output_type": "execute_result"
    },
    {
     "data": {
      "image/png": "[encoded data removed]",
      "text/plain": [
       "<Figure size 432x288 with 1 Axes>"
      ]
     },
     "metadata": {
      "needs_background": "light"
     },
     "output_type": "display_data"
    }
   ],
   "source": [
    "sns.distplot(df.sentiment_score)"
   ]
  },
  {
   "cell_type": "code",
   "execution_count": 303,
   "metadata": {},
   "outputs": [
    {
     "data": {
      "text/html": [
       "<div>\n",
       "<style scoped>\n",
       "    .dataframe tbody tr th:only-of-type {\n",
       "        vertical-align: middle;\n",
       "    }\n",
       "\n",
       "    .dataframe tbody tr th {\n",
       "        vertical-align: top;\n",
       "    }\n",
       "\n",
       "    .dataframe thead th {\n",
       "        text-align: right;\n",
       "    }\n",
       "</style>\n",
       "<table border=\"1\" class=\"dataframe\">\n",
       "  <thead>\n",
       "    <tr style=\"text-align: right;\">\n",
       "      <th></th>\n",
       "      <th>sentiment_score</th>\n",
       "      <th>emoji_frequency</th>\n",
       "    </tr>\n",
       "    <tr>\n",
       "      <th>top_emoji</th>\n",
       "      <th></th>\n",
       "      <th></th>\n",
       "    </tr>\n",
       "  </thead>\n",
       "  <tbody>\n",
       "    <tr>\n",
       "      <th>♥</th>\n",
       "      <td>0.782895</td>\n",
       "      <td>83</td>\n",
       "    </tr>\n",
       "    <tr>\n",
       "      <th>✨</th>\n",
       "      <td>0.583649</td>\n",
       "      <td>274</td>\n",
       "    </tr>\n",
       "    <tr>\n",
       "      <th>❤</th>\n",
       "      <td>0.136461</td>\n",
       "      <td>178</td>\n",
       "    </tr>\n",
       "    <tr>\n",
       "      <th>🌊</th>\n",
       "      <td>0.219962</td>\n",
       "      <td>66</td>\n",
       "    </tr>\n",
       "    <tr>\n",
       "      <th>🌎</th>\n",
       "      <td>0.083548</td>\n",
       "      <td>65</td>\n",
       "    </tr>\n",
       "  </tbody>\n",
       "</table>\n",
       "</div>"
      ],
      "text/plain": [
       "           sentiment_score  emoji_frequency\n",
       "top_emoji                                  \n",
       "♥                 0.782895               83\n",
       "✨                 0.583649              274\n",
       "❤                 0.136461              178\n",
       "🌊                 0.219962               66\n",
       "🌎                 0.083548               65"
      ]
     },
     "execution_count": 303,
     "metadata": {},
     "output_type": "execute_result"
    }
   ],
   "source": [
    "emojis = df[df.emoji_frequency>60].groupby('top_emoji')[['sentiment_score', 'emoji_frequency']].mean()\n",
    "emojis.head()"
   ]
  },
  {
   "cell_type": "code",
   "execution_count": 304,
   "metadata": {},
   "outputs": [],
   "source": [
    "emojis.to_csv(\"emojis.csv\")"
   ]
  },
  {
   "cell_type": "code",
   "execution_count": 305,
   "metadata": {},
   "outputs": [
    {
     "data": {
      "text/plain": [
       "139"
      ]
     },
     "execution_count": 305,
     "metadata": {},
     "output_type": "execute_result"
    }
   ],
   "source": [
    "emojis.index.nunique()"
   ]
  },
  {
   "cell_type": "code",
   "execution_count": 306,
   "metadata": {},
   "outputs": [
    {
     "data": {
      "text/plain": [
       "count     139.000000\n",
       "mean      275.388489\n",
       "std       455.130870\n",
       "min        62.000000\n",
       "25%        91.500000\n",
       "50%       147.000000\n",
       "75%       287.000000\n",
       "max      4082.000000\n",
       "Name: emoji_frequency, dtype: float64"
      ]
     },
     "execution_count": 306,
     "metadata": {},
     "output_type": "execute_result"
    }
   ],
   "source": [
    "emojis.emoji_frequency.describe()"
   ]
  },
  {
   "cell_type": "markdown",
   "metadata": {},
   "source": [
    "### Write in some blurb here about the stuff above (amount of emojis, mean freq of emoji, etc) once I have all my data"
   ]
  },
  {
   "cell_type": "code",
   "execution_count": 307,
   "metadata": {},
   "outputs": [],
   "source": [
    "neg_emojis = emojis[emojis.sentiment_score < -.1].index.unique()\n",
    "net_emojis = emojis[(emojis.sentiment_score >= -.1) & (emojis.sentiment_score <= .1)].index.unique()\n",
    "pos_emojis = emojis[emojis.sentiment_score > .1].index.unique()"
   ]
  },
  {
   "cell_type": "code",
   "execution_count": 308,
   "metadata": {},
   "outputs": [
    {
     "name": "stdout",
     "output_type": "stream",
     "text": [
      "Negative length: 7931\n",
      "Neutral length: 6975\n",
      "Postive length: 23373\n"
     ]
    }
   ],
   "source": [
    "negative = df.loc[df['top_emoji'].isin(neg_emojis)]\n",
    "neutral = df.loc[df['top_emoji'].isin(net_emojis)]\n",
    "positive = df.loc[df['top_emoji'].isin(pos_emojis)]\n",
    "\n",
    "print(f\"Negative length: {len(negative)}\")\n",
    "print(f\"Neutral length: {len(neutral)}\")\n",
    "print(f\"Postive length: {len(positive)}\")"
   ]
  },
  {
   "cell_type": "code",
   "execution_count": 309,
   "metadata": {},
   "outputs": [
    {
     "data": {
      "text/plain": [
       "😭    2933\n",
       "🔥    1000\n",
       "💀     513\n",
       "👻     505\n",
       "😩     413\n",
       "😬     220\n",
       "😐     208\n",
       "😱     207\n",
       "😡     205\n",
       "😢     196\n",
       "😒     182\n",
       "💥     172\n",
       "😞     160\n",
       "😫     138\n",
       "🤢     134\n",
       "Name: top_emoji, dtype: int64"
      ]
     },
     "execution_count": 309,
     "metadata": {},
     "output_type": "execute_result"
    }
   ],
   "source": [
    "negative.top_emoji.value_counts()[:15]"
   ]
  },
  {
   "cell_type": "code",
   "execution_count": 310,
   "metadata": {},
   "outputs": [
    {
     "data": {
      "text/plain": [
       "🤔    658\n",
       "🙄    605\n",
       "😔    561\n",
       "🤦    479\n",
       "🤷    470\n",
       "👇    437\n",
       "🥴    397\n",
       "😳    379\n",
       "💔    312\n",
       "💯    245\n",
       "🙃    205\n",
       "😏    185\n",
       "😤    164\n",
       "🤡    156\n",
       "🗣    147\n",
       "Name: top_emoji, dtype: int64"
      ]
     },
     "execution_count": 310,
     "metadata": {},
     "output_type": "execute_result"
    }
   ],
   "source": [
    "neutral.top_emoji.value_counts()[:15]"
   ]
  },
  {
   "cell_type": "code",
   "execution_count": 311,
   "metadata": {},
   "outputs": [
    {
     "data": {
      "text/plain": [
       "😂    4082\n",
       "🤣    1553\n",
       "🥺    1085\n",
       "😍     790\n",
       "🎃     729\n",
       "🙏     656\n",
       "🥰     646\n",
       "👀     602\n",
       "🚨     531\n",
       "💜     477\n",
       "😊     461\n",
       "😁     436\n",
       "💕     421\n",
       "👍     382\n",
       "💙     372\n",
       "Name: top_emoji, dtype: int64"
      ]
     },
     "execution_count": 311,
     "metadata": {},
     "output_type": "execute_result"
    }
   ],
   "source": [
    "positive.top_emoji.value_counts()[:15]"
   ]
  },
  {
   "cell_type": "markdown",
   "metadata": {},
   "source": [
    "From the above, I will select some emojis to have as my \"target values\". My model won't be able to predict any emoji from the entire list of them, as that would greatly increase the difficulty of the classification. Would likely need far, far more data than I have for each emoji in order for something like that to work."
   ]
  },
  {
   "cell_type": "code",
   "execution_count": 312,
   "metadata": {},
   "outputs": [],
   "source": [
    "test = list(negative.top_emoji.value_counts()[:10].index) \\\n",
    "+ list(neutral.top_emoji.value_counts()[:10].index) \\\n",
    "+ list(positive.top_emoji.value_counts()[:10].index)"
   ]
  },
  {
   "cell_type": "code",
   "execution_count": 313,
   "metadata": {},
   "outputs": [
    {
     "data": {
      "text/plain": [
       "['😭',\n",
       " '🔥',\n",
       " '💀',\n",
       " '👻',\n",
       " '😩',\n",
       " '😬',\n",
       " '😐',\n",
       " '😱',\n",
       " '😡',\n",
       " '😢',\n",
       " '🤔',\n",
       " '🙄',\n",
       " '😔',\n",
       " '🤦',\n",
       " '🤷',\n",
       " '👇',\n",
       " '🥴',\n",
       " '😳',\n",
       " '💔',\n",
       " '💯',\n",
       " '😂',\n",
       " '🤣',\n",
       " '🥺',\n",
       " '😍',\n",
       " '🎃',\n",
       " '🙏',\n",
       " '🥰',\n",
       " '👀',\n",
       " '🚨',\n",
       " '💜']"
      ]
     },
     "execution_count": 313,
     "metadata": {},
     "output_type": "execute_result"
    }
   ],
   "source": [
    "test"
   ]
  },
  {
   "cell_type": "code",
   "execution_count": 314,
   "metadata": {},
   "outputs": [
    {
     "data": {
      "image/png": "[encoded data removed]",
      "text/plain": [
       "<Figure size 1296x720 with 1 Axes>"
      ]
     },
     "metadata": {
      "needs_background": "light"
     },
     "output_type": "display_data"
    }
   ],
   "source": [
    "top30_emojis = emojis.loc[test]\n",
    "plt.figure(figsize = (18,10))\n",
    "sns.scatterplot(x=top30_emojis.sentiment_score, y=top30_emojis.emoji_frequency)\n",
    "labels = list(top30_emojis.index)\n",
    "for label, x, y in zip(labels, top30_emojis.sentiment_score, top30_emojis.emoji_frequency):\n",
    "    plt.annotate(label, xy = (x, y), xytext = (-20, 20), textcoords = 'offset points', ha = 'right',\n",
    "                 va = 'bottom', bbox = dict(boxstyle='round,pad=.5', fc='yellow', alpha=.3),\n",
    "                 arrowprops = dict(arrowstyle='->', connectionstyle='arc3,rad=0'),\n",
    "                 fontname='Segoe UI Emoji', fontsize=20)\n",
    "plt.show()"
   ]
  },
  {
   "cell_type": "code",
   "execution_count": 251,
   "metadata": {},
   "outputs": [
    {
     "data": {
      "text/plain": [
       "'😭e'"
      ]
     },
     "execution_count": 251,
     "metadata": {},
     "output_type": "execute_result"
    }
   ],
   "source": [
    "labels[0]+'e'"
   ]
  },
  {
   "cell_type": "code",
   "execution_count": null,
   "metadata": {},
   "outputs": [],
   "source": []
  }
 ],
 "metadata": {
  "kernelspec": {
   "display_name": "Python 3",
   "language": "python",
   "name": "python3"
  },
  "language_info": {
   "codemirror_mode": {
    "name": "ipython",
    "version": 3
   },
   "file_extension": ".py",
   "mimetype": "text/x-python",
   "name": "python",
   "nbconvert_exporter": "python",
   "pygments_lexer": "ipython3",
   "version": "3.8.3"
  }
 },
 "nbformat": 4,
 "nbformat_minor": 4
}
