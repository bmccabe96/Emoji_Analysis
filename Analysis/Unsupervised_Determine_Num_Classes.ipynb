{
 "cells": [
  {
   "cell_type": "markdown",
   "metadata": {},
   "source": [
    "# 1. Import Packages and Define Functions"
   ]
  },
  {
   "cell_type": "code",
   "execution_count": 16,
   "metadata": {},
   "outputs": [],
   "source": [
    "# Import some libraries that will be used\n",
    "import pandas as pd\n",
    "import numpy as np\n",
    "import matplotlib.pyplot as plt\n",
    "import seaborn as sns\n",
    "import mysql.connector\n",
    "import sys\n",
    "sys.path.insert(1, '/Users/brianmccabe/DataScience/Flatiron/mod5/Emoji_Analysis/Scripts/')\n",
    "import config\n",
    "import warnings\n",
    "warnings.filterwarnings('ignore')\n",
    "\n",
    "\n",
    "\n",
    "pd.set_option('display.max_columns', 300)\n",
    "\n",
    "%matplotlib inline"
   ]
  },
  {
   "cell_type": "code",
   "execution_count": 17,
   "metadata": {
    "scrolled": true
   },
   "outputs": [
    {
     "name": "stderr",
     "output_type": "stream",
     "text": [
      "[nltk_data] Downloading package stopwords to\n",
      "[nltk_data]     /Users/brianmccabe/nltk_data...\n",
      "[nltk_data]   Package stopwords is already up-to-date!\n",
      "[nltk_data] Downloading package punkt to\n",
      "[nltk_data]     /Users/brianmccabe/nltk_data...\n",
      "[nltk_data]   Package punkt is already up-to-date!\n",
      "[nltk_data] Downloading package wordnet to\n",
      "[nltk_data]     /Users/brianmccabe/nltk_data...\n",
      "[nltk_data]   Package wordnet is already up-to-date!\n"
     ]
    },
    {
     "data": {
      "text/plain": [
       "True"
      ]
     },
     "execution_count": 17,
     "metadata": {},
     "output_type": "execute_result"
    }
   ],
   "source": [
    "import nltk\n",
    "from sklearn.feature_extraction.text import CountVectorizer\n",
    "from sklearn.feature_extraction.text import TfidfVectorizer\n",
    "from sklearn.feature_extraction.text import TfidfTransformer\n",
    "from nltk.probability import FreqDist\n",
    "from nltk.corpus import stopwords\n",
    "from nltk.stem import PorterStemmer\n",
    "from sklearn.metrics import confusion_matrix\n",
    "from sklearn.naive_bayes import MultinomialNB, BernoulliNB\n",
    "from sklearn import metrics\n",
    "from sklearn.model_selection import train_test_split\n",
    "from matplotlib import cm\n",
    "import numpy as np\n",
    "from sklearn.ensemble import RandomForestClassifier\n",
    "from sklearn.metrics import accuracy_score\n",
    "from sklearn.metrics import f1_score\n",
    "from sklearn.naive_bayes import MultinomialNB\n",
    "import string\n",
    "import scipy\n",
    "import emoji\n",
    "from vaderSentiment.vaderSentiment import SentimentIntensityAnalyzer\n",
    "import re\n",
    "\n",
    "nltk.download('stopwords')\n",
    "nltk.download('punkt')\n",
    "nltk.download('wordnet')"
   ]
  },
  {
   "cell_type": "code",
   "execution_count": 18,
   "metadata": {},
   "outputs": [],
   "source": [
    "# we can define a function that removes stopwords \n",
    "def process_tweet(tweet):\n",
    "    tweet = str(tweet).lower()\n",
    "    tokens = nltk.word_tokenize(tweet)\n",
    "    stopwords_removed = [token.lower() for token in tokens if token.lower() not in stopwords]\n",
    "    return stopwords_removed"
   ]
  },
  {
   "cell_type": "code",
   "execution_count": 19,
   "metadata": {},
   "outputs": [],
   "source": [
    "def remove_http(tweet):\n",
    "    pattern = '((http|https)\\w+\\s\\w+\\s\\w+\\s\\w+)'\n",
    "    try:\n",
    "        return tweet.replace(re.findall(pattern, tweet)[0][0], \"\")\n",
    "    except:\n",
    "        return tweet"
   ]
  },
  {
   "cell_type": "code",
   "execution_count": 20,
   "metadata": {},
   "outputs": [],
   "source": [
    "def remove_username(tweet):\n",
    "    try:\n",
    "        p = '[\\w\\s]+(@\\w+)'\n",
    "        return tweet.replace(re.findall(p, tweet)[0], \"\")\n",
    "    except:\n",
    "        return tweet"
   ]
  },
  {
   "cell_type": "code",
   "execution_count": 9,
   "metadata": {},
   "outputs": [],
   "source": [
    "from nltk.stem import WordNetLemmatizer \n",
    "  \n",
    "lemmatizer = WordNetLemmatizer()"
   ]
  },
  {
   "cell_type": "code",
   "execution_count": 21,
   "metadata": {},
   "outputs": [],
   "source": [
    "def clean_txt(tweet):\n",
    "    tweet = remove_http(tweet)\n",
    "    tweet = remove_username(tweet)\n",
    "    tokens = process_tweet(tweet)\n",
    "    return ' '.join([lemmatizer.lemmatize(w) for w in tokens])"
   ]
  },
  {
   "cell_type": "code",
   "execution_count": 22,
   "metadata": {},
   "outputs": [],
   "source": [
    "#set stopwords and punctuations\n",
    "stopwords = stopwords.words('english')\n",
    "stopwords += list(string.punctuation)\n",
    "stopwords += [\"n't\", \"' '\", \"'re'\",\"”\",\"``\",\"“\",\"''\",\"’\",\"'s\",\"'re\",\"http\",\"https\"]"
   ]
  },
  {
   "cell_type": "markdown",
   "metadata": {},
   "source": [
    "# 2. Load in Data from EDA Notebook"
   ]
  },
  {
   "cell_type": "code",
   "execution_count": 23,
   "metadata": {},
   "outputs": [],
   "source": [
    "df_all = pd.read_csv(\"tweets_w_all_emojis_present_NEW.csv\")"
   ]
  },
  {
   "cell_type": "code",
   "execution_count": 24,
   "metadata": {},
   "outputs": [
    {
     "name": "stdout",
     "output_type": "stream",
     "text": [
      "<class 'pandas.core.frame.DataFrame'>\n",
      "RangeIndex: 12054 entries, 0 to 12053\n",
      "Data columns (total 5 columns):\n",
      " #   Column              Non-Null Count  Dtype  \n",
      "---  ------              --------------  -----  \n",
      " 0   Unnamed: 0          12054 non-null  int64  \n",
      " 1   tweet               12054 non-null  object \n",
      " 2   emoji               12013 non-null  object \n",
      " 3   unique_emoji_count  12054 non-null  int64  \n",
      " 4   sentiment_score     12054 non-null  float64\n",
      "dtypes: float64(1), int64(2), object(2)\n",
      "memory usage: 471.0+ KB\n"
     ]
    }
   ],
   "source": [
    "df_all.info()"
   ]
  },
  {
   "cell_type": "code",
   "execution_count": 25,
   "metadata": {},
   "outputs": [
    {
     "data": {
      "text/html": [
       "<div>\n",
       "<style scoped>\n",
       "    .dataframe tbody tr th:only-of-type {\n",
       "        vertical-align: middle;\n",
       "    }\n",
       "\n",
       "    .dataframe tbody tr th {\n",
       "        vertical-align: top;\n",
       "    }\n",
       "\n",
       "    .dataframe thead th {\n",
       "        text-align: right;\n",
       "    }\n",
       "</style>\n",
       "<table border=\"1\" class=\"dataframe\">\n",
       "  <thead>\n",
       "    <tr style=\"text-align: right;\">\n",
       "      <th></th>\n",
       "      <th>Unnamed: 0</th>\n",
       "      <th>tweet</th>\n",
       "      <th>emoji</th>\n",
       "      <th>unique_emoji_count</th>\n",
       "      <th>sentiment_score</th>\n",
       "    </tr>\n",
       "  </thead>\n",
       "  <tbody>\n",
       "    <tr>\n",
       "      <th>0</th>\n",
       "      <td>0</td>\n",
       "      <td>!! TODAY'S VOTE !!\\n\\n🗳 https://t.co/AKM1Fbo8X...</td>\n",
       "      <td>🗳👉🏻</td>\n",
       "      <td>3</td>\n",
       "      <td>0.0000</td>\n",
       "    </tr>\n",
       "    <tr>\n",
       "      <th>1</th>\n",
       "      <td>1</td>\n",
       "      <td>!👍🏼🤨..RIGHT-on! Anyone who thinks tRump WON’T ...</td>\n",
       "      <td>👍🏼🤨</td>\n",
       "      <td>3</td>\n",
       "      <td>0.0000</td>\n",
       "    </tr>\n",
       "    <tr>\n",
       "      <th>2</th>\n",
       "      <td>2</td>\n",
       "      <td>\"\"Get yourself a Lover who looks at   \\nyou, t...</td>\n",
       "      <td>💌</td>\n",
       "      <td>1</td>\n",
       "      <td>0.8516</td>\n",
       "    </tr>\n",
       "    <tr>\n",
       "      <th>3</th>\n",
       "      <td>4</td>\n",
       "      <td>\"but biden and trump are the same..\" 🙄🖕🏼 https...</td>\n",
       "      <td>🙄🖕🏼</td>\n",
       "      <td>3</td>\n",
       "      <td>0.0000</td>\n",
       "    </tr>\n",
       "    <tr>\n",
       "      <th>4</th>\n",
       "      <td>5</td>\n",
       "      <td>\"Dont tell anybody but let me wait a little bi...</td>\n",
       "      <td>🤣🤣🤣</td>\n",
       "      <td>1</td>\n",
       "      <td>0.9313</td>\n",
       "    </tr>\n",
       "  </tbody>\n",
       "</table>\n",
       "</div>"
      ],
      "text/plain": [
       "   Unnamed: 0                                              tweet emoji  \\\n",
       "0           0  !! TODAY'S VOTE !!\\n\\n🗳 https://t.co/AKM1Fbo8X...   🗳👉🏻   \n",
       "1           1  !👍🏼🤨..RIGHT-on! Anyone who thinks tRump WON’T ...   👍🏼🤨   \n",
       "2           2  \"\"Get yourself a Lover who looks at   \\nyou, t...     💌   \n",
       "3           4  \"but biden and trump are the same..\" 🙄🖕🏼 https...   🙄🖕🏼   \n",
       "4           5  \"Dont tell anybody but let me wait a little bi...   🤣🤣🤣   \n",
       "\n",
       "   unique_emoji_count  sentiment_score  \n",
       "0                   3           0.0000  \n",
       "1                   3           0.0000  \n",
       "2                   1           0.8516  \n",
       "3                   3           0.0000  \n",
       "4                   1           0.9313  "
      ]
     },
     "execution_count": 25,
     "metadata": {},
     "output_type": "execute_result"
    }
   ],
   "source": [
    "df_all.head()"
   ]
  },
  {
   "cell_type": "markdown",
   "metadata": {},
   "source": [
    "3. "
   ]
  },
  {
   "cell_type": "markdown",
   "metadata": {},
   "source": [
    "# 3. KMeans Clustering"
   ]
  },
  {
   "cell_type": "markdown",
   "metadata": {},
   "source": [
    "### Lemmatize"
   ]
  },
  {
   "cell_type": "code",
   "execution_count": 10,
   "metadata": {},
   "outputs": [],
   "source": [
    "# #apply above function to data\n",
    "\n",
    "# processed_tweets = list(map(process_tweet, df_all.tweet))"
   ]
  },
  {
   "cell_type": "code",
   "execution_count": 31,
   "metadata": {},
   "outputs": [],
   "source": [
    "# #create list with lemmatized output\n",
    "# lemmatized_output = []\n",
    "\n",
    "# for tweet in processed_tweets:\n",
    "#     lemmed = ' '.join([lemmatizer.lemmatize(w) for w in tweet])\n",
    "#     lemmatized_output.append(lemmed)"
   ]
  },
  {
   "cell_type": "code",
   "execution_count": 26,
   "metadata": {},
   "outputs": [],
   "source": [
    "#change this to 'lemmatized_output' if you are including lemma (see above)\n",
    "X = df_all.tweet.apply(clean_txt)"
   ]
  },
  {
   "cell_type": "code",
   "execution_count": 28,
   "metadata": {},
   "outputs": [],
   "source": [
    "tfidf = TfidfVectorizer(ngram_range=(1,1))\n",
    "\n",
    "tfidf_data_train_lem = tfidf.fit_transform(X)\n",
    "\n",
    "\n",
    "tfidf_data_train_lem = pd.DataFrame(tfidf_data_train_lem.toarray(), columns=tfidf.vocabulary_.keys())\n",
    "\n"
   ]
  },
  {
   "cell_type": "code",
   "execution_count": 29,
   "metadata": {},
   "outputs": [],
   "source": [
    "train_columns = tfidf_data_train_lem.columns\n",
    "    \n",
    "tfidf_data_train_lem = scipy.sparse.csr_matrix(tfidf_data_train_lem)"
   ]
  },
  {
   "cell_type": "code",
   "execution_count": 30,
   "metadata": {},
   "outputs": [],
   "source": [
    "from yellowbrick.cluster import KElbowVisualizer\n",
    "from sklearn.decomposition import PCA"
   ]
  },
  {
   "cell_type": "code",
   "execution_count": 31,
   "metadata": {},
   "outputs": [],
   "source": [
    "from sklearn.cluster import KMeans"
   ]
  },
  {
   "cell_type": "code",
   "execution_count": 33,
   "metadata": {},
   "outputs": [
    {
     "data": {
      "image/png": "[encoded data removed]",
      "text/plain": [
       "<Figure size 576x396 with 2 Axes>"
      ]
     },
     "metadata": {},
     "output_type": "display_data"
    },
    {
     "data": {
      "text/plain": [
       "<matplotlib.axes._subplots.AxesSubplot at 0x1218706a0>"
      ]
     },
     "execution_count": 33,
     "metadata": {},
     "output_type": "execute_result"
    }
   ],
   "source": [
    "# Instantiate the clustering model and visualizer\n",
    "model = KMeans()\n",
    "visualizer = KElbowVisualizer(model, k=(2,8), metric='silhouette')\n",
    "\n",
    "visualizer.fit(tfidf_data_train_lem)        # Fit the data to the visualizer\n",
    "visualizer.show()"
   ]
  },
  {
   "cell_type": "code",
   "execution_count": 60,
   "metadata": {},
   "outputs": [],
   "source": [
    "from sklearn.cluster import KMeans"
   ]
  },
  {
   "cell_type": "code",
   "execution_count": 61,
   "metadata": {},
   "outputs": [],
   "source": [
    "kmeans = KMeans(n_clusters=4)"
   ]
  },
  {
   "cell_type": "code",
   "execution_count": 64,
   "metadata": {},
   "outputs": [
    {
     "data": {
      "text/plain": [
       "KMeans()"
      ]
     },
     "execution_count": 64,
     "metadata": {},
     "output_type": "execute_result"
    }
   ],
   "source": [
    "kmeans.fit(tfidf_data_train_lem)"
   ]
  },
  {
   "cell_type": "code",
   "execution_count": 67,
   "metadata": {},
   "outputs": [],
   "source": [
    "predicted_clusters = kmeans.predict(tfidf_data_train_lem)"
   ]
  },
  {
   "cell_type": "code",
   "execution_count": 74,
   "metadata": {},
   "outputs": [],
   "source": [
    "df_all['labels'] = predicted_clusters"
   ]
  },
  {
   "cell_type": "markdown",
   "metadata": {},
   "source": [
    "### First"
   ]
  },
  {
   "cell_type": "code",
   "execution_count": 85,
   "metadata": {},
   "outputs": [
    {
     "data": {
      "text/plain": [
       "count    18190.000000\n",
       "mean         0.182775\n",
       "std          0.608620\n",
       "min         -0.999600\n",
       "25%         -0.418125\n",
       "50%          0.383300\n",
       "75%          0.726900\n",
       "max          0.999700\n",
       "Name: sentiment_score, dtype: float64"
      ]
     },
     "execution_count": 85,
     "metadata": {},
     "output_type": "execute_result"
    }
   ],
   "source": [
    "df_all[df_all.labels == 0].sentiment_score.describe()"
   ]
  },
  {
   "cell_type": "code",
   "execution_count": 86,
   "metadata": {},
   "outputs": [
    {
     "data": {
      "text/plain": [
       "😂    7027\n",
       "😭    4318\n",
       "😍    2666\n",
       "🤔    1828\n",
       "😊    1377\n",
       "😡     533\n",
       "😱     441\n",
       "Name: top_emoji, dtype: int64"
      ]
     },
     "execution_count": 86,
     "metadata": {},
     "output_type": "execute_result"
    }
   ],
   "source": [
    "df_all[df_all.labels == 0].top_emoji.value_counts()"
   ]
  },
  {
   "cell_type": "code",
   "execution_count": 112,
   "metadata": {},
   "outputs": [
    {
     "name": "stdout",
     "output_type": "stream",
     "text": [
      "A migrant from Tunisia he d only been in France a few weeks Radio 4 news Enough said\n",
      "-\n",
      "177 slides Ok ctrl f do ur thing for tom WHAHAHAHA\n",
      "-\n",
      "1kaylaaaa My lol brothers got there s on y all tripping it s bitting our\n",
      "-\n",
      "91_bion They even mocked pope bible torah church but whole world is bullying muslims\n",
      "-\n",
      "Actionjerk Me when I see an EPIC reddit repost\n",
      "-\n",
      "AhlajiOmo Help me g\n",
      "-\n",
      "alextimoney K YOUR SO PRETTY FOR WHAT\n",
      "-\n",
      "amauri_daniels bruh y all had a good run Issa wrap now lol\n",
      "-\n",
      "angeld_20 4 weeks chill\n",
      "-\n",
      "Apple_Dip She cuts up\n",
      "-\n"
     ]
    }
   ],
   "source": [
    "for tweet in df_all[df_all.labels == 0].tweet[:1000:100]:\n",
    "    print(tweet)\n",
    "    print('-')"
   ]
  },
  {
   "cell_type": "markdown",
   "metadata": {},
   "source": [
    "### Second"
   ]
  },
  {
   "cell_type": "code",
   "execution_count": 87,
   "metadata": {},
   "outputs": [
    {
     "data": {
      "text/plain": [
       "count    1414.000000\n",
       "mean        0.662801\n",
       "std         0.438552\n",
       "min        -0.995100\n",
       "25%         0.636900\n",
       "50%         0.824450\n",
       "75%         0.921700\n",
       "max         0.997000\n",
       "Name: sentiment_score, dtype: float64"
      ]
     },
     "execution_count": 87,
     "metadata": {},
     "output_type": "execute_result"
    }
   ],
   "source": [
    "df_all[df_all.labels == 1].sentiment_score.describe()"
   ]
  },
  {
   "cell_type": "code",
   "execution_count": 88,
   "metadata": {},
   "outputs": [
    {
     "data": {
      "text/plain": [
       "😍    664\n",
       "😂    304\n",
       "😭    236\n",
       "😊    129\n",
       "🤔     46\n",
       "😱     21\n",
       "😡     14\n",
       "Name: top_emoji, dtype: int64"
      ]
     },
     "execution_count": 88,
     "metadata": {},
     "output_type": "execute_result"
    }
   ],
   "source": [
    "df_all[df_all.labels == 1].top_emoji.value_counts()"
   ]
  },
  {
   "cell_type": "code",
   "execution_count": 110,
   "metadata": {},
   "outputs": [
    {
     "name": "stdout",
     "output_type": "stream",
     "text": [
      "his next movie will deal with love in more explicit terms and specifically gay love https t co rDfZAZ3XXB\n",
      "-\n",
      "buffles25 AWW thank you so much for drawing my girl she looks so cute and I love how you included her twin https t co ydMD9bp0Nx\n",
      "-\n",
      "Gregfromtheglo Lmaooooooo I love how passionately you responded I get it I m just yanking your chain\n",
      "-\n",
      "LesleiStan No you don t you love meeee https t co Z9RKv5Af41\n",
      "-\n",
      "phoetatas love u all\n",
      "-\n",
      "tomisaidwhat I acc love you mannn I ve been tryna gain weight so thought I d share\n",
      "-\n",
      "Baby take my hand I want you to be my husband Cause you re my ironman and i love you 3000\n",
      "-\n",
      "i didn t like jane so she can leave i love kuzco https t co PirxcLd6Gb\n",
      "-\n",
      "I love this Black women in esports Take my money yesterday HeatherEliece she plays Sims too https t co c3z8RdX2YZ\n",
      "-\n",
      "Love how kai look so natural here https t co MSOcbc7zlo\n",
      "-\n"
     ]
    }
   ],
   "source": [
    "for tweet in df_all[df_all.labels == 1].tweet[:1000:100]:\n",
    "    print(tweet)\n",
    "    print('-')"
   ]
  },
  {
   "cell_type": "markdown",
   "metadata": {},
   "source": [
    "### Third"
   ]
  },
  {
   "cell_type": "code",
   "execution_count": 89,
   "metadata": {},
   "outputs": [
    {
     "data": {
      "text/plain": [
       "count    8304.000000\n",
       "mean        0.237197\n",
       "std         0.608210\n",
       "min        -0.999700\n",
       "25%        -0.300150\n",
       "50%         0.440400\n",
       "75%         0.784275\n",
       "max         0.999500\n",
       "Name: sentiment_score, dtype: float64"
      ]
     },
     "execution_count": 89,
     "metadata": {},
     "output_type": "execute_result"
    }
   ],
   "source": [
    "df_all[df_all.labels == 2].sentiment_score.describe()"
   ]
  },
  {
   "cell_type": "code",
   "execution_count": 91,
   "metadata": {},
   "outputs": [
    {
     "data": {
      "text/plain": [
       "😂    2837\n",
       "😍    1570\n",
       "😭    1545\n",
       "🤔     850\n",
       "😊     787\n",
       "😱     471\n",
       "😡     244\n",
       "Name: top_emoji, dtype: int64"
      ]
     },
     "execution_count": 91,
     "metadata": {},
     "output_type": "execute_result"
    }
   ],
   "source": [
    "df_all[df_all.labels == 2].top_emoji.value_counts()"
   ]
  },
  {
   "cell_type": "code",
   "execution_count": 113,
   "metadata": {},
   "outputs": [
    {
     "name": "stdout",
     "output_type": "stream",
     "text": [
      "Hello this has been KARINA and WINTER We re currently looking for our dearest member t https t co w9NXwy7G8b\n",
      "-\n",
      "terraformingmars boardgames bestgame And Enris was again kingofmars https t co 8BiI6JMb5y\n",
      "-\n",
      "3 I m not eatin snail cottage cheese or yogurt https t co u3aTqWd30g\n",
      "-\n",
      "alittlelotus That ain t what I asked lmao but anyways if it was his music you liked him for then you probably s https t co nDQ7sAN8ij\n",
      "-\n",
      "babyname_maven AliyyaSwaby According to a friend of mine who teaches Totally valid analysis And guess wh https t co iXqTHY2dg9\n",
      "-\n",
      "BronkielHollow2 It ain t yo fault B This year been hell and this month been scressful I only got him a costume https t co Q0N7pRTroW\n",
      "-\n",
      "CMONDOMINIQUE Aww bless him My bf does the same He just comes over and immediately starts cleaning the best he https t co ChzHWaMx5q\n",
      "-\n",
      "dhruv_rathee Don t worry It s these kind of people who r doing it https t co T5lZpeVCG3\n",
      "-\n",
      "eternallove0613 So relateable that was during my first month before i got into ships i saw ytvideos that spread mi https t co IDrCERtyFa\n",
      "-\n",
      "GeraldoRivera JoeBiden It came from cancer charities for children They stole from sick kids https t co Do8u5ctKHU\n",
      "-\n"
     ]
    }
   ],
   "source": [
    "for tweet in df_all[df_all.labels == 2].tweet[:1000:100]:\n",
    "    print(tweet)\n",
    "    print('-')"
   ]
  },
  {
   "cell_type": "markdown",
   "metadata": {},
   "source": [
    "### Fourth"
   ]
  },
  {
   "cell_type": "code",
   "execution_count": 93,
   "metadata": {},
   "outputs": [
    {
     "data": {
      "text/plain": [
       "count    655.000000\n",
       "mean       0.175850\n",
       "std        0.604894\n",
       "min       -0.979100\n",
       "25%       -0.382650\n",
       "50%        0.354200\n",
       "75%        0.739050\n",
       "max        0.996700\n",
       "Name: sentiment_score, dtype: float64"
      ]
     },
     "execution_count": 93,
     "metadata": {},
     "output_type": "execute_result"
    }
   ],
   "source": [
    "df_all[df_all.labels == 3].sentiment_score.describe()"
   ]
  },
  {
   "cell_type": "code",
   "execution_count": 94,
   "metadata": {},
   "outputs": [
    {
     "data": {
      "text/plain": [
       "😂    252\n",
       "😭    146\n",
       "😍     94\n",
       "🤔     71\n",
       "😊     40\n",
       "😡     27\n",
       "😱     25\n",
       "Name: top_emoji, dtype: int64"
      ]
     },
     "execution_count": 94,
     "metadata": {},
     "output_type": "execute_result"
    }
   ],
   "source": [
    "df_all[df_all.labels == 3].top_emoji.value_counts()"
   ]
  },
  {
   "cell_type": "markdown",
   "metadata": {},
   "source": [
    "### Fifth"
   ]
  },
  {
   "cell_type": "code",
   "execution_count": 95,
   "metadata": {},
   "outputs": [
    {
     "data": {
      "text/plain": [
       "count    6851.000000\n",
       "mean        0.219268\n",
       "std         0.617071\n",
       "min        -0.999000\n",
       "25%        -0.340000\n",
       "50%         0.440400\n",
       "75%         0.784500\n",
       "max         0.999800\n",
       "Name: sentiment_score, dtype: float64"
      ]
     },
     "execution_count": 95,
     "metadata": {},
     "output_type": "execute_result"
    }
   ],
   "source": [
    "df_all[df_all.labels == 4].sentiment_score.describe()"
   ]
  },
  {
   "cell_type": "code",
   "execution_count": 96,
   "metadata": {},
   "outputs": [
    {
     "data": {
      "text/plain": [
       "😂    1961\n",
       "😍    1577\n",
       "😭    1412\n",
       "😊     584\n",
       "🤔     577\n",
       "😱     513\n",
       "😡     227\n",
       "Name: top_emoji, dtype: int64"
      ]
     },
     "execution_count": 96,
     "metadata": {},
     "output_type": "execute_result"
    }
   ],
   "source": [
    "df_all[df_all.labels == 4].top_emoji.value_counts()"
   ]
  },
  {
   "cell_type": "markdown",
   "metadata": {},
   "source": [
    "### Sixth"
   ]
  },
  {
   "cell_type": "code",
   "execution_count": 97,
   "metadata": {},
   "outputs": [
    {
     "data": {
      "text/plain": [
       "count    2457.000000\n",
       "mean        0.303597\n",
       "std         0.609082\n",
       "min        -0.997400\n",
       "25%        -0.178800\n",
       "50%         0.571900\n",
       "75%         0.817600\n",
       "max         0.996400\n",
       "Name: sentiment_score, dtype: float64"
      ]
     },
     "execution_count": 97,
     "metadata": {},
     "output_type": "execute_result"
    }
   ],
   "source": [
    "df_all[df_all.labels == 5].sentiment_score.describe()"
   ]
  },
  {
   "cell_type": "code",
   "execution_count": 98,
   "metadata": {},
   "outputs": [
    {
     "data": {
      "text/plain": [
       "😂    1022\n",
       "😭     646\n",
       "😍     288\n",
       "🤔     216\n",
       "😊     163\n",
       "😱      71\n",
       "😡      51\n",
       "Name: top_emoji, dtype: int64"
      ]
     },
     "execution_count": 98,
     "metadata": {},
     "output_type": "execute_result"
    }
   ],
   "source": [
    "df_all[df_all.labels == 5].top_emoji.value_counts()"
   ]
  },
  {
   "cell_type": "markdown",
   "metadata": {},
   "source": [
    "### Seventh"
   ]
  },
  {
   "cell_type": "code",
   "execution_count": 99,
   "metadata": {},
   "outputs": [
    {
     "data": {
      "text/plain": [
       "count    1508.000000\n",
       "mean        0.054111\n",
       "std         0.597470\n",
       "min        -0.996500\n",
       "25%        -0.541100\n",
       "50%         0.000000\n",
       "75%         0.636000\n",
       "max         0.999600\n",
       "Name: sentiment_score, dtype: float64"
      ]
     },
     "execution_count": 99,
     "metadata": {},
     "output_type": "execute_result"
    }
   ],
   "source": [
    "df_all[df_all.labels == 6].sentiment_score.describe()"
   ]
  },
  {
   "cell_type": "code",
   "execution_count": 100,
   "metadata": {},
   "outputs": [
    {
     "data": {
      "text/plain": [
       "😱    904\n",
       "😂    200\n",
       "😍    164\n",
       "😭     93\n",
       "😊     78\n",
       "🤔     57\n",
       "😡     12\n",
       "Name: top_emoji, dtype: int64"
      ]
     },
     "execution_count": 100,
     "metadata": {},
     "output_type": "execute_result"
    }
   ],
   "source": [
    "df_all[df_all.labels == 6].top_emoji.value_counts()"
   ]
  },
  {
   "cell_type": "markdown",
   "metadata": {},
   "source": [
    "### Eighth"
   ]
  },
  {
   "cell_type": "code",
   "execution_count": 101,
   "metadata": {},
   "outputs": [
    {
     "data": {
      "text/plain": [
       "count    1083.000000\n",
       "mean        0.088629\n",
       "std         0.625307\n",
       "min        -0.995000\n",
       "25%        -0.476700\n",
       "50%         0.128000\n",
       "75%         0.680800\n",
       "max         0.995900\n",
       "Name: sentiment_score, dtype: float64"
      ]
     },
     "execution_count": 101,
     "metadata": {},
     "output_type": "execute_result"
    }
   ],
   "source": [
    "df_all[df_all.labels == 7].sentiment_score.describe()"
   ]
  },
  {
   "cell_type": "code",
   "execution_count": 102,
   "metadata": {},
   "outputs": [
    {
     "data": {
      "text/plain": [
       "😂    346\n",
       "😭    323\n",
       "😍    169\n",
       "🤔     95\n",
       "😊     72\n",
       "😡     47\n",
       "😱     31\n",
       "Name: top_emoji, dtype: int64"
      ]
     },
     "execution_count": 102,
     "metadata": {},
     "output_type": "execute_result"
    }
   ],
   "source": [
    "df_all[df_all.labels == 7].top_emoji.value_counts()"
   ]
  },
  {
   "cell_type": "code",
   "execution_count": null,
   "metadata": {},
   "outputs": [],
   "source": []
  },
  {
   "cell_type": "code",
   "execution_count": null,
   "metadata": {},
   "outputs": [],
   "source": []
  }
 ],
 "metadata": {
  "kernelspec": {
   "display_name": "Python 3",
   "language": "python",
   "name": "python3"
  },
  "language_info": {
   "codemirror_mode": {
    "name": "ipython",
    "version": 3
   },
   "file_extension": ".py",
   "mimetype": "text/x-python",
   "name": "python",
   "nbconvert_exporter": "python",
   "pygments_lexer": "ipython3",
   "version": "3.8.3"
  }
 },
 "nbformat": 4,
 "nbformat_minor": 4
}
