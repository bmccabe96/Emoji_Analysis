{
 "cells": [
  {
   "cell_type": "markdown",
   "metadata": {},
   "source": [
    "# 1: Import Packages and Define Functions"
   ]
  },
  {
   "cell_type": "code",
   "execution_count": 119,
   "metadata": {},
   "outputs": [],
   "source": [
    "# Import some libraries that will be used\n",
    "import pandas as pd\n",
    "import numpy as np\n",
    "import matplotlib.pyplot as plt\n",
    "import seaborn as sns\n",
    "import mysql.connector\n",
    "import sys\n",
    "sys.path.insert(1, '/Users/brianmccabe/DataScience/Flatiron/mod5/Emoji_Analysis/Scripts/')\n",
    "import config\n",
    "import warnings\n",
    "warnings.filterwarnings('ignore')\n",
    "\n",
    "\n",
    "\n",
    "pd.set_option('display.max_columns', 300)\n",
    "\n",
    "%matplotlib inline"
   ]
  },
  {
   "cell_type": "code",
   "execution_count": 120,
   "metadata": {},
   "outputs": [
    {
     "name": "stderr",
     "output_type": "stream",
     "text": [
      "[nltk_data] Downloading package stopwords to\n",
      "[nltk_data]     /Users/brianmccabe/nltk_data...\n",
      "[nltk_data]   Package stopwords is already up-to-date!\n",
      "[nltk_data] Downloading package punkt to\n",
      "[nltk_data]     /Users/brianmccabe/nltk_data...\n",
      "[nltk_data]   Package punkt is already up-to-date!\n",
      "[nltk_data] Downloading package wordnet to\n",
      "[nltk_data]     /Users/brianmccabe/nltk_data...\n",
      "[nltk_data]   Package wordnet is already up-to-date!\n"
     ]
    },
    {
     "data": {
      "text/plain": [
       "True"
      ]
     },
     "execution_count": 120,
     "metadata": {},
     "output_type": "execute_result"
    }
   ],
   "source": [
    "import nltk\n",
    "from sklearn.feature_extraction.text import CountVectorizer\n",
    "from sklearn.feature_extraction.text import TfidfVectorizer\n",
    "from sklearn.feature_extraction.text import TfidfTransformer\n",
    "from nltk.probability import FreqDist\n",
    "from nltk.corpus import stopwords\n",
    "from nltk.stem import PorterStemmer\n",
    "from sklearn.metrics import confusion_matrix\n",
    "from sklearn.naive_bayes import MultinomialNB, BernoulliNB\n",
    "from sklearn import metrics\n",
    "from sklearn.model_selection import train_test_split\n",
    "from matplotlib import cm\n",
    "import numpy as np\n",
    "from sklearn.ensemble import RandomForestClassifier\n",
    "from sklearn.metrics import accuracy_score\n",
    "from sklearn.metrics import f1_score\n",
    "from sklearn.naive_bayes import MultinomialNB\n",
    "import string\n",
    "import scipy\n",
    "import emoji\n",
    "from vaderSentiment.vaderSentiment import SentimentIntensityAnalyzer\n",
    "import re\n",
    "\n",
    "nltk.download('stopwords')\n",
    "nltk.download('punkt')\n",
    "nltk.download('wordnet')"
   ]
  },
  {
   "cell_type": "code",
   "execution_count": 121,
   "metadata": {},
   "outputs": [],
   "source": [
    "def extract_emojis(s):\n",
    "    return ''.join(c for c in s if c in emoji.UNICODE_EMOJI)"
   ]
  },
  {
   "cell_type": "code",
   "execution_count": 122,
   "metadata": {},
   "outputs": [],
   "source": [
    "def check_for_flags(s):\n",
    "    s = str(s)\n",
    "    has_flag = False\n",
    "    for flag in flags:\n",
    "        if flag in s:\n",
    "            has_flag = True\n",
    "    return has_flag"
   ]
  },
  {
   "cell_type": "code",
   "execution_count": 123,
   "metadata": {},
   "outputs": [],
   "source": [
    "def unique_emoji_count(s):\n",
    "    return len(set([c for c in s]))"
   ]
  },
  {
   "cell_type": "code",
   "execution_count": 124,
   "metadata": {},
   "outputs": [],
   "source": [
    "def condence_emojis(s):\n",
    "    try:\n",
    "        return set(s).pop()\n",
    "    except:\n",
    "        return None"
   ]
  },
  {
   "cell_type": "code",
   "execution_count": 125,
   "metadata": {},
   "outputs": [],
   "source": [
    "analyzer = SentimentIntensityAnalyzer()\n",
    "def sentiment_scores(s):\n",
    "    return analyzer.polarity_scores(s)['compound']"
   ]
  },
  {
   "cell_type": "code",
   "execution_count": 126,
   "metadata": {},
   "outputs": [],
   "source": [
    "def remove_emojis(s):\n",
    "    pattern = \"[@\\w]+\"\n",
    "    return ' '.join(re.findall(pattern, s))"
   ]
  },
  {
   "cell_type": "markdown",
   "metadata": {},
   "source": [
    "# 2: Load in the Data and Clean"
   ]
  },
  {
   "cell_type": "code",
   "execution_count": 127,
   "metadata": {},
   "outputs": [],
   "source": [
    "connection = mysql.connector.connect(host=config.host,\n",
    "                                         user=config.user,\n",
    "                                         port=config.port,\n",
    "                                         password=config.password,\n",
    "                                         database=config.database,\n",
    "                                         auth_plugin='mysql_native_password')\n",
    "\n",
    "cursor = connection.cursor()\n",
    "query = \"SELECT tweet FROM Election_Tweets WHERE HEX(tweet) RLIKE '^(..)*F.'\"\n",
    "\n",
    "df = pd.read_sql(query, connection)"
   ]
  },
  {
   "cell_type": "code",
   "execution_count": 128,
   "metadata": {},
   "outputs": [
    {
     "data": {
      "text/html": [
       "<div>\n",
       "<style scoped>\n",
       "    .dataframe tbody tr th:only-of-type {\n",
       "        vertical-align: middle;\n",
       "    }\n",
       "\n",
       "    .dataframe tbody tr th {\n",
       "        vertical-align: top;\n",
       "    }\n",
       "\n",
       "    .dataframe thead th {\n",
       "        text-align: right;\n",
       "    }\n",
       "</style>\n",
       "<table border=\"1\" class=\"dataframe\">\n",
       "  <thead>\n",
       "    <tr style=\"text-align: right;\">\n",
       "      <th></th>\n",
       "      <th>tweet</th>\n",
       "    </tr>\n",
       "  </thead>\n",
       "  <tbody>\n",
       "    <tr>\n",
       "      <th>0</th>\n",
       "      <td>2 days until the election or 2 days until mass...</td>\n",
       "    </tr>\n",
       "    <tr>\n",
       "      <th>1</th>\n",
       "      <td>@Brianclowdus In keeping with your love of \"sl...</td>\n",
       "    </tr>\n",
       "    <tr>\n",
       "      <th>2</th>\n",
       "      <td>@Bull_Spotter Had a feeling the EU wanted to s...</td>\n",
       "    </tr>\n",
       "    <tr>\n",
       "      <th>3</th>\n",
       "      <td>@HeidiNBC Volunteer poll workers are the unsun...</td>\n",
       "    </tr>\n",
       "    <tr>\n",
       "      <th>4</th>\n",
       "      <td>@jaketapper Hmm 🤔 how about those republicans ...</td>\n",
       "    </tr>\n",
       "  </tbody>\n",
       "</table>\n",
       "</div>"
      ],
      "text/plain": [
       "                                               tweet\n",
       "0  2 days until the election or 2 days until mass...\n",
       "1  @Brianclowdus In keeping with your love of \"sl...\n",
       "2  @Bull_Spotter Had a feeling the EU wanted to s...\n",
       "3  @HeidiNBC Volunteer poll workers are the unsun...\n",
       "4  @jaketapper Hmm 🤔 how about those republicans ..."
      ]
     },
     "execution_count": 128,
     "metadata": {},
     "output_type": "execute_result"
    }
   ],
   "source": [
    "df.head()"
   ]
  },
  {
   "cell_type": "code",
   "execution_count": 129,
   "metadata": {},
   "outputs": [],
   "source": [
    "df['emoji'] = df.tweet.apply(extract_emojis)"
   ]
  },
  {
   "cell_type": "code",
   "execution_count": 130,
   "metadata": {},
   "outputs": [
    {
     "data": {
      "text/plain": [
       "['💥', '💥', '👍']"
      ]
     },
     "execution_count": 130,
     "metadata": {},
     "output_type": "execute_result"
    }
   ],
   "source": [
    "# We can see that emoji flags have strange representations. I will remove them from the dataset.\n",
    "## NOTE BELOW LIKELY WILL NO LONGER SHOW A FLAG, SINCE I'VE BEEN PULLING DATA EVERY DAY\n",
    "## But, flags were basically as follows....alone as a string, they are equal to a flag plus a white space\n",
    "## HOWEVER, once you strip it apart into a list form, it becomes a list of two emoticon-characters\n",
    "## For example, Brazil Flag as a string is \"Flag \", but as a list, it is [\"[B], [R]\"]\n",
    "## Below, i actually acquire these codes from wikipedia to aid in removing flags from the dataset\n",
    "[c for c in df.emoji.loc[9]]"
   ]
  },
  {
   "cell_type": "code",
   "execution_count": 131,
   "metadata": {},
   "outputs": [],
   "source": [
    "import flag\n",
    "from bs4 import BeautifulSoup\n",
    "import requests"
   ]
  },
  {
   "cell_type": "code",
   "execution_count": 132,
   "metadata": {},
   "outputs": [],
   "source": [
    "url = 'https://en.wikipedia.org/wiki/Regional_indicator_symbol'\n",
    "page = requests.get(url)\n",
    "soup = BeautifulSoup(page.content, 'html.parser')"
   ]
  },
  {
   "cell_type": "code",
   "execution_count": 133,
   "metadata": {},
   "outputs": [
    {
     "data": {
      "text/plain": [
       "['🇦🇨', '🇦🇩', '🇦🇪', '🇦🇫', '🇦🇬']"
      ]
     },
     "execution_count": 133,
     "metadata": {},
     "output_type": "execute_result"
    }
   ],
   "source": [
    "flags = []\n",
    "skip_first = 0\n",
    "for item in soup.find('tbody').find_all('tr'):\n",
    "    if skip_first == 0:\n",
    "        skip_first += 1\n",
    "        continue\n",
    "    flagcode = item.find_all('td')[1].text\n",
    "    flags.append(flag.flag(flagcode))\n",
    "\n",
    "flags[0:5]    "
   ]
  },
  {
   "cell_type": "code",
   "execution_count": 134,
   "metadata": {},
   "outputs": [
    {
     "data": {
      "text/plain": [
       "False    126\n",
       "True      16\n",
       "Name: emoji, dtype: int64"
      ]
     },
     "execution_count": 134,
     "metadata": {},
     "output_type": "execute_result"
    }
   ],
   "source": [
    "df.emoji.apply(check_for_flags).value_counts()"
   ]
  },
  {
   "cell_type": "code",
   "execution_count": 135,
   "metadata": {},
   "outputs": [],
   "source": [
    "df['has_flag'] = df.emoji.apply(check_for_flags)\n",
    "df = df[df.has_flag == False]\n",
    "df.drop('has_flag', axis=1, inplace=True)"
   ]
  },
  {
   "cell_type": "code",
   "execution_count": 136,
   "metadata": {},
   "outputs": [],
   "source": [
    "df['unique_emoji_count'] = df.emoji.apply(unique_emoji_count)"
   ]
  },
  {
   "cell_type": "code",
   "execution_count": 137,
   "metadata": {},
   "outputs": [],
   "source": [
    "df['sentiment_score'] = df.tweet.apply(sentiment_scores)"
   ]
  },
  {
   "cell_type": "code",
   "execution_count": 138,
   "metadata": {},
   "outputs": [],
   "source": [
    "df.to_csv(\"tweets_w_all_emojis_present.csv\")"
   ]
  },
  {
   "cell_type": "code",
   "execution_count": 139,
   "metadata": {},
   "outputs": [
    {
     "data": {
      "text/html": [
       "<div>\n",
       "<style scoped>\n",
       "    .dataframe tbody tr th:only-of-type {\n",
       "        vertical-align: middle;\n",
       "    }\n",
       "\n",
       "    .dataframe tbody tr th {\n",
       "        vertical-align: top;\n",
       "    }\n",
       "\n",
       "    .dataframe thead th {\n",
       "        text-align: right;\n",
       "    }\n",
       "</style>\n",
       "<table border=\"1\" class=\"dataframe\">\n",
       "  <thead>\n",
       "    <tr style=\"text-align: right;\">\n",
       "      <th></th>\n",
       "      <th>tweet</th>\n",
       "      <th>emoji</th>\n",
       "      <th>unique_emoji_count</th>\n",
       "      <th>sentiment_score</th>\n",
       "    </tr>\n",
       "  </thead>\n",
       "  <tbody>\n",
       "    <tr>\n",
       "      <th>0</th>\n",
       "      <td>2 days until the election or 2 days until mass...</td>\n",
       "      <td>🤔</td>\n",
       "      <td>1</td>\n",
       "      <td>-0.2960</td>\n",
       "    </tr>\n",
       "    <tr>\n",
       "      <th>1</th>\n",
       "      <td>@Brianclowdus In keeping with your love of \"sl...</td>\n",
       "      <td>😉🤣😎</td>\n",
       "      <td>3</td>\n",
       "      <td>0.8860</td>\n",
       "    </tr>\n",
       "    <tr>\n",
       "      <th>2</th>\n",
       "      <td>@Bull_Spotter Had a feeling the EU wanted to s...</td>\n",
       "      <td>😁</td>\n",
       "      <td>1</td>\n",
       "      <td>0.8658</td>\n",
       "    </tr>\n",
       "    <tr>\n",
       "      <th>3</th>\n",
       "      <td>@HeidiNBC Volunteer poll workers are the unsun...</td>\n",
       "      <td>✨🤜🤛✨</td>\n",
       "      <td>3</td>\n",
       "      <td>0.8149</td>\n",
       "    </tr>\n",
       "    <tr>\n",
       "      <th>4</th>\n",
       "      <td>@jaketapper Hmm 🤔 how about those republicans ...</td>\n",
       "      <td>🤔</td>\n",
       "      <td>1</td>\n",
       "      <td>-0.5423</td>\n",
       "    </tr>\n",
       "  </tbody>\n",
       "</table>\n",
       "</div>"
      ],
      "text/plain": [
       "                                               tweet emoji  \\\n",
       "0  2 days until the election or 2 days until mass...     🤔   \n",
       "1  @Brianclowdus In keeping with your love of \"sl...   😉🤣😎   \n",
       "2  @Bull_Spotter Had a feeling the EU wanted to s...     😁   \n",
       "3  @HeidiNBC Volunteer poll workers are the unsun...  ✨🤜🤛✨   \n",
       "4  @jaketapper Hmm 🤔 how about those republicans ...     🤔   \n",
       "\n",
       "   unique_emoji_count  sentiment_score  \n",
       "0                   1          -0.2960  \n",
       "1                   3           0.8860  \n",
       "2                   1           0.8658  \n",
       "3                   3           0.8149  \n",
       "4                   1          -0.5423  "
      ]
     },
     "execution_count": 139,
     "metadata": {},
     "output_type": "execute_result"
    }
   ],
   "source": [
    "df.head()"
   ]
  },
  {
   "cell_type": "code",
   "execution_count": 140,
   "metadata": {},
   "outputs": [
    {
     "data": {
      "text/plain": [
       "'@Bull_Spotter Had a feeling the EU wanted to stretch talks out until after US election result I ll smile when Trump wins'"
      ]
     },
     "execution_count": 140,
     "metadata": {},
     "output_type": "execute_result"
    }
   ],
   "source": [
    "pattern = \"[@\\w]+\"\n",
    "' '.join(re.findall(pattern, df.tweet.iloc[2]))"
   ]
  },
  {
   "cell_type": "code",
   "execution_count": null,
   "metadata": {},
   "outputs": [],
   "source": []
  },
  {
   "cell_type": "code",
   "execution_count": null,
   "metadata": {},
   "outputs": [],
   "source": []
  },
  {
   "cell_type": "code",
   "execution_count": null,
   "metadata": {},
   "outputs": [],
   "source": []
  },
  {
   "cell_type": "code",
   "execution_count": 141,
   "metadata": {},
   "outputs": [],
   "source": [
    "df['tweet'] = df.tweet.apply(remove_emojis)"
   ]
  },
  {
   "cell_type": "code",
   "execution_count": 142,
   "metadata": {},
   "outputs": [
    {
     "data": {
      "text/html": [
       "<div>\n",
       "<style scoped>\n",
       "    .dataframe tbody tr th:only-of-type {\n",
       "        vertical-align: middle;\n",
       "    }\n",
       "\n",
       "    .dataframe tbody tr th {\n",
       "        vertical-align: top;\n",
       "    }\n",
       "\n",
       "    .dataframe thead th {\n",
       "        text-align: right;\n",
       "    }\n",
       "</style>\n",
       "<table border=\"1\" class=\"dataframe\">\n",
       "  <thead>\n",
       "    <tr style=\"text-align: right;\">\n",
       "      <th></th>\n",
       "      <th>tweet</th>\n",
       "      <th>emoji</th>\n",
       "      <th>unique_emoji_count</th>\n",
       "      <th>sentiment_score</th>\n",
       "    </tr>\n",
       "  </thead>\n",
       "  <tbody>\n",
       "    <tr>\n",
       "      <th>0</th>\n",
       "      <td>2 days until the election or 2 days until mass...</td>\n",
       "      <td>🤔</td>\n",
       "      <td>1</td>\n",
       "      <td>-0.2960</td>\n",
       "    </tr>\n",
       "    <tr>\n",
       "      <th>1</th>\n",
       "      <td>@Brianclowdus In keeping with your love of sle...</td>\n",
       "      <td>😉🤣😎</td>\n",
       "      <td>3</td>\n",
       "      <td>0.8860</td>\n",
       "    </tr>\n",
       "    <tr>\n",
       "      <th>2</th>\n",
       "      <td>@Bull_Spotter Had a feeling the EU wanted to s...</td>\n",
       "      <td>😁</td>\n",
       "      <td>1</td>\n",
       "      <td>0.8658</td>\n",
       "    </tr>\n",
       "    <tr>\n",
       "      <th>3</th>\n",
       "      <td>@HeidiNBC Volunteer poll workers are the unsun...</td>\n",
       "      <td>✨🤜🤛✨</td>\n",
       "      <td>3</td>\n",
       "      <td>0.8149</td>\n",
       "    </tr>\n",
       "    <tr>\n",
       "      <th>4</th>\n",
       "      <td>@jaketapper Hmm how about those republicans Ja...</td>\n",
       "      <td>🤔</td>\n",
       "      <td>1</td>\n",
       "      <td>-0.5423</td>\n",
       "    </tr>\n",
       "  </tbody>\n",
       "</table>\n",
       "</div>"
      ],
      "text/plain": [
       "                                               tweet emoji  \\\n",
       "0  2 days until the election or 2 days until mass...     🤔   \n",
       "1  @Brianclowdus In keeping with your love of sle...   😉🤣😎   \n",
       "2  @Bull_Spotter Had a feeling the EU wanted to s...     😁   \n",
       "3  @HeidiNBC Volunteer poll workers are the unsun...  ✨🤜🤛✨   \n",
       "4  @jaketapper Hmm how about those republicans Ja...     🤔   \n",
       "\n",
       "   unique_emoji_count  sentiment_score  \n",
       "0                   1          -0.2960  \n",
       "1                   3           0.8860  \n",
       "2                   1           0.8658  \n",
       "3                   3           0.8149  \n",
       "4                   1          -0.5423  "
      ]
     },
     "execution_count": 142,
     "metadata": {},
     "output_type": "execute_result"
    }
   ],
   "source": [
    "df.head()"
   ]
  },
  {
   "cell_type": "code",
   "execution_count": 143,
   "metadata": {},
   "outputs": [
    {
     "data": {
      "text/plain": [
       "0"
      ]
     },
     "execution_count": 143,
     "metadata": {},
     "output_type": "execute_result"
    }
   ],
   "source": [
    "df.emoji.isna().sum()"
   ]
  },
  {
   "cell_type": "code",
   "execution_count": 144,
   "metadata": {},
   "outputs": [],
   "source": [
    "df.dropna(inplace=True)"
   ]
  },
  {
   "cell_type": "code",
   "execution_count": 145,
   "metadata": {},
   "outputs": [
    {
     "data": {
      "text/plain": [
       "tweet                 0\n",
       "emoji                 0\n",
       "unique_emoji_count    0\n",
       "sentiment_score       0\n",
       "dtype: int64"
      ]
     },
     "execution_count": 145,
     "metadata": {},
     "output_type": "execute_result"
    }
   ],
   "source": [
    "df.isna().sum()"
   ]
  },
  {
   "cell_type": "code",
   "execution_count": 146,
   "metadata": {},
   "outputs": [],
   "source": [
    "df = df[df.unique_emoji_count > 0]"
   ]
  },
  {
   "cell_type": "code",
   "execution_count": 147,
   "metadata": {},
   "outputs": [],
   "source": [
    "df.reset_index(inplace=True)"
   ]
  },
  {
   "cell_type": "code",
   "execution_count": 148,
   "metadata": {},
   "outputs": [],
   "source": [
    "# Creating a dataframe of singular emojis to the average sentiment score they obtain\n",
    "df2 = df.copy()\n",
    "df2 = df2[df2.unique_emoji_count == 1]\n",
    "df2['emoji'] = df2.emoji.apply(condence_emojis)\n",
    "emoji_sentiment_mappings = df2[['emoji', 'sentiment_score']].groupby('emoji').mean()"
   ]
  },
  {
   "cell_type": "code",
   "execution_count": 149,
   "metadata": {},
   "outputs": [],
   "source": [
    "def impute_top_emoji(s, mappings = emoji_sentiment_mappings, data = df):\n",
    "    val = df[df.emoji == s].sentiment_score.values[0]\n",
    "    s = list(set(s))\n",
    "    closest = 100\n",
    "    top = s[0]\n",
    "    for i in range(0, len(s)):\n",
    "        try:\n",
    "            if abs(val - emoji_sentiment_mappings.loc[s[i]].sentiment_score) < closest:\n",
    "                closest = abs(val - emoji_sentiment_mappings.loc[s[i]].sentiment_score)\n",
    "                top = s[i]\n",
    "        except:\n",
    "            continue\n",
    "    return top"
   ]
  },
  {
   "cell_type": "code",
   "execution_count": 150,
   "metadata": {},
   "outputs": [],
   "source": [
    "df['top_emoji'] = df.emoji.apply(impute_top_emoji)"
   ]
  },
  {
   "cell_type": "code",
   "execution_count": 151,
   "metadata": {},
   "outputs": [],
   "source": [
    "df.drop([\"unique_emoji_count\", \"emoji\"], axis=1, inplace=True)\n",
    "df.drop('index', axis=1, inplace=True)"
   ]
  },
  {
   "cell_type": "code",
   "execution_count": 152,
   "metadata": {},
   "outputs": [],
   "source": [
    "emoji_counts = dict(df.top_emoji.value_counts())"
   ]
  },
  {
   "cell_type": "code",
   "execution_count": 153,
   "metadata": {},
   "outputs": [],
   "source": [
    "df['emoji_frequency'] = df.top_emoji.map(emoji_counts)"
   ]
  },
  {
   "cell_type": "code",
   "execution_count": 154,
   "metadata": {},
   "outputs": [
    {
     "data": {
      "text/html": [
       "<div>\n",
       "<style scoped>\n",
       "    .dataframe tbody tr th:only-of-type {\n",
       "        vertical-align: middle;\n",
       "    }\n",
       "\n",
       "    .dataframe tbody tr th {\n",
       "        vertical-align: top;\n",
       "    }\n",
       "\n",
       "    .dataframe thead th {\n",
       "        text-align: right;\n",
       "    }\n",
       "</style>\n",
       "<table border=\"1\" class=\"dataframe\">\n",
       "  <thead>\n",
       "    <tr style=\"text-align: right;\">\n",
       "      <th></th>\n",
       "      <th>tweet</th>\n",
       "      <th>sentiment_score</th>\n",
       "      <th>top_emoji</th>\n",
       "      <th>emoji_frequency</th>\n",
       "    </tr>\n",
       "  </thead>\n",
       "  <tbody>\n",
       "    <tr>\n",
       "      <th>0</th>\n",
       "      <td>2 days until the election or 2 days until mass...</td>\n",
       "      <td>-0.2960</td>\n",
       "      <td>🤔</td>\n",
       "      <td>2</td>\n",
       "    </tr>\n",
       "    <tr>\n",
       "      <th>1</th>\n",
       "      <td>@Brianclowdus In keeping with your love of sle...</td>\n",
       "      <td>0.8860</td>\n",
       "      <td>😎</td>\n",
       "      <td>1</td>\n",
       "    </tr>\n",
       "    <tr>\n",
       "      <th>2</th>\n",
       "      <td>@Bull_Spotter Had a feeling the EU wanted to s...</td>\n",
       "      <td>0.8658</td>\n",
       "      <td>😁</td>\n",
       "      <td>1</td>\n",
       "    </tr>\n",
       "    <tr>\n",
       "      <th>3</th>\n",
       "      <td>@HeidiNBC Volunteer poll workers are the unsun...</td>\n",
       "      <td>0.8149</td>\n",
       "      <td>🤛</td>\n",
       "      <td>1</td>\n",
       "    </tr>\n",
       "    <tr>\n",
       "      <th>4</th>\n",
       "      <td>@jaketapper Hmm how about those republicans Ja...</td>\n",
       "      <td>-0.5423</td>\n",
       "      <td>🤔</td>\n",
       "      <td>2</td>\n",
       "    </tr>\n",
       "  </tbody>\n",
       "</table>\n",
       "</div>"
      ],
      "text/plain": [
       "                                               tweet  sentiment_score  \\\n",
       "0  2 days until the election or 2 days until mass...          -0.2960   \n",
       "1  @Brianclowdus In keeping with your love of sle...           0.8860   \n",
       "2  @Bull_Spotter Had a feeling the EU wanted to s...           0.8658   \n",
       "3  @HeidiNBC Volunteer poll workers are the unsun...           0.8149   \n",
       "4  @jaketapper Hmm how about those republicans Ja...          -0.5423   \n",
       "\n",
       "  top_emoji  emoji_frequency  \n",
       "0         🤔                2  \n",
       "1         😎                1  \n",
       "2         😁                1  \n",
       "3         🤛                1  \n",
       "4         🤔                2  "
      ]
     },
     "execution_count": 154,
     "metadata": {},
     "output_type": "execute_result"
    }
   ],
   "source": [
    "df.head()"
   ]
  },
  {
   "cell_type": "code",
   "execution_count": 155,
   "metadata": {},
   "outputs": [],
   "source": [
    "df.to_csv(\"tweets.csv\")"
   ]
  },
  {
   "cell_type": "markdown",
   "metadata": {},
   "source": [
    "# 3. Explore the Data and Create Initial Insights"
   ]
  },
  {
   "cell_type": "code",
   "execution_count": 156,
   "metadata": {},
   "outputs": [
    {
     "data": {
      "text/plain": [
       "<matplotlib.axes._subplots.AxesSubplot at 0x10c4bd9a0>"
      ]
     },
     "execution_count": 156,
     "metadata": {},
     "output_type": "execute_result"
    },
    {
     "data": {
      "image/png": "[encoded data removed]",
      "text/plain": [
       "<Figure size 432x288 with 1 Axes>"
      ]
     },
     "metadata": {
      "needs_background": "light"
     },
     "output_type": "display_data"
    }
   ],
   "source": [
    "sns.distplot(df.sentiment_score)"
   ]
  },
  {
   "cell_type": "markdown",
   "metadata": {},
   "source": [
    "### Write in some blurb here about the stuff above (amount of emojis, mean freq of emoji, etc) once I have all my data"
   ]
  },
  {
   "cell_type": "code",
   "execution_count": 157,
   "metadata": {},
   "outputs": [],
   "source": [
    "emojis = df.groupby('top_emoji').mean()"
   ]
  },
  {
   "cell_type": "code",
   "execution_count": 158,
   "metadata": {},
   "outputs": [],
   "source": [
    "neg_emojis = emojis[emojis.sentiment_score < -.1].index.unique()\n",
    "net_emojis = emojis[(emojis.sentiment_score >= -.1) & (emojis.sentiment_score <= .1)].index.unique()\n",
    "pos_emojis = emojis[emojis.sentiment_score > .1].index.unique()"
   ]
  },
  {
   "cell_type": "code",
   "execution_count": 159,
   "metadata": {},
   "outputs": [
    {
     "name": "stdout",
     "output_type": "stream",
     "text": [
      "Negative length: 35\n",
      "Neutral length: 28\n",
      "Postive length: 62\n"
     ]
    }
   ],
   "source": [
    "negative = df.loc[df['top_emoji'].isin(neg_emojis)]\n",
    "neutral = df.loc[df['top_emoji'].isin(net_emojis)]\n",
    "positive = df.loc[df['top_emoji'].isin(pos_emojis)]\n",
    "\n",
    "print(f\"Negative length: {len(negative)}\")\n",
    "print(f\"Neutral length: {len(neutral)}\")\n",
    "print(f\"Postive length: {len(positive)}\")"
   ]
  },
  {
   "cell_type": "code",
   "execution_count": 160,
   "metadata": {},
   "outputs": [
    {
     "data": {
      "text/plain": [
       "😭    4\n",
       "🙄    3\n",
       "🤔    2\n",
       "🔥    2\n",
       "💥    2\n",
       "💩    2\n",
       "😫    2\n",
       "🥴    2\n",
       "🤷    2\n",
       "🎉    2\n",
       "😬    2\n",
       "🤯    1\n",
       "😑    1\n",
       "😖    1\n",
       "🤬    1\n",
       "😪    1\n",
       "🤞    1\n",
       "🤨    1\n",
       "😱    1\n",
       "😲    1\n",
       "Name: top_emoji, dtype: int64"
      ]
     },
     "execution_count": 160,
     "metadata": {},
     "output_type": "execute_result"
    }
   ],
   "source": [
    "negative.top_emoji.value_counts()[:20]"
   ]
  },
  {
   "cell_type": "code",
   "execution_count": 161,
   "metadata": {},
   "outputs": [
    {
     "data": {
      "text/plain": [
       "🚨    15\n",
       "👇     3\n",
       "🏽     2\n",
       "🤦     2\n",
       "🎶     1\n",
       "🏻     1\n",
       "🙅     1\n",
       "👏     1\n",
       "😏     1\n",
       "🔔     1\n",
       "Name: top_emoji, dtype: int64"
      ]
     },
     "execution_count": 161,
     "metadata": {},
     "output_type": "execute_result"
    }
   ],
   "source": [
    "neutral.top_emoji.value_counts()[:20]"
   ]
  },
  {
   "cell_type": "code",
   "execution_count": 162,
   "metadata": {},
   "outputs": [
    {
     "data": {
      "text/plain": [
       "😂    9\n",
       "🙏    7\n",
       "🗳    6\n",
       "😳    4\n",
       "👀    3\n",
       "🥰    2\n",
       "😅    2\n",
       "💕    2\n",
       "🧐    2\n",
       "📍    2\n",
       "💃    2\n",
       "🏀    2\n",
       "👉    1\n",
       "🍀    1\n",
       "😀    1\n",
       "🐻    1\n",
       "🖐    1\n",
       "🙂    1\n",
       "🤛    1\n",
       "😎    1\n",
       "Name: top_emoji, dtype: int64"
      ]
     },
     "execution_count": 162,
     "metadata": {},
     "output_type": "execute_result"
    }
   ],
   "source": [
    "positive.top_emoji.value_counts()[:20]"
   ]
  },
  {
   "cell_type": "markdown",
   "metadata": {},
   "source": [
    "From the above, I will select some emojis to have as my \"target values\". My model won't be able to predict any emoji from the entire list of them, as that would greatly increase the difficulty of the classification. Would likely need far, far more data than I have for each emoji in order for something like that to work."
   ]
  },
  {
   "cell_type": "markdown",
   "metadata": {},
   "source": [
    "I will choose emojis based on the following:\n",
    "- Emojis with highest usage count\n",
    "- Emojis that cover aspects from the groups above\n",
    "- My light KMeans coverage points to 6, 7 or 8 classes\n",
    "\n",
    "Target 1 (General vibe of laughter)\n",
    "- 😂   (most frequent per twitter article, will convert below to this using np.where)\n",
    "- 🤣\n",
    "\n",
    "Target 2 (General vibe of loving)\n",
    "- 😍   (most frequent per twitter article, will convert below to this using np.where)\n",
    "- 🥰\n",
    "- 🥺\n",
    "\n",
    "Target 3 (General vibe of anger -- note the counts for this are quite low from my search results)\n",
    "- 😡   (most frequent per twitter article, will convert below to this using np.where)\n",
    "- 😤\n",
    "- 🤬\n",
    "- 😠\n",
    "\n",
    "\n",
    "Target 4 (General vibe of sad)\n",
    "- 😭   (most frequent per twitter article, will convert below to this using np.where)\n",
    "- 😢\n",
    "- 😫\n",
    "- 😞\n",
    "\n",
    "Target 5 (General vibe of happy)\n",
    "- 😊   (most frequent per twitter article, will convert below to this using np.where)\n",
    "- 😁\n",
    "- 😌\n",
    "\n",
    "Target 6 (General vibe of scary/nervous)\n",
    "- 😱   (Most frequent fearful emoji face,  will convert below to this using np.where)\n",
    "- 👻   (Note, this emoji is most likely extra prevalent due to the fact data was gathered days before halloween)\n",
    "- 😬\n",
    "\n",
    "\n",
    "Target 7 (General vibe of wonder/puzzled)\n",
    "- 🤔   (most frequent per twitter article, will convert below to this using np.where)\n",
    "- 🙄   \n",
    "- 😳\n",
    "- 🧐\n",
    "\n",
    "\n",
    "\n"
   ]
  },
  {
   "cell_type": "code",
   "execution_count": null,
   "metadata": {},
   "outputs": [],
   "source": [
    "test = ['😂', '🤣', '😍', '🥰','🥺', '😡', '😤','🤬','😠','😭','😢','😫','😞',\n",
    "       '😊', '😁','😌','😱', '👻','😬','🤔', '🙄', '😳', '🧐']"
   ]
  },
  {
   "cell_type": "code",
   "execution_count": 42,
   "metadata": {},
   "outputs": [],
   "source": [
    "new_df = df[df.top_emoji.isin(test)]"
   ]
  },
  {
   "cell_type": "code",
   "execution_count": 43,
   "metadata": {},
   "outputs": [],
   "source": [
    "conditions = [\n",
    "    new_df.top_emoji == '🤣',\n",
    "    (new_df.top_emoji == '🥰') | (new_df.top_emoji == '🥺'),\n",
    "    (new_df.top_emoji == '😤') | (new_df.top_emoji == '🤬') | (new_df.top_emoji == '😠'),\n",
    "    (new_df.top_emoji == '😢') | (new_df.top_emoji == '😫') | (new_df.top_emoji == '😞'),\n",
    "    (new_df.top_emoji == '😁') | (new_df.top_emoji == '😌'),\n",
    "    (new_df.top_emoji == '👻') | (new_df.top_emoji == '😬'),\n",
    "    (new_df.top_emoji == '🙄') | (new_df.top_emoji == '😳') | (new_df.top_emoji == '🧐')\n",
    "]\n",
    "\n",
    "choices = [\n",
    "    '😂',\n",
    "    '😍',\n",
    "    '😡', \n",
    "    '😭',\n",
    "    '😊', \n",
    "    '😱', \n",
    "    '🤔'\n",
    "]\n",
    "\n",
    "new_df.top_emoji = np.select(conditions, choices, default = new_df.top_emoji)"
   ]
  },
  {
   "cell_type": "code",
   "execution_count": 44,
   "metadata": {},
   "outputs": [
    {
     "data": {
      "text/plain": [
       "😂    13949\n",
       "😭     8719\n",
       "😍     7192\n",
       "🤔     3740\n",
       "😊     3230\n",
       "😱     2477\n",
       "😡     1155\n",
       "Name: top_emoji, dtype: int64"
      ]
     },
     "execution_count": 44,
     "metadata": {},
     "output_type": "execute_result"
    }
   ],
   "source": [
    "new_df.top_emoji.value_counts()"
   ]
  },
  {
   "cell_type": "code",
   "execution_count": 45,
   "metadata": {},
   "outputs": [
    {
     "data": {
      "text/plain": [
       "['😂', '😭', '😍', '🤔', '😊', '😱', '😡']"
      ]
     },
     "execution_count": 45,
     "metadata": {},
     "output_type": "execute_result"
    }
   ],
   "source": [
    "list(new_df.top_emoji.value_counts().index)"
   ]
  },
  {
   "cell_type": "code",
   "execution_count": 46,
   "metadata": {},
   "outputs": [],
   "source": [
    "new_df.drop('emoji_frequency', axis=1, inplace=True)"
   ]
  },
  {
   "cell_type": "code",
   "execution_count": 47,
   "metadata": {},
   "outputs": [],
   "source": [
    "freq_map = dict(new_df.top_emoji.value_counts())\n",
    "new_df['emoji_frequency'] = new_df.top_emoji.map(freq_map)"
   ]
  },
  {
   "cell_type": "code",
   "execution_count": 48,
   "metadata": {},
   "outputs": [],
   "source": [
    "emojis = new_df.groupby('top_emoji').mean()"
   ]
  },
  {
   "cell_type": "code",
   "execution_count": 49,
   "metadata": {},
   "outputs": [],
   "source": [
    "emojis.to_csv(\"emojis.csv\")"
   ]
  },
  {
   "cell_type": "code",
   "execution_count": 50,
   "metadata": {},
   "outputs": [],
   "source": [
    "new_df.to_csv(\"tweets_7_classes.csv\")"
   ]
  },
  {
   "cell_type": "code",
   "execution_count": 51,
   "metadata": {},
   "outputs": [],
   "source": [
    "from matplotlib.offsetbox import OffsetImage, AnnotationBbox\n",
    "\n",
    "def getImage(path):\n",
    "    return OffsetImage(plt.imread(path))"
   ]
  },
  {
   "cell_type": "code",
   "execution_count": 52,
   "metadata": {},
   "outputs": [
    {
     "data": {
      "text/plain": [
       "Index(['😂', '😊', '😍', '😡', '😭', '😱', '🤔'], dtype='object', name='top_emoji')"
      ]
     },
     "execution_count": 52,
     "metadata": {},
     "output_type": "execute_result"
    }
   ],
   "source": [
    "emojis.index"
   ]
  },
  {
   "cell_type": "code",
   "execution_count": 53,
   "metadata": {},
   "outputs": [],
   "source": [
    "pics = ['laugh.png', 'happy.png','love.png','angry.png','cry.png','scary.png','wonder.png']"
   ]
  },
  {
   "cell_type": "code",
   "execution_count": 54,
   "metadata": {},
   "outputs": [
    {
     "data": {
      "image/png": "[encoded data removed]",
      "text/plain": [
       "<Figure size 1008x504 with 1 Axes>"
      ]
     },
     "metadata": {
      "needs_background": "light"
     },
     "output_type": "display_data"
    }
   ],
   "source": [
    "fig, ax = plt.subplots(figsize = (14,7))\n",
    "\n",
    "sns.scatterplot(x=emojis.sentiment_score, y=emojis.emoji_frequency, ax=ax)\n",
    "sns.set_style(\"whitegrid\")\n",
    "plt.xticks(fontsize=12)\n",
    "plt.xlabel('sentiment', fontsize=16)\n",
    "plt.yticks(fontsize=12)\n",
    "plt.ylabel('emoji count', fontsize=16)\n",
    "plt.title(\"Emoji Count and Sentiment\", fontsize = 20)\n",
    "\n",
    "for x0, y0, pic in zip(emojis.sentiment_score, emojis.emoji_frequency,pics):\n",
    "    ab = AnnotationBbox(getImage(pic), (x0, y0), frameon=False)\n",
    "    ax.add_artist(ab)\n",
    "plt.show()"
   ]
  },
  {
   "cell_type": "code",
   "execution_count": 56,
   "metadata": {},
   "outputs": [
    {
     "data": {
      "text/html": [
       "<div>\n",
       "<style scoped>\n",
       "    .dataframe tbody tr th:only-of-type {\n",
       "        vertical-align: middle;\n",
       "    }\n",
       "\n",
       "    .dataframe tbody tr th {\n",
       "        vertical-align: top;\n",
       "    }\n",
       "\n",
       "    .dataframe thead th {\n",
       "        text-align: right;\n",
       "    }\n",
       "</style>\n",
       "<table border=\"1\" class=\"dataframe\">\n",
       "  <thead>\n",
       "    <tr style=\"text-align: right;\">\n",
       "      <th></th>\n",
       "      <th>tweet</th>\n",
       "      <th>sentiment_score</th>\n",
       "      <th>top_emoji</th>\n",
       "      <th>emoji_frequency</th>\n",
       "    </tr>\n",
       "  </thead>\n",
       "  <tbody>\n",
       "    <tr>\n",
       "      <th>0</th>\n",
       "      <td>Hello this has been KARINA and WINTER We re cu...</td>\n",
       "      <td>0.9840</td>\n",
       "      <td>😊</td>\n",
       "      <td>3230</td>\n",
       "    </tr>\n",
       "    <tr>\n",
       "      <th>1</th>\n",
       "      <td>ilysm you deserve the world please you re awes...</td>\n",
       "      <td>0.7284</td>\n",
       "      <td>😍</td>\n",
       "      <td>7192</td>\n",
       "    </tr>\n",
       "    <tr>\n",
       "      <th>4</th>\n",
       "      <td>Hey 965TDY I d like to hear Naughty List by li...</td>\n",
       "      <td>0.9168</td>\n",
       "      <td>😊</td>\n",
       "      <td>3230</td>\n",
       "    </tr>\n",
       "    <tr>\n",
       "      <th>6</th>\n",
       "      <td>If I were to lift her up I d die SingleAndMing...</td>\n",
       "      <td>0.9723</td>\n",
       "      <td>😂</td>\n",
       "      <td>13949</td>\n",
       "    </tr>\n",
       "    <tr>\n",
       "      <th>7</th>\n",
       "      <td>Mr Blair don t be a lier a Blier R G Mugabe RI...</td>\n",
       "      <td>0.4404</td>\n",
       "      <td>😂</td>\n",
       "      <td>13949</td>\n",
       "    </tr>\n",
       "    <tr>\n",
       "      <th>...</th>\n",
       "      <td>...</td>\n",
       "      <td>...</td>\n",
       "      <td>...</td>\n",
       "      <td>...</td>\n",
       "    </tr>\n",
       "    <tr>\n",
       "      <th>115864</th>\n",
       "      <td>Says the person who is able to walk past the d...</td>\n",
       "      <td>0.9911</td>\n",
       "      <td>😂</td>\n",
       "      <td>13949</td>\n",
       "    </tr>\n",
       "    <tr>\n",
       "      <th>115865</th>\n",
       "      <td>10 10 comedy https t co BqwVhDbZx8</td>\n",
       "      <td>0.9983</td>\n",
       "      <td>😂</td>\n",
       "      <td>13949</td>\n",
       "    </tr>\n",
       "    <tr>\n",
       "      <th>115866</th>\n",
       "      <td>Liverpool fans kill me clowns https t co Bbtk1...</td>\n",
       "      <td>0.9972</td>\n",
       "      <td>😂</td>\n",
       "      <td>13949</td>\n",
       "    </tr>\n",
       "    <tr>\n",
       "      <th>115867</th>\n",
       "      <td>DEEP BREATH https t co csZ66nGIAz</td>\n",
       "      <td>0.9991</td>\n",
       "      <td>😂</td>\n",
       "      <td>13949</td>\n",
       "    </tr>\n",
       "    <tr>\n",
       "      <th>115869</th>\n",
       "      <td>So true https t co n19Z31pEGD</td>\n",
       "      <td>0.9982</td>\n",
       "      <td>😂</td>\n",
       "      <td>13949</td>\n",
       "    </tr>\n",
       "  </tbody>\n",
       "</table>\n",
       "<p>40462 rows × 4 columns</p>\n",
       "</div>"
      ],
      "text/plain": [
       "                                                    tweet  sentiment_score  \\\n",
       "0       Hello this has been KARINA and WINTER We re cu...           0.9840   \n",
       "1       ilysm you deserve the world please you re awes...           0.7284   \n",
       "4       Hey 965TDY I d like to hear Naughty List by li...           0.9168   \n",
       "6       If I were to lift her up I d die SingleAndMing...           0.9723   \n",
       "7       Mr Blair don t be a lier a Blier R G Mugabe RI...           0.4404   \n",
       "...                                                   ...              ...   \n",
       "115864  Says the person who is able to walk past the d...           0.9911   \n",
       "115865                 10 10 comedy https t co BqwVhDbZx8           0.9983   \n",
       "115866  Liverpool fans kill me clowns https t co Bbtk1...           0.9972   \n",
       "115867                  DEEP BREATH https t co csZ66nGIAz           0.9991   \n",
       "115869                      So true https t co n19Z31pEGD           0.9982   \n",
       "\n",
       "       top_emoji  emoji_frequency  \n",
       "0              😊             3230  \n",
       "1              😍             7192  \n",
       "4              😊             3230  \n",
       "6              😂            13949  \n",
       "7              😂            13949  \n",
       "...          ...              ...  \n",
       "115864         😂            13949  \n",
       "115865         😂            13949  \n",
       "115866         😂            13949  \n",
       "115867         😂            13949  \n",
       "115869         😂            13949  \n",
       "\n",
       "[40462 rows x 4 columns]"
      ]
     },
     "execution_count": 56,
     "metadata": {},
     "output_type": "execute_result"
    }
   ],
   "source": [
    "new_df"
   ]
  },
  {
   "cell_type": "code",
   "execution_count": null,
   "metadata": {},
   "outputs": [],
   "source": []
  }
 ],
 "metadata": {
  "kernelspec": {
   "display_name": "Python 3",
   "language": "python",
   "name": "python3"
  },
  "language_info": {
   "codemirror_mode": {
    "name": "ipython",
    "version": 3
   },
   "file_extension": ".py",
   "mimetype": "text/x-python",
   "name": "python",
   "nbconvert_exporter": "python",
   "pygments_lexer": "ipython3",
   "version": "3.8.3"
  }
 },
 "nbformat": 4,
 "nbformat_minor": 4
}
