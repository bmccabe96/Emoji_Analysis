{
 "cells": [
  {
   "cell_type": "markdown",
   "metadata": {},
   "source": [
    "# 1. Import Packages and Define Functions"
   ]
  },
  {
   "cell_type": "code",
   "execution_count": 1,
   "metadata": {},
   "outputs": [],
   "source": [
    "# Import some libraries that will be used\n",
    "import pandas as pd\n",
    "import numpy as np\n",
    "import matplotlib.pyplot as plt\n",
    "import seaborn as sns\n",
    "sns.set_palette('viridis')\n",
    "import mysql.connector\n",
    "import sys\n",
    "sys.path.insert(1, '/Users/brianmccabe/DataScience/Flatiron/mod5/Emoji_Analysis/Scripts/')\n",
    "import config\n",
    "import warnings\n",
    "warnings.filterwarnings('ignore')\n",
    "\n",
    "\n",
    "\n",
    "pd.set_option('display.max_columns', 300)\n",
    "\n",
    "%matplotlib inline"
   ]
  },
  {
   "cell_type": "code",
   "execution_count": 2,
   "metadata": {},
   "outputs": [
    {
     "name": "stderr",
     "output_type": "stream",
     "text": [
      "[nltk_data] Downloading package stopwords to\n",
      "[nltk_data]     /Users/brianmccabe/nltk_data...\n",
      "[nltk_data]   Package stopwords is already up-to-date!\n",
      "[nltk_data] Downloading package punkt to\n",
      "[nltk_data]     /Users/brianmccabe/nltk_data...\n",
      "[nltk_data]   Package punkt is already up-to-date!\n",
      "[nltk_data] Downloading package wordnet to\n",
      "[nltk_data]     /Users/brianmccabe/nltk_data...\n",
      "[nltk_data]   Package wordnet is already up-to-date!\n",
      "[nltk_data] Downloading package brown to\n",
      "[nltk_data]     /Users/brianmccabe/nltk_data...\n",
      "[nltk_data]   Package brown is already up-to-date!\n"
     ]
    },
    {
     "data": {
      "text/plain": [
       "True"
      ]
     },
     "execution_count": 2,
     "metadata": {},
     "output_type": "execute_result"
    }
   ],
   "source": [
    "import nltk\n",
    "from sklearn.feature_extraction.text import CountVectorizer\n",
    "from sklearn.feature_extraction.text import TfidfVectorizer\n",
    "from sklearn.feature_extraction.text import TfidfTransformer\n",
    "from nltk.probability import FreqDist\n",
    "from nltk.corpus import stopwords\n",
    "from nltk.stem import PorterStemmer\n",
    "from sklearn.metrics import confusion_matrix, classification_report\n",
    "from sklearn.naive_bayes import MultinomialNB, BernoulliNB\n",
    "from sklearn import metrics\n",
    "from sklearn.model_selection import train_test_split\n",
    "from matplotlib import cm\n",
    "import numpy as np\n",
    "from sklearn.ensemble import RandomForestClassifier\n",
    "from sklearn.metrics import accuracy_score\n",
    "from sklearn.metrics import f1_score\n",
    "from sklearn.naive_bayes import MultinomialNB\n",
    "import string\n",
    "import scipy\n",
    "import emoji\n",
    "import re\n",
    "from textblob import TextBlob\n",
    "from sklearn.linear_model import LogisticRegressionCV, LogisticRegression\n",
    "from sklearn.svm import LinearSVC\n",
    "from sklearn.svm import SVC\n",
    "from sklearn.model_selection import GridSearchCV\n",
    "from sklearn.linear_model import PassiveAggressiveClassifier\n",
    "import xgboost\n",
    "import xgboost as xgb\n",
    "from sklearn.ensemble import VotingClassifier\n",
    "seed=42\n",
    "nltk.download('stopwords')\n",
    "nltk.download('punkt')\n",
    "nltk.download('wordnet')\n",
    "nltk.download('brown')"
   ]
  },
  {
   "cell_type": "code",
   "execution_count": 3,
   "metadata": {},
   "outputs": [],
   "source": [
    "from tqdm import tqdm\n",
    "tqdm.pandas()"
   ]
  },
  {
   "cell_type": "code",
   "execution_count": 4,
   "metadata": {},
   "outputs": [],
   "source": [
    "# we can define a function that removes stopwords \n",
    "def process_tweet(tweet):\n",
    "    tweet = str(tweet).lower()\n",
    "    tokens = nltk.word_tokenize(tweet)\n",
    "    stopwords_removed = [token.lower() for token in tokens if token.lower() not in stopwords]\n",
    "    return stopwords_removed"
   ]
  },
  {
   "cell_type": "code",
   "execution_count": 5,
   "metadata": {},
   "outputs": [],
   "source": [
    "#set stopwords and punctuations\n",
    "stopwords = stopwords.words('english')\n",
    "stopwords += list(string.punctuation)\n",
    "stopwords += [\"n't\", \"' '\", \"'re'\",\"”\",\"``\",\"“\",\"''\",\"’\",\"'s\",\"'re\",\"http\",\"https\", \"rt\"]\n",
    "alph = ['a','b','c','d','e','f','g','h','i','j','k','l','m','n','o','p','q','r','s','t','u','v','w','x','y','z']\n",
    "stopwords += alph"
   ]
  },
  {
   "cell_type": "code",
   "execution_count": 6,
   "metadata": {},
   "outputs": [],
   "source": [
    "stopwords = list(set(stopwords))"
   ]
  },
  {
   "cell_type": "code",
   "execution_count": 7,
   "metadata": {},
   "outputs": [],
   "source": [
    "def remove_http(tweet):\n",
    "    pattern = '((http|https)\\w+\\s\\w+\\s\\w+\\s\\w+)'\n",
    "    try:\n",
    "        return tweet.replace(re.findall(pattern, tweet)[0][0], \"\")\n",
    "    except:\n",
    "        return tweet"
   ]
  },
  {
   "cell_type": "code",
   "execution_count": 8,
   "metadata": {},
   "outputs": [],
   "source": [
    "def capital_percentage(tweet):\n",
    "    tokens = nltk.word_tokenize(tweet)\n",
    "    cap_count = 0\n",
    "    for item in tokens:\n",
    "        if item.isupper():\n",
    "            cap_count += 1\n",
    "    return cap_count/len(tokens)"
   ]
  },
  {
   "cell_type": "code",
   "execution_count": 9,
   "metadata": {},
   "outputs": [],
   "source": [
    "def check_profanity(tweet):\n",
    "    profane = pd.read_csv(\"profane_words.csv\", header=None)\n",
    "\n",
    "    profane = list(profane.loc[:,0])\n",
    "    count = 0\n",
    "    tweet = tweet.lower()\n",
    "    tokens = nltk.word_tokenize(tweet)\n",
    "    for word in tokens:\n",
    "        if word in profane:\n",
    "            count += 1\n",
    "    return count/len(tweet)"
   ]
  },
  {
   "cell_type": "code",
   "execution_count": 10,
   "metadata": {},
   "outputs": [],
   "source": [
    "def capital_percentage(tweet):\n",
    "    tokens = nltk.word_tokenize(tweet)\n",
    "    cap_count = 0\n",
    "    for item in tokens:\n",
    "        if item.isupper():\n",
    "            cap_count += 1\n",
    "    return cap_count/len(tokens)"
   ]
  },
  {
   "cell_type": "code",
   "execution_count": 11,
   "metadata": {},
   "outputs": [],
   "source": [
    "def fix_spelling(tweet):\n",
    "    b = TextBlob(tweet)\n",
    "    return b.correct()"
   ]
  },
  {
   "cell_type": "code",
   "execution_count": 12,
   "metadata": {},
   "outputs": [],
   "source": [
    "def get_subjectivity(tweet):\n",
    "    b = TextBlob(tweet)\n",
    "    return b.sentiment.subjectivity"
   ]
  },
  {
   "cell_type": "code",
   "execution_count": 13,
   "metadata": {},
   "outputs": [],
   "source": [
    "from nltk.stem import WordNetLemmatizer, PorterStemmer\n",
    "  \n",
    "lemmatizer = WordNetLemmatizer()\n",
    "stemmer = PorterStemmer()"
   ]
  },
  {
   "cell_type": "code",
   "execution_count": 14,
   "metadata": {},
   "outputs": [],
   "source": [
    "def remove_username(tweet):\n",
    "    try:\n",
    "        p = '[\\w\\s]+(@\\w+)'\n",
    "        return tweet.replace(re.findall(p, tweet)[0], \"\")\n",
    "    except:\n",
    "        return tweet"
   ]
  },
  {
   "cell_type": "code",
   "execution_count": 15,
   "metadata": {},
   "outputs": [],
   "source": [
    "def ReplaceThreeOrMore(tweet):\n",
    "    # pattern to look for three or more repetitions of any character, including\n",
    "    # newlines.\n",
    "    pattern = re.compile(r\"(.)\\1{2,}\", re.DOTALL) \n",
    "    return pattern.sub(r\"\\1\\1\", tweet)"
   ]
  },
  {
   "cell_type": "code",
   "execution_count": 16,
   "metadata": {},
   "outputs": [],
   "source": [
    "def clean_txt(tweet):\n",
    "    tweet = remove_http(tweet)\n",
    "    tweet = remove_username(tweet)\n",
    "    tweet = ReplaceThreeOrMore(tweet)\n",
    "    tokens = process_tweet(tweet)\n",
    "    return ' '.join([lemmatizer.lemmatize(w) for w in tokens])\n",
    "    "
   ]
  },
  {
   "cell_type": "code",
   "execution_count": 17,
   "metadata": {},
   "outputs": [],
   "source": [
    "def clean_txt_2(tweet):\n",
    "    tweet = remove_http(tweet)\n",
    "    tweet = remove_username(tweet)\n",
    "    tweet = ReplaceThreeOrMore(tweet)\n",
    "    return tweet.lower()"
   ]
  },
  {
   "cell_type": "code",
   "execution_count": 18,
   "metadata": {},
   "outputs": [],
   "source": [
    "analyzer = SentimentIntensityAnalyzer()\n",
    "def return_sentiment(tweet):\n",
    "    return analyzer.polarity_scores(tweet)['compound']"
   ]
  },
  {
   "cell_type": "markdown",
   "metadata": {},
   "source": [
    "# 2. Load in Data and Preprocess"
   ]
  },
  {
   "cell_type": "code",
   "execution_count": 19,
   "metadata": {
    "scrolled": false
   },
   "outputs": [
    {
     "data": {
      "text/html": [
       "<div>\n",
       "<style scoped>\n",
       "    .dataframe tbody tr th:only-of-type {\n",
       "        vertical-align: middle;\n",
       "    }\n",
       "\n",
       "    .dataframe tbody tr th {\n",
       "        vertical-align: top;\n",
       "    }\n",
       "\n",
       "    .dataframe thead th {\n",
       "        text-align: right;\n",
       "    }\n",
       "</style>\n",
       "<table border=\"1\" class=\"dataframe\">\n",
       "  <thead>\n",
       "    <tr style=\"text-align: right;\">\n",
       "      <th></th>\n",
       "      <th>tweet</th>\n",
       "      <th>sentiment_score</th>\n",
       "      <th>exclamation_points</th>\n",
       "      <th>top_emoji</th>\n",
       "    </tr>\n",
       "  </thead>\n",
       "  <tbody>\n",
       "    <tr>\n",
       "      <th>0</th>\n",
       "      <td>i dont want to vote for pedophile biden im sor...</td>\n",
       "      <td>-0.7447</td>\n",
       "      <td>0.000000</td>\n",
       "      <td>😩</td>\n",
       "    </tr>\n",
       "    <tr>\n",
       "      <th>1</th>\n",
       "      <td>you need a President too I can be one for you ...</td>\n",
       "      <td>0.4033</td>\n",
       "      <td>0.000000</td>\n",
       "      <td>😊</td>\n",
       "    </tr>\n",
       "    <tr>\n",
       "      <th>2</th>\n",
       "      <td>Dì cheer! Cheeeeeeeeeeeeer! salvinisciacallo C...</td>\n",
       "      <td>0.9690</td>\n",
       "      <td>0.014286</td>\n",
       "      <td>😊</td>\n",
       "    </tr>\n",
       "    <tr>\n",
       "      <th>3</th>\n",
       "      <td>I ll kidnap 1000 children before I let this co...</td>\n",
       "      <td>-0.2942</td>\n",
       "      <td>0.010101</td>\n",
       "      <td>😊</td>\n",
       "    </tr>\n",
       "    <tr>\n",
       "      <th>4</th>\n",
       "      <td>omg there s more on the ballot then just the p...</td>\n",
       "      <td>-0.7003</td>\n",
       "      <td>0.000000</td>\n",
       "      <td>😱</td>\n",
       "    </tr>\n",
       "  </tbody>\n",
       "</table>\n",
       "</div>"
      ],
      "text/plain": [
       "                                               tweet  sentiment_score  \\\n",
       "0  i dont want to vote for pedophile biden im sor...          -0.7447   \n",
       "1  you need a President too I can be one for you ...           0.4033   \n",
       "2  Dì cheer! Cheeeeeeeeeeeeer! salvinisciacallo C...           0.9690   \n",
       "3  I ll kidnap 1000 children before I let this co...          -0.2942   \n",
       "4  omg there s more on the ballot then just the p...          -0.7003   \n",
       "\n",
       "   exclamation_points top_emoji  \n",
       "0            0.000000         😩  \n",
       "1            0.000000         😊  \n",
       "2            0.014286         😊  \n",
       "3            0.010101         😊  \n",
       "4            0.000000         😱  "
      ]
     },
     "execution_count": 19,
     "metadata": {},
     "output_type": "execute_result"
    }
   ],
   "source": [
    "df = pd.read_csv(\"tweets_4_classes.csv\").drop(['Unnamed: 0', 'emoji_frequency'], axis=1)\n",
    "df.head()"
   ]
  },
  {
   "cell_type": "code",
   "execution_count": 20,
   "metadata": {},
   "outputs": [
    {
     "name": "stdout",
     "output_type": "stream",
     "text": [
      "i dont want to vote for pedophile biden im sorry what\n",
      "dont want vote pedophile biden im sorry\n",
      "<class 'str'>\n"
     ]
    }
   ],
   "source": [
    "print(df.tweet.iloc[0])\n",
    "print(clean_txt(df.tweet.iloc[0]))\n",
    "print(type(clean_txt(df.tweet.iloc[0])))"
   ]
  },
  {
   "cell_type": "code",
   "execution_count": 21,
   "metadata": {},
   "outputs": [],
   "source": [
    "# # Remove \"http link stuff from all the tweets\"\n",
    "# print(df.tweet.iloc[0])\n",
    "# print(remove_http(df.tweet.iloc[0]))\n",
    "\n",
    "# df.tweet = df.tweet.apply(remove_http)"
   ]
  },
  {
   "cell_type": "code",
   "execution_count": 22,
   "metadata": {},
   "outputs": [
    {
     "data": {
      "text/plain": [
       "count    5019.000000\n",
       "mean        0.602604\n",
       "std         0.306544\n",
       "min         0.000000\n",
       "25%         0.307935\n",
       "50%         0.701232\n",
       "75%         0.872458\n",
       "max         1.000000\n",
       "Name: sentiment_score, dtype: float64"
      ]
     },
     "execution_count": 22,
     "metadata": {},
     "output_type": "execute_result"
    }
   ],
   "source": [
    "from sklearn.preprocessing import MinMaxScaler, LabelEncoder\n",
    "normalizer = MinMaxScaler()\n",
    "df.sentiment_score = normalizer.fit_transform(np.array(df.sentiment_score).reshape(-1,1))\n",
    "df.sentiment_score.describe()"
   ]
  },
  {
   "cell_type": "code",
   "execution_count": 241,
   "metadata": {},
   "outputs": [],
   "source": [
    "import pickle\n",
    "pickle_out = open(\"normalizer.pickle\",\"wb\") ## pickling this for use in testing .py file\n",
    "pickle.dump(normalizer, pickle_out)\n",
    "pickle_out.close()"
   ]
  },
  {
   "cell_type": "code",
   "execution_count": 23,
   "metadata": {},
   "outputs": [
    {
     "name": "stderr",
     "output_type": "stream",
     "text": [
      "100%|██████████| 5019/5019 [00:00<00:00, 7962.43it/s]\n"
     ]
    },
    {
     "data": {
      "text/html": [
       "<div>\n",
       "<style scoped>\n",
       "    .dataframe tbody tr th:only-of-type {\n",
       "        vertical-align: middle;\n",
       "    }\n",
       "\n",
       "    .dataframe tbody tr th {\n",
       "        vertical-align: top;\n",
       "    }\n",
       "\n",
       "    .dataframe thead th {\n",
       "        text-align: right;\n",
       "    }\n",
       "</style>\n",
       "<table border=\"1\" class=\"dataframe\">\n",
       "  <thead>\n",
       "    <tr style=\"text-align: right;\">\n",
       "      <th></th>\n",
       "      <th>tweet</th>\n",
       "      <th>sentiment_score</th>\n",
       "      <th>exclamation_points</th>\n",
       "      <th>top_emoji</th>\n",
       "      <th>capitalization</th>\n",
       "    </tr>\n",
       "  </thead>\n",
       "  <tbody>\n",
       "    <tr>\n",
       "      <th>0</th>\n",
       "      <td>i dont want to vote for pedophile biden im sor...</td>\n",
       "      <td>0.126140</td>\n",
       "      <td>0.000000</td>\n",
       "      <td>😩</td>\n",
       "      <td>0.000000</td>\n",
       "    </tr>\n",
       "    <tr>\n",
       "      <th>1</th>\n",
       "      <td>you need a President too I can be one for you ...</td>\n",
       "      <td>0.701232</td>\n",
       "      <td>0.000000</td>\n",
       "      <td>😊</td>\n",
       "      <td>0.066667</td>\n",
       "    </tr>\n",
       "    <tr>\n",
       "      <th>2</th>\n",
       "      <td>Dì cheer! Cheeeeeeeeeeeeer! salvinisciacallo C...</td>\n",
       "      <td>0.984621</td>\n",
       "      <td>0.014286</td>\n",
       "      <td>😊</td>\n",
       "      <td>0.000000</td>\n",
       "    </tr>\n",
       "    <tr>\n",
       "      <th>3</th>\n",
       "      <td>I ll kidnap 1000 children before I let this co...</td>\n",
       "      <td>0.351818</td>\n",
       "      <td>0.010101</td>\n",
       "      <td>😊</td>\n",
       "      <td>0.111111</td>\n",
       "    </tr>\n",
       "    <tr>\n",
       "      <th>4</th>\n",
       "      <td>omg there s more on the ballot then just the p...</td>\n",
       "      <td>0.148382</td>\n",
       "      <td>0.000000</td>\n",
       "      <td>😱</td>\n",
       "      <td>0.000000</td>\n",
       "    </tr>\n",
       "  </tbody>\n",
       "</table>\n",
       "</div>"
      ],
      "text/plain": [
       "                                               tweet  sentiment_score  \\\n",
       "0  i dont want to vote for pedophile biden im sor...         0.126140   \n",
       "1  you need a President too I can be one for you ...         0.701232   \n",
       "2  Dì cheer! Cheeeeeeeeeeeeer! salvinisciacallo C...         0.984621   \n",
       "3  I ll kidnap 1000 children before I let this co...         0.351818   \n",
       "4  omg there s more on the ballot then just the p...         0.148382   \n",
       "\n",
       "   exclamation_points top_emoji  capitalization  \n",
       "0            0.000000         😩        0.000000  \n",
       "1            0.000000         😊        0.066667  \n",
       "2            0.014286         😊        0.000000  \n",
       "3            0.010101         😊        0.111111  \n",
       "4            0.000000         😱        0.000000  "
      ]
     },
     "execution_count": 23,
     "metadata": {},
     "output_type": "execute_result"
    }
   ],
   "source": [
    "df['capitalization'] = df.tweet.progress_apply(capital_percentage)\n",
    "df.head()"
   ]
  },
  {
   "cell_type": "code",
   "execution_count": 24,
   "metadata": {},
   "outputs": [
    {
     "name": "stderr",
     "output_type": "stream",
     "text": [
      "100%|██████████| 5019/5019 [00:09<00:00, 522.93it/s]\n"
     ]
    },
    {
     "data": {
      "text/html": [
       "<div>\n",
       "<style scoped>\n",
       "    .dataframe tbody tr th:only-of-type {\n",
       "        vertical-align: middle;\n",
       "    }\n",
       "\n",
       "    .dataframe tbody tr th {\n",
       "        vertical-align: top;\n",
       "    }\n",
       "\n",
       "    .dataframe thead th {\n",
       "        text-align: right;\n",
       "    }\n",
       "</style>\n",
       "<table border=\"1\" class=\"dataframe\">\n",
       "  <thead>\n",
       "    <tr style=\"text-align: right;\">\n",
       "      <th></th>\n",
       "      <th>tweet</th>\n",
       "      <th>sentiment_score</th>\n",
       "      <th>exclamation_points</th>\n",
       "      <th>top_emoji</th>\n",
       "      <th>capitalization</th>\n",
       "      <th>profanity</th>\n",
       "    </tr>\n",
       "  </thead>\n",
       "  <tbody>\n",
       "    <tr>\n",
       "      <th>0</th>\n",
       "      <td>i dont want to vote for pedophile biden im sor...</td>\n",
       "      <td>0.126140</td>\n",
       "      <td>0.000000</td>\n",
       "      <td>😩</td>\n",
       "      <td>0.000000</td>\n",
       "      <td>0.000000</td>\n",
       "    </tr>\n",
       "    <tr>\n",
       "      <th>1</th>\n",
       "      <td>you need a President too I can be one for you ...</td>\n",
       "      <td>0.701232</td>\n",
       "      <td>0.000000</td>\n",
       "      <td>😊</td>\n",
       "      <td>0.066667</td>\n",
       "      <td>0.000000</td>\n",
       "    </tr>\n",
       "    <tr>\n",
       "      <th>2</th>\n",
       "      <td>Dì cheer! Cheeeeeeeeeeeeer! salvinisciacallo C...</td>\n",
       "      <td>0.984621</td>\n",
       "      <td>0.014286</td>\n",
       "      <td>😊</td>\n",
       "      <td>0.000000</td>\n",
       "      <td>0.000000</td>\n",
       "    </tr>\n",
       "    <tr>\n",
       "      <th>3</th>\n",
       "      <td>I ll kidnap 1000 children before I let this co...</td>\n",
       "      <td>0.351818</td>\n",
       "      <td>0.010101</td>\n",
       "      <td>😊</td>\n",
       "      <td>0.111111</td>\n",
       "      <td>0.010753</td>\n",
       "    </tr>\n",
       "    <tr>\n",
       "      <th>4</th>\n",
       "      <td>omg there s more on the ballot then just the p...</td>\n",
       "      <td>0.148382</td>\n",
       "      <td>0.000000</td>\n",
       "      <td>😱</td>\n",
       "      <td>0.000000</td>\n",
       "      <td>0.000000</td>\n",
       "    </tr>\n",
       "  </tbody>\n",
       "</table>\n",
       "</div>"
      ],
      "text/plain": [
       "                                               tweet  sentiment_score  \\\n",
       "0  i dont want to vote for pedophile biden im sor...         0.126140   \n",
       "1  you need a President too I can be one for you ...         0.701232   \n",
       "2  Dì cheer! Cheeeeeeeeeeeeer! salvinisciacallo C...         0.984621   \n",
       "3  I ll kidnap 1000 children before I let this co...         0.351818   \n",
       "4  omg there s more on the ballot then just the p...         0.148382   \n",
       "\n",
       "   exclamation_points top_emoji  capitalization  profanity  \n",
       "0            0.000000         😩        0.000000   0.000000  \n",
       "1            0.000000         😊        0.066667   0.000000  \n",
       "2            0.014286         😊        0.000000   0.000000  \n",
       "3            0.010101         😊        0.111111   0.010753  \n",
       "4            0.000000         😱        0.000000   0.000000  "
      ]
     },
     "execution_count": 24,
     "metadata": {},
     "output_type": "execute_result"
    }
   ],
   "source": [
    "df['profanity'] = df.tweet.progress_apply(check_profanity)\n",
    "df.head()"
   ]
  },
  {
   "cell_type": "code",
   "execution_count": 25,
   "metadata": {},
   "outputs": [
    {
     "name": "stderr",
     "output_type": "stream",
     "text": [
      "100%|██████████| 5019/5019 [00:00<00:00, 5427.66it/s]\n"
     ]
    }
   ],
   "source": [
    "df['subjectivity'] = df.tweet.progress_apply(get_subjectivity)"
   ]
  },
  {
   "cell_type": "code",
   "execution_count": 26,
   "metadata": {},
   "outputs": [],
   "source": [
    "# test the replacing of extra chars\n",
    "test = \"yoooooo let's!! gooooo to the zoooo!. Wazzzzuppppp!!!. AAABBBCCC\""
   ]
  },
  {
   "cell_type": "code",
   "execution_count": 27,
   "metadata": {},
   "outputs": [
    {
     "data": {
      "text/plain": [
       "\"yoo let's!! goo to the zoo!. Wazzupp!!. AABBCC\""
      ]
     },
     "execution_count": 27,
     "metadata": {},
     "output_type": "execute_result"
    }
   ],
   "source": [
    "ReplaceThreeOrMore(test)"
   ]
  },
  {
   "cell_type": "code",
   "execution_count": 28,
   "metadata": {},
   "outputs": [
    {
     "data": {
      "text/plain": [
       "😊    2922\n",
       "😩    1061\n",
       "😡     711\n",
       "😱     325\n",
       "Name: top_emoji, dtype: int64"
      ]
     },
     "execution_count": 28,
     "metadata": {},
     "output_type": "execute_result"
    }
   ],
   "source": [
    "df.top_emoji.value_counts()"
   ]
  },
  {
   "cell_type": "markdown",
   "metadata": {},
   "source": [
    "Here we see a very clear and large class imbalance. In this notebook, all models try to handle this inbalance by balancing the weights given to each class."
   ]
  },
  {
   "cell_type": "code",
   "execution_count": 29,
   "metadata": {},
   "outputs": [
    {
     "data": {
      "text/plain": [
       "Text(0, 0.5, 'Count')"
      ]
     },
     "execution_count": 29,
     "metadata": {},
     "output_type": "execute_result"
    },
    {
     "data": {
      "image/png": "[encoded data removed]",
      "text/plain": [
       "<Figure size 432x288 with 1 Axes>"
      ]
     },
     "metadata": {
      "needs_background": "light"
     },
     "output_type": "display_data"
    }
   ],
   "source": [
    "x_ax = ['Happy', 'Sad', 'Angry', 'Fearful']\n",
    "y = df.top_emoji.value_counts()\n",
    "sns.barplot(x_ax, y)\n",
    "plt.title(\"Class Imbalance\")\n",
    "plt.ylabel(\"Count\")\n",
    "#plt.savefig(\"../pics/class_imbalance.png\")"
   ]
  },
  {
   "cell_type": "markdown",
   "metadata": {},
   "source": [
    "# 3. Dummy Classifier for Baseline Model"
   ]
  },
  {
   "cell_type": "code",
   "execution_count": 30,
   "metadata": {},
   "outputs": [],
   "source": [
    "X = df[['tweet', 'sentiment_score', 'capitalization', 'profanity','exclamation_points']]"
   ]
  },
  {
   "cell_type": "code",
   "execution_count": 31,
   "metadata": {},
   "outputs": [],
   "source": [
    "y =df['top_emoji']"
   ]
  },
  {
   "cell_type": "code",
   "execution_count": 32,
   "metadata": {},
   "outputs": [],
   "source": [
    "from sklearn.dummy import DummyClassifier"
   ]
  },
  {
   "cell_type": "code",
   "execution_count": 33,
   "metadata": {},
   "outputs": [
    {
     "name": "stdout",
     "output_type": "stream",
     "text": [
      "0.2518429966128711\n"
     ]
    }
   ],
   "source": [
    "dummy_cf = DummyClassifier(strategy='uniform')\n",
    "dummy_cf.fit(X['tweet'],y)\n",
    "y_preds = dummy_cf.predict(X['tweet'])\n",
    "\n",
    "print(dummy_cf.score(X['tweet'],y))"
   ]
  },
  {
   "cell_type": "code",
   "execution_count": 34,
   "metadata": {},
   "outputs": [],
   "source": [
    "accuracy = accuracy_score(y, y_preds)\n"
   ]
  },
  {
   "cell_type": "code",
   "execution_count": 35,
   "metadata": {},
   "outputs": [],
   "source": [
    "results=[]\n",
    "results.append(('Dummy', accuracy))"
   ]
  },
  {
   "cell_type": "code",
   "execution_count": 36,
   "metadata": {},
   "outputs": [
    {
     "data": {
      "text/plain": [
       "[('Dummy', 0.2502490535963339)]"
      ]
     },
     "execution_count": 36,
     "metadata": {},
     "output_type": "execute_result"
    }
   ],
   "source": [
    "results"
   ]
  },
  {
   "cell_type": "code",
   "execution_count": 37,
   "metadata": {},
   "outputs": [
    {
     "data": {
      "text/plain": [
       "😊    2922\n",
       "😩    1061\n",
       "😡     711\n",
       "😱     325\n",
       "Name: top_emoji, dtype: int64"
      ]
     },
     "execution_count": 37,
     "metadata": {},
     "output_type": "execute_result"
    }
   ],
   "source": [
    "df.top_emoji.value_counts()"
   ]
  },
  {
   "cell_type": "markdown",
   "metadata": {},
   "source": [
    "### This notebook uses class_weight = balanced, see other notebook for resampled results"
   ]
  },
  {
   "cell_type": "code",
   "execution_count": 38,
   "metadata": {},
   "outputs": [],
   "source": [
    "# from sklearn.utils import resample\n",
    "# cry = df[df.top_emoji == '😩']\n",
    "# happy = df[df.top_emoji == '😊']\n",
    "# fear = df[df.top_emoji == '😱']\n",
    "# anger = df[df.top_emoji == '😡']\n",
    "\n",
    "\n",
    "# cry_downsampled = resample(cry,\n",
    "#                           replace=False,\n",
    "#                           n_samples=int(len(fear)*1.5), # match number\n",
    "#                           random_state=seed) \n",
    "\n",
    "# happy_downsampled = resample(happy,\n",
    "#                           replace=False,\n",
    "#                           n_samples=int(len(fear)*1.5), # match number \n",
    "#                           random_state=seed) \n",
    "# fear_upsampled = resample(fear,\n",
    "#                           replace=True, \n",
    "#                           n_samples=int(len(fear)*1.5), # match number \n",
    "#                           random_state=seed) \n",
    "# anger_upsampled = resample(anger,\n",
    "#                           replace=True,\n",
    "#                           n_samples=int(len(fear)*1.5), # match number \n",
    "#                           random_state=seed) \n",
    "\n",
    "# df = pd.concat([cry_downsampled, happy_downsampled, fear_upsampled, anger_upsampled])\n",
    "# df.top_emoji.value_counts()"
   ]
  },
  {
   "cell_type": "code",
   "execution_count": 39,
   "metadata": {},
   "outputs": [],
   "source": [
    "X = df[['tweet', 'sentiment_score', 'capitalization', 'profanity','exclamation_points']]"
   ]
  },
  {
   "cell_type": "code",
   "execution_count": 40,
   "metadata": {},
   "outputs": [],
   "source": [
    "y =df['top_emoji']"
   ]
  },
  {
   "cell_type": "code",
   "execution_count": null,
   "metadata": {},
   "outputs": [],
   "source": []
  },
  {
   "cell_type": "markdown",
   "metadata": {},
   "source": [
    "# 4. Supervised Learning"
   ]
  },
  {
   "cell_type": "code",
   "execution_count": 41,
   "metadata": {},
   "outputs": [],
   "source": [
    "import en_core_web_sm\n",
    "nlp = en_core_web_sm.load()\n",
    "import spacy \n",
    "from sklearn.base import BaseEstimator, TransformerMixin\n",
    "class SpacyVectorTransformer(BaseEstimator, TransformerMixin):\n",
    "    def __init__(self, nlp):\n",
    "        self.nlp = nlp\n",
    "        self.dim = 300\n",
    "\n",
    "    def fit(self, X, y):\n",
    "        return self\n",
    "\n",
    "    def transform(self, X):\n",
    "        # Doc.vector defaults to an average of the token vectors.\n",
    "        # https://spacy.io/api/doc#vector\n",
    "        \n",
    "        return [self.nlp(text).vector for text in X]"
   ]
  },
  {
   "cell_type": "code",
   "execution_count": 42,
   "metadata": {},
   "outputs": [],
   "source": [
    "from sklearn.base import BaseEstimator, TransformerMixin\n",
    "from sklearn.pipeline import FeatureUnion, Pipeline\n",
    "from sklearn.feature_extraction import DictVectorizer\n",
    "class ItemSelector(BaseEstimator, TransformerMixin):\n",
    "    def __init__(self, key):\n",
    "        self.key = key\n",
    "\n",
    "    def fit(self, x, y=None):\n",
    "        return self\n",
    "\n",
    "    def transform(self, data_dict):\n",
    "        return data_dict[self.key]\n",
    "\n",
    "\n",
    "class TextStats(BaseEstimator, TransformerMixin):\n",
    "    \"\"\"Extract features from each document for DictVectorizer\"\"\"\n",
    "\n",
    "    def fit(self, x, y=None):\n",
    "        return self\n",
    "\n",
    "    def transform(self, data):\n",
    "        rs = []\n",
    "        for row in data.iterrows():\n",
    "            to_add = {}\n",
    "            for item in row[1:]:\n",
    "                for ind, val in zip(item.index, item.values):\n",
    "                    to_add[ind] = val\n",
    "            rs.append(to_add)\n",
    "        return rs\n",
    "#         return [{'cap':  row['capitalization'], 'prof': row['profanity'], \n",
    "#                  'sent': row['sentiment_score'], 'excla': row['exclamation_points']} for _, row in data.iterrows()]"
   ]
  },
  {
   "cell_type": "code",
   "execution_count": 43,
   "metadata": {},
   "outputs": [],
   "source": [
    "test = ItemSelector(['capitalization','sentiment_score','exclamation_points']).fit(X)"
   ]
  },
  {
   "cell_type": "code",
   "execution_count": 44,
   "metadata": {},
   "outputs": [],
   "source": [
    "rs = []\n",
    "for row in test.transform(X).iterrows():\n",
    "    to_add = {}\n",
    "    for item in row[1:]:\n",
    "        for ind, val in zip(item.index, item.values):\n",
    "            to_add[ind] = val\n",
    "    rs.append(to_add)\n"
   ]
  },
  {
   "cell_type": "code",
   "execution_count": 45,
   "metadata": {},
   "outputs": [
    {
     "data": {
      "text/plain": [
       "[{'capitalization': 0.0,\n",
       "  'sentiment_score': 0.12613966536419197,\n",
       "  'exclamation_points': 0.0},\n",
       " {'capitalization': 0.06666666666666667,\n",
       "  'sentiment_score': 0.7012323414487527,\n",
       "  'exclamation_points': 0.0}]"
      ]
     },
     "execution_count": 45,
     "metadata": {},
     "output_type": "execute_result"
    }
   ],
   "source": [
    "rs[:2]"
   ]
  },
  {
   "cell_type": "markdown",
   "metadata": {},
   "source": [
    "### Pipeline to help in the creation of our training arrays to include custom features as well as TF IDF and Word Embeddings.\n",
    "\n",
    "- NOTE: Word embeddings hurt the score, hence it is commented out."
   ]
  },
  {
   "cell_type": "code",
   "execution_count": 46,
   "metadata": {},
   "outputs": [],
   "source": [
    "def create_pipeline(input_selectors): \n",
    "    pipeline = Pipeline([\n",
    "        ('union', FeatureUnion(\n",
    "            transformer_list=[\n",
    "\n",
    "                # Pipeline for pulling features from the text\n",
    "                ('text', Pipeline([\n",
    "                    ('selector', ItemSelector(key='tweet')),\n",
    "                    ('tfidf', TfidfVectorizer( min_df =3, max_df=0.2, max_features=None, \n",
    "                        strip_accents='unicode', analyzer='word',token_pattern=r'\\w{1,}',\n",
    "                        ngram_range=(1, 2), use_idf=1,smooth_idf=1,sublinear_tf=1,\n",
    "                        stop_words = None, preprocessor=clean_txt)),\n",
    "                ])),\n",
    "                # Text two does not remove stopwords and tries to find bi and trigrams\n",
    "                ('text_2', Pipeline([\n",
    "                    ('selector', ItemSelector(key='tweet')),\n",
    "                    ('tfidf', TfidfVectorizer( min_df =3, max_df=0.2, max_features=None, \n",
    "                        strip_accents='unicode', analyzer='word',token_pattern=r'\\w{1,}',\n",
    "                        ngram_range=(2, 10), use_idf=1,smooth_idf=1,sublinear_tf=1,\n",
    "                        stop_words = None, preprocessor=clean_txt_2)),\n",
    "                ])),\n",
    "\n",
    "    #             ('embedding', Pipeline([\n",
    "    #                 ('selector', ItemSelector(key='tweet')),\n",
    "    #                 (\"mean_embeddings\", SpacyVectorTransformer(nlp))\n",
    "    #             ])),\n",
    "\n",
    "                # Pipeline for pulling metadata features\n",
    "                ('stats', Pipeline([\n",
    "                    ('selector', ItemSelector(key=input_selectors)),\n",
    "                    ('stats', TextStats()),  # returns a list of dicts\n",
    "                    ('vect', DictVectorizer()),  # list of dicts -> feature matrix\n",
    "                ])),\n",
    "\n",
    "            ],\n",
    "\n",
    "            # weight components in FeatureUnion\n",
    "            transformer_weights={\n",
    "                'text': 1,#0.9,\n",
    "                'text_2':1,\n",
    "    #             'embedding': 1,\n",
    "                'stats': 1 #1.5,\n",
    "            },\n",
    "        ))\n",
    "    ], verbose=True)\n",
    "    \n",
    "    return pipeline"
   ]
  },
  {
   "cell_type": "markdown",
   "metadata": {},
   "source": [
    "['capitalization','profanity','sentiment_score','exclamation_points']"
   ]
  },
  {
   "cell_type": "code",
   "execution_count": 47,
   "metadata": {},
   "outputs": [],
   "source": [
    "pipeline_cap = create_pipeline(['capitalization'])\n",
    "pipeline_prof = create_pipeline(['profanity'])\n",
    "pipeline_sent = create_pipeline(['sentiment_score'])\n",
    "pipeline_excl = create_pipeline(['exclamation_points'])\n",
    "pipeline_all = create_pipeline(['capitalization','profanity','sentiment_score','exclamation_points'])"
   ]
  },
  {
   "cell_type": "code",
   "execution_count": 48,
   "metadata": {},
   "outputs": [],
   "source": [
    "seed = 42\n",
    "X_train, X_test, y_train, y_test = train_test_split(X, y, test_size=0.2, random_state=seed, stratify=y)"
   ]
  },
  {
   "cell_type": "code",
   "execution_count": null,
   "metadata": {},
   "outputs": [],
   "source": []
  },
  {
   "cell_type": "code",
   "execution_count": null,
   "metadata": {},
   "outputs": [],
   "source": []
  },
  {
   "cell_type": "code",
   "execution_count": 49,
   "metadata": {},
   "outputs": [
    {
     "name": "stdout",
     "output_type": "stream",
     "text": [
      "[Pipeline] ............. (step 1 of 1) Processing union, total=   2.1s\n",
      "[Pipeline] ............. (step 1 of 1) Processing union, total=   2.0s\n",
      "[Pipeline] ............. (step 1 of 1) Processing union, total=   2.0s\n",
      "[Pipeline] ............. (step 1 of 1) Processing union, total=   2.0s\n",
      "[Pipeline] ............. (step 1 of 1) Processing union, total=   2.0s\n"
     ]
    },
    {
     "data": {
      "text/plain": [
       "Pipeline(steps=[('union',\n",
       "                 FeatureUnion(transformer_list=[('text',\n",
       "                                                 Pipeline(steps=[('selector',\n",
       "                                                                  ItemSelector(key='tweet')),\n",
       "                                                                 ('tfidf',\n",
       "                                                                  TfidfVectorizer(max_df=0.2,\n",
       "                                                                                  min_df=3,\n",
       "                                                                                  ngram_range=(1,\n",
       "                                                                                               2),\n",
       "                                                                                  preprocessor=<function clean_txt at 0x1259160d0>,\n",
       "                                                                                  smooth_idf=1,\n",
       "                                                                                  strip_accents='unicode',\n",
       "                                                                                  sublinear_tf=1,\n",
       "                                                                                  token_pattern='\\\\w{1,}',\n",
       "                                                                                  use_idf=1))])),\n",
       "                                                ('text_2',\n",
       "                                                 Pipeline(steps=[('sel...\n",
       "                                                                                  preprocessor=<function clean_txt_2 at 0x1258f6e50>,\n",
       "                                                                                  smooth_idf=1,\n",
       "                                                                                  strip_accents='unicode',\n",
       "                                                                                  sublinear_tf=1,\n",
       "                                                                                  token_pattern='\\\\w{1,}',\n",
       "                                                                                  use_idf=1))])),\n",
       "                                                ('stats',\n",
       "                                                 Pipeline(steps=[('selector',\n",
       "                                                                  ItemSelector(key=['capitalization',\n",
       "                                                                                    'profanity',\n",
       "                                                                                    'sentiment_score',\n",
       "                                                                                    'exclamation_points'])),\n",
       "                                                                 ('stats',\n",
       "                                                                  TextStats()),\n",
       "                                                                 ('vect',\n",
       "                                                                  DictVectorizer())]))],\n",
       "                              transformer_weights={'stats': 1, 'text': 1,\n",
       "                                                   'text_2': 1}))],\n",
       "         verbose=True)"
      ]
     },
     "execution_count": 49,
     "metadata": {},
     "output_type": "execute_result"
    }
   ],
   "source": [
    "pipeline_cap.fit(X_train)\n",
    "pipeline_prof.fit(X_train)\n",
    "pipeline_sent.fit(X_train)\n",
    "pipeline_excl.fit(X_train)\n",
    "pipeline_all.fit(X_train)"
   ]
  },
  {
   "cell_type": "code",
   "execution_count": 240,
   "metadata": {},
   "outputs": [],
   "source": [
    "pickle_out = open(\"pipeline_all.pickle\",\"wb\") ## pickling this for use in testing .py file\n",
    "pickle.dump(pipeline_all, pickle_out)\n",
    "pickle_out.close()"
   ]
  },
  {
   "cell_type": "code",
   "execution_count": 50,
   "metadata": {},
   "outputs": [
    {
     "name": "stdout",
     "output_type": "stream",
     "text": [
      "Checking that the shapes match: (4015, 8972) - (1004, 8972)\n",
      "Checking that the shapes match: (4015, 8972) - (1004, 8972)\n",
      "Checking that the shapes match: (4015, 8972) - (1004, 8972)\n",
      "Checking that the shapes match: (4015, 8972) - (1004, 8972)\n",
      "Checking that the shapes match: (4015, 8975) - (1004, 8975)\n",
      "CPU times: user 10.8 s, sys: 20.7 ms, total: 10.8 s\n",
      "Wall time: 10.8 s\n"
     ]
    }
   ],
   "source": [
    "%%time\n",
    "train_vec_cap = pipeline_cap.transform(X_train)\n",
    "test_vec_cap = pipeline_cap.transform(X_test)\n",
    "print(\"Checking that the shapes match: %s - %s\" % (train_vec_cap.shape, test_vec_cap.shape))\n",
    "\n",
    "train_vec_prof = pipeline_prof.transform(X_train)\n",
    "test_vec_prof = pipeline_prof.transform(X_test)\n",
    "print(\"Checking that the shapes match: %s - %s\" % (train_vec_prof.shape, test_vec_prof.shape))\n",
    "\n",
    "train_vec_sent = pipeline_sent.transform(X_train)\n",
    "test_vec_sent = pipeline_sent.transform(X_test)\n",
    "print(\"Checking that the shapes match: %s - %s\" % (train_vec_sent.shape, test_vec_sent.shape))\n",
    "\n",
    "train_vec_excl = pipeline_excl.transform(X_train)\n",
    "test_vec_excl = pipeline_excl.transform(X_test)\n",
    "print(\"Checking that the shapes match: %s - %s\" % (train_vec_excl.shape, test_vec_excl.shape))\n",
    "\n",
    "train_vec_all = pipeline_all.transform(X_train)\n",
    "test_vec_all = pipeline_all.transform(X_test)\n",
    "print(\"Checking that the shapes match: %s - %s\" % (train_vec_all.shape, test_vec_all.shape))"
   ]
  },
  {
   "cell_type": "code",
   "execution_count": 51,
   "metadata": {},
   "outputs": [],
   "source": [
    "trains = [train_vec_cap, train_vec_prof, train_vec_sent, train_vec_excl, train_vec_all]\n",
    "tests = [test_vec_cap, test_vec_prof, test_vec_sent, test_vec_excl, test_vec_all]\n",
    "labels = ['capitalization', 'profanity', 'sentiment_score', 'exclamation_points', 'all_custom']"
   ]
  },
  {
   "cell_type": "markdown",
   "metadata": {},
   "source": [
    "## Create Overarching Function for Iterative Modeling\n",
    "- Takes in a model\n",
    "- Runs that model against all the different train/test vecs with dif features\n",
    "- prints out accuracy and description of what train/test vec worked best\n",
    "- prints out confusion matrix and classification report for best version of the model\n",
    "- Returns best score "
   ]
  },
  {
   "cell_type": "code",
   "execution_count": 52,
   "metadata": {},
   "outputs": [],
   "source": [
    "def get_model_results(model, model_name, conditions=None, choices=None):\n",
    "    res = []\n",
    "    for train, test, label in zip(trains, tests, labels):\n",
    "        if type(model) == xgboost.sklearn.XGBClassifier:\n",
    "            model.fit(train, y_train, eval_metric='mlogloss', sample_weight = np.select(conditions, choices, None))\n",
    "        else:\n",
    "            model.fit(train, y_train)\n",
    "        test_preds = model.predict(test)\n",
    "        accuracy = accuracy_score(y_test, test_preds)\n",
    "        res.append({'label': label, 'score': accuracy, 'test_preds': test_preds})\n",
    "    res = sorted(res, key = lambda x: x['score'], reverse=True)\n",
    "    print('RESULTS')\n",
    "    print('-------------------------------------------------------------------------------------------------')\n",
    "    print(f\"{model_name} with {res[0]['label']} features performed the best with an accuracy of {res[0]['score']}\")\n",
    "    print('-------------------------------------------------------------------------------------------------')\n",
    "    print(classification_report(y_test, res[0]['test_preds']))\n",
    "    print('----------------------------------------')\n",
    "    print(confusion_matrix(y_test, res[0]['test_preds']))\n",
    "    return res[0]['score']"
   ]
  },
  {
   "cell_type": "markdown",
   "metadata": {},
   "source": [
    "### LogReg"
   ]
  },
  {
   "cell_type": "markdown",
   "metadata": {},
   "source": [
    "Algorithm to use in the optimization problem.\n",
    "\n",
    "    - For small datasets, 'liblinear' is a good choice, whereas 'sag' and\n",
    "      'saga' are faster for large ones.\n",
    "    - For multiclass problems, only 'newton-cg', 'sag', 'saga' and 'lbfgs'\n",
    "      handle multinomial loss; 'liblinear' is limited to one-versus-rest\n",
    "      schemes.\n",
    "    - 'newton-cg', 'lbfgs' and 'sag' only handle L2 penalty, whereas\n",
    "      'liblinear' and 'saga' handle L1 penalty.\n",
    "    - 'liblinear' might be slower in LogisticRegressionCV because it does\n",
    "      not handle warm-starting.\n"
   ]
  },
  {
   "cell_type": "code",
   "execution_count": 53,
   "metadata": {},
   "outputs": [
    {
     "name": "stderr",
     "output_type": "stream",
     "text": [
      "[Parallel(n_jobs=-1)]: Using backend LokyBackend with 8 concurrent workers.\n",
      "[Parallel(n_jobs=-1)]: Done  40 out of  40 | elapsed:    3.7s finished\n",
      "[Parallel(n_jobs=-1)]: Using backend LokyBackend with 8 concurrent workers.\n",
      "[Parallel(n_jobs=-1)]: Done  40 out of  40 | elapsed:    2.3s finished\n",
      "[Parallel(n_jobs=-1)]: Using backend LokyBackend with 8 concurrent workers.\n",
      "[Parallel(n_jobs=-1)]: Done  40 out of  40 | elapsed:    2.7s finished\n",
      "[Parallel(n_jobs=-1)]: Using backend LokyBackend with 8 concurrent workers.\n",
      "[Parallel(n_jobs=-1)]: Done  40 out of  40 | elapsed:    2.4s finished\n",
      "[Parallel(n_jobs=-1)]: Using backend LokyBackend with 8 concurrent workers.\n",
      "[Parallel(n_jobs=-1)]: Done  40 out of  40 | elapsed:    2.8s finished\n"
     ]
    },
    {
     "name": "stdout",
     "output_type": "stream",
     "text": [
      "RESULTS\n",
      "-------------------------------------------------------------------------------------------------\n",
      "log reg with sentiment_score features performed the best with an accuracy of 0.75\n",
      "-------------------------------------------------------------------------------------------------\n",
      "              precision    recall  f1-score   support\n",
      "\n",
      "           😊       0.89      0.93      0.91       585\n",
      "           😡       0.49      0.45      0.47       142\n",
      "           😩       0.64      0.61      0.62       212\n",
      "           😱       0.30      0.28      0.29        65\n",
      "\n",
      "    accuracy                           0.75      1004\n",
      "   macro avg       0.58      0.57      0.57      1004\n",
      "weighted avg       0.74      0.75      0.74      1004\n",
      "\n",
      "----------------------------------------\n",
      "[[542  24  14   5]\n",
      " [ 32  64  33  13]\n",
      " [ 33  26 129  24]\n",
      " [  4  16  27  18]]\n"
     ]
    }
   ],
   "source": [
    "lr_clf = LogisticRegressionCV(solver='newton-cg', cv=10, penalty='l2', Cs = [.001,.01,.1,1,10,100], \n",
    "                                    max_iter=10000, verbose=True, n_jobs=-1, scoring='f1', multi_class='ovr',\n",
    "                                class_weight='balanced')\n",
    "results.append(('log reg', get_model_results(lr_clf, 'log reg')))"
   ]
  },
  {
   "cell_type": "code",
   "execution_count": 54,
   "metadata": {},
   "outputs": [
    {
     "data": {
      "text/plain": [
       "[('Dummy', 0.2502490535963339), ('log reg', 0.75)]"
      ]
     },
     "execution_count": 54,
     "metadata": {},
     "output_type": "execute_result"
    }
   ],
   "source": [
    "results"
   ]
  },
  {
   "cell_type": "markdown",
   "metadata": {},
   "source": [
    "### SVM(s)"
   ]
  },
  {
   "cell_type": "markdown",
   "metadata": {},
   "source": [
    "#### LinearSVC"
   ]
  },
  {
   "cell_type": "code",
   "execution_count": 55,
   "metadata": {},
   "outputs": [
    {
     "name": "stdout",
     "output_type": "stream",
     "text": [
      "RESULTS\n",
      "-------------------------------------------------------------------------------------------------\n",
      "linear svc with all_custom features performed the best with an accuracy of 0.7559760956175299\n",
      "-------------------------------------------------------------------------------------------------\n",
      "              precision    recall  f1-score   support\n",
      "\n",
      "           😊       0.87      0.94      0.91       585\n",
      "           😡       0.52      0.44      0.48       142\n",
      "           😩       0.64      0.62      0.63       212\n",
      "           😱       0.31      0.22      0.25        65\n",
      "\n",
      "    accuracy                           0.76      1004\n",
      "   macro avg       0.58      0.55      0.57      1004\n",
      "weighted avg       0.74      0.76      0.74      1004\n",
      "\n",
      "----------------------------------------\n",
      "[[551  17  14   3]\n",
      " [ 37  63  35   7]\n",
      " [ 37  23 131  21]\n",
      " [  6  19  26  14]]\n"
     ]
    }
   ],
   "source": [
    "sv_clf = LinearSVC(C=1, class_weight='balanced', multi_class='ovr', random_state=seed) \n",
    "results.append(('linear svc', get_model_results(sv_clf, 'linear svc')))"
   ]
  },
  {
   "cell_type": "code",
   "execution_count": 56,
   "metadata": {},
   "outputs": [
    {
     "data": {
      "text/plain": [
       "[('Dummy', 0.2502490535963339),\n",
       " ('log reg', 0.75),\n",
       " ('linear svc', 0.7559760956175299)]"
      ]
     },
     "execution_count": 56,
     "metadata": {},
     "output_type": "execute_result"
    }
   ],
   "source": [
    "results"
   ]
  },
  {
   "cell_type": "markdown",
   "metadata": {},
   "source": [
    "#### SVC"
   ]
  },
  {
   "cell_type": "code",
   "execution_count": 57,
   "metadata": {},
   "outputs": [
    {
     "name": "stdout",
     "output_type": "stream",
     "text": [
      "RESULTS\n",
      "-------------------------------------------------------------------------------------------------\n",
      "svc with all_custom features performed the best with an accuracy of 0.7828685258964143\n",
      "-------------------------------------------------------------------------------------------------\n",
      "              precision    recall  f1-score   support\n",
      "\n",
      "           😊       0.88      0.96      0.92       585\n",
      "           😡       0.64      0.38      0.48       142\n",
      "           😩       0.62      0.75      0.68       212\n",
      "           😱       0.52      0.22      0.30        65\n",
      "\n",
      "    accuracy                           0.78      1004\n",
      "   macro avg       0.66      0.57      0.59      1004\n",
      "weighted avg       0.77      0.78      0.76      1004\n",
      "\n",
      "----------------------------------------\n",
      "[[560   9  16   0]\n",
      " [ 36  54  45   7]\n",
      " [ 34  14 158   6]\n",
      " [  7   8  36  14]]\n"
     ]
    }
   ],
   "source": [
    "svc = SVC(C=15, class_weight='balanced', kernel='rbf', gamma='scale')\n",
    "results.append(('svc', get_model_results(svc, 'svc')))"
   ]
  },
  {
   "cell_type": "code",
   "execution_count": 58,
   "metadata": {},
   "outputs": [
    {
     "data": {
      "text/plain": [
       "[('Dummy', 0.2502490535963339),\n",
       " ('log reg', 0.75),\n",
       " ('linear svc', 0.7559760956175299),\n",
       " ('svc', 0.7828685258964143)]"
      ]
     },
     "execution_count": 58,
     "metadata": {},
     "output_type": "execute_result"
    }
   ],
   "source": [
    "results"
   ]
  },
  {
   "cell_type": "markdown",
   "metadata": {},
   "source": [
    "### Random Forest"
   ]
  },
  {
   "cell_type": "code",
   "execution_count": 59,
   "metadata": {},
   "outputs": [
    {
     "name": "stdout",
     "output_type": "stream",
     "text": [
      "RESULTS\n",
      "-------------------------------------------------------------------------------------------------\n",
      "rfc with all_custom features performed the best with an accuracy of 0.7739043824701195\n",
      "-------------------------------------------------------------------------------------------------\n",
      "              precision    recall  f1-score   support\n",
      "\n",
      "           😊       0.85      0.95      0.90       585\n",
      "           😡       0.60      0.45      0.51       142\n",
      "           😩       0.63      0.70      0.66       212\n",
      "           😱       0.88      0.11      0.19        65\n",
      "\n",
      "    accuracy                           0.77      1004\n",
      "   macro avg       0.74      0.55      0.57      1004\n",
      "weighted avg       0.77      0.77      0.75      1004\n",
      "\n",
      "----------------------------------------\n",
      "[[558  10  17   0]\n",
      " [ 42  64  36   0]\n",
      " [ 45  18 148   1]\n",
      " [ 10  15  33   7]]\n"
     ]
    }
   ],
   "source": [
    "rfc_clf = RandomForestClassifier(n_estimators=400, random_state=seed,n_jobs=-1,\n",
    "                                 class_weight='balanced',criterion='entropy' )\n",
    "results.append(('rfc', get_model_results(rfc_clf, 'rfc')))\n"
   ]
  },
  {
   "cell_type": "code",
   "execution_count": 60,
   "metadata": {},
   "outputs": [
    {
     "data": {
      "text/plain": [
       "[('Dummy', 0.2502490535963339),\n",
       " ('log reg', 0.75),\n",
       " ('linear svc', 0.7559760956175299),\n",
       " ('svc', 0.7828685258964143),\n",
       " ('rfc', 0.7739043824701195)]"
      ]
     },
     "execution_count": 60,
     "metadata": {},
     "output_type": "execute_result"
    }
   ],
   "source": [
    "results"
   ]
  },
  {
   "cell_type": "markdown",
   "metadata": {},
   "source": [
    "### MN Bayes"
   ]
  },
  {
   "cell_type": "code",
   "execution_count": 61,
   "metadata": {},
   "outputs": [
    {
     "name": "stdout",
     "output_type": "stream",
     "text": [
      "RESULTS\n",
      "-------------------------------------------------------------------------------------------------\n",
      "mn bayes with sentiment_score features performed the best with an accuracy of 0.6543824701195219\n",
      "-------------------------------------------------------------------------------------------------\n",
      "              precision    recall  f1-score   support\n",
      "\n",
      "           😊       0.65      0.98      0.78       585\n",
      "           😡       0.81      0.20      0.33       142\n",
      "           😩       0.63      0.23      0.33       212\n",
      "           😱       1.00      0.06      0.12        65\n",
      "\n",
      "    accuracy                           0.65      1004\n",
      "   macro avg       0.77      0.37      0.39      1004\n",
      "weighted avg       0.69      0.65      0.58      1004\n",
      "\n",
      "----------------------------------------\n",
      "[[576   1   8   0]\n",
      " [104  29   9   0]\n",
      " [161   3  48   0]\n",
      " [ 47   3  11   4]]\n"
     ]
    }
   ],
   "source": [
    "#Multinomial Naive Bayes\n",
    "mnb_clf = MultinomialNB() \n",
    "results.append(('mn bayes', get_model_results(mnb_clf, 'mn bayes')))"
   ]
  },
  {
   "cell_type": "code",
   "execution_count": 62,
   "metadata": {},
   "outputs": [
    {
     "data": {
      "text/plain": [
       "[('Dummy', 0.2502490535963339),\n",
       " ('log reg', 0.75),\n",
       " ('linear svc', 0.7559760956175299),\n",
       " ('svc', 0.7828685258964143),\n",
       " ('rfc', 0.7739043824701195),\n",
       " ('mn bayes', 0.6543824701195219)]"
      ]
     },
     "execution_count": 62,
     "metadata": {},
     "output_type": "execute_result"
    }
   ],
   "source": [
    "results"
   ]
  },
  {
   "cell_type": "markdown",
   "metadata": {},
   "source": [
    "### Bernoulli Bayes"
   ]
  },
  {
   "cell_type": "code",
   "execution_count": 63,
   "metadata": {},
   "outputs": [
    {
     "name": "stdout",
     "output_type": "stream",
     "text": [
      "RESULTS\n",
      "-------------------------------------------------------------------------------------------------\n",
      "bernoulli bayes with exclamation_points features performed the best with an accuracy of 0.6225099601593626\n",
      "-------------------------------------------------------------------------------------------------\n",
      "              precision    recall  f1-score   support\n",
      "\n",
      "           😊       0.66      0.88      0.75       585\n",
      "           😡       0.69      0.17      0.27       142\n",
      "           😩       0.46      0.39      0.42       212\n",
      "           😱       0.50      0.06      0.11        65\n",
      "\n",
      "    accuracy                           0.62      1004\n",
      "   macro avg       0.58      0.37      0.39      1004\n",
      "weighted avg       0.61      0.62      0.57      1004\n",
      "\n",
      "----------------------------------------\n",
      "[[515  10  56   4]\n",
      " [ 93  24  25   0]\n",
      " [130   0  82   0]\n",
      " [ 44   1  16   4]]\n"
     ]
    }
   ],
   "source": [
    "#Bernoulli Naive Bayes\n",
    "bb_clf = BernoulliNB() \n",
    "results.append(('bernoulli bayes', get_model_results(bb_clf, 'bernoulli bayes')))"
   ]
  },
  {
   "cell_type": "code",
   "execution_count": 64,
   "metadata": {},
   "outputs": [
    {
     "data": {
      "text/plain": [
       "[('Dummy', 0.2502490535963339),\n",
       " ('log reg', 0.75),\n",
       " ('linear svc', 0.7559760956175299),\n",
       " ('svc', 0.7828685258964143),\n",
       " ('rfc', 0.7739043824701195),\n",
       " ('mn bayes', 0.6543824701195219),\n",
       " ('bernoulli bayes', 0.6225099601593626)]"
      ]
     },
     "execution_count": 64,
     "metadata": {},
     "output_type": "execute_result"
    }
   ],
   "source": [
    "results"
   ]
  },
  {
   "cell_type": "markdown",
   "metadata": {},
   "source": [
    "### Passive Aggressive Classifier"
   ]
  },
  {
   "cell_type": "code",
   "execution_count": 65,
   "metadata": {},
   "outputs": [
    {
     "name": "stdout",
     "output_type": "stream",
     "text": [
      "RESULTS\n",
      "-------------------------------------------------------------------------------------------------\n",
      "pac with all_custom features performed the best with an accuracy of 0.7360557768924303\n",
      "-------------------------------------------------------------------------------------------------\n",
      "              precision    recall  f1-score   support\n",
      "\n",
      "           😊       0.85      0.94      0.89       585\n",
      "           😡       0.48      0.44      0.46       142\n",
      "           😩       0.62      0.54      0.58       212\n",
      "           😱       0.30      0.20      0.24        65\n",
      "\n",
      "    accuracy                           0.74      1004\n",
      "   macro avg       0.56      0.53      0.54      1004\n",
      "weighted avg       0.71      0.74      0.72      1004\n",
      "\n",
      "----------------------------------------\n",
      "[[548  19  14   4]\n",
      " [ 43  63  31   5]\n",
      " [ 48  28 115  21]\n",
      " [  7  21  24  13]]\n"
     ]
    }
   ],
   "source": [
    "#PassiveAggresive Classifier\n",
    "pac_clf = PassiveAggressiveClassifier() \n",
    "results.append(('pac', get_model_results(pac_clf, 'pac')))"
   ]
  },
  {
   "cell_type": "code",
   "execution_count": 66,
   "metadata": {},
   "outputs": [
    {
     "data": {
      "text/plain": [
       "[('Dummy', 0.2502490535963339),\n",
       " ('log reg', 0.75),\n",
       " ('linear svc', 0.7559760956175299),\n",
       " ('svc', 0.7828685258964143),\n",
       " ('rfc', 0.7739043824701195),\n",
       " ('mn bayes', 0.6543824701195219),\n",
       " ('bernoulli bayes', 0.6225099601593626),\n",
       " ('pac', 0.7360557768924303)]"
      ]
     },
     "execution_count": 66,
     "metadata": {},
     "output_type": "execute_result"
    }
   ],
   "source": [
    "results"
   ]
  },
  {
   "cell_type": "markdown",
   "metadata": {},
   "source": [
    "### XGBoost"
   ]
  },
  {
   "cell_type": "code",
   "execution_count": 67,
   "metadata": {},
   "outputs": [
    {
     "data": {
      "text/plain": [
       "array([ 1.71801455,  4.72909305,  7.05623902, 15.44230769])"
      ]
     },
     "execution_count": 67,
     "metadata": {},
     "output_type": "execute_result"
    }
   ],
   "source": [
    "conditions = [\n",
    "   y_train=='😊', y_train=='😩',y_train== '😡',y_train=='😱'\n",
    "]\n",
    "\n",
    "choices = 1 / np.array(list(y_train.value_counts(normalize=True))) # Assign weights to each class\n",
    "choices"
   ]
  },
  {
   "cell_type": "code",
   "execution_count": 68,
   "metadata": {},
   "outputs": [
    {
     "name": "stdout",
     "output_type": "stream",
     "text": [
      "RESULTS\n",
      "-------------------------------------------------------------------------------------------------\n",
      "xgboost with all_custom features performed the best with an accuracy of 0.7848605577689243\n",
      "-------------------------------------------------------------------------------------------------\n",
      "              precision    recall  f1-score   support\n",
      "\n",
      "           😊       0.92      0.92      0.92       585\n",
      "           😡       0.56      0.51      0.53       142\n",
      "           😩       0.65      0.71      0.68       212\n",
      "           😱       0.48      0.45      0.46        65\n",
      "\n",
      "    accuracy                           0.78      1004\n",
      "   macro avg       0.65      0.65      0.65      1004\n",
      "weighted avg       0.78      0.78      0.78      1004\n",
      "\n",
      "----------------------------------------\n",
      "[[536  25  22   2]\n",
      " [ 21  72  37  12]\n",
      " [ 19  24 151  18]\n",
      " [  5   7  24  29]]\n"
     ]
    }
   ],
   "source": [
    "xg = xgb.XGBClassifier(n_jobs=-1)\n",
    "results.append(('xgboost', get_model_results(xg, 'xgboost', conditions, choices)))"
   ]
  },
  {
   "cell_type": "code",
   "execution_count": 69,
   "metadata": {},
   "outputs": [
    {
     "data": {
      "text/plain": [
       "[('Dummy', 0.2502490535963339),\n",
       " ('log reg', 0.75),\n",
       " ('linear svc', 0.7559760956175299),\n",
       " ('svc', 0.7828685258964143),\n",
       " ('rfc', 0.7739043824701195),\n",
       " ('mn bayes', 0.6543824701195219),\n",
       " ('bernoulli bayes', 0.6225099601593626),\n",
       " ('pac', 0.7360557768924303),\n",
       " ('xgboost', 0.7848605577689243)]"
      ]
     },
     "execution_count": 69,
     "metadata": {},
     "output_type": "execute_result"
    }
   ],
   "source": [
    "results"
   ]
  },
  {
   "cell_type": "markdown",
   "metadata": {},
   "source": [
    "### Voting Classifier"
   ]
  },
  {
   "cell_type": "code",
   "execution_count": null,
   "metadata": {},
   "outputs": [],
   "source": []
  },
  {
   "cell_type": "code",
   "execution_count": 70,
   "metadata": {},
   "outputs": [
    {
     "name": "stdout",
     "output_type": "stream",
     "text": [
      "RESULTS\n",
      "-------------------------------------------------------------------------------------------------\n",
      "voting with all_custom features performed the best with an accuracy of 0.7689243027888446\n",
      "-------------------------------------------------------------------------------------------------\n",
      "              precision    recall  f1-score   support\n",
      "\n",
      "           😊       0.84      0.96      0.90       585\n",
      "           😡       0.60      0.43      0.50       142\n",
      "           😩       0.66      0.65      0.65       212\n",
      "           😱       0.46      0.17      0.25        65\n",
      "\n",
      "    accuracy                           0.77      1004\n",
      "   macro avg       0.64      0.55      0.57      1004\n",
      "weighted avg       0.74      0.77      0.75      1004\n",
      "\n",
      "----------------------------------------\n",
      "[[563  10  11   1]\n",
      " [ 45  61  33   3]\n",
      " [ 51  15 137   9]\n",
      " [ 11  15  28  11]]\n"
     ]
    }
   ],
   "source": [
    "voting_clf = VotingClassifier(\n",
    "                estimators=[('logreg', lr_clf), ('svm_linear', sv_clf), ('pass_aggr', pac_clf),\n",
    "                            ('svc', svc), ('xgboost', xg), ('rfc', rfc_clf),\n",
    "                            ('mnbayes', mnb_clf),('berbayes', bb_clf)], #(\n",
    "                voting='hard', verbose=1, n_jobs= -1)\n",
    "results.append(('voting', get_model_results(voting_clf, 'voting')))"
   ]
  },
  {
   "cell_type": "code",
   "execution_count": 71,
   "metadata": {},
   "outputs": [
    {
     "data": {
      "text/plain": [
       "[('xgboost', 0.7848605577689243),\n",
       " ('svc', 0.7828685258964143),\n",
       " ('rfc', 0.7739043824701195),\n",
       " ('voting', 0.7689243027888446),\n",
       " ('linear svc', 0.7559760956175299),\n",
       " ('log reg', 0.75),\n",
       " ('pac', 0.7360557768924303),\n",
       " ('mn bayes', 0.6543824701195219),\n",
       " ('bernoulli bayes', 0.6225099601593626),\n",
       " ('Dummy', 0.2502490535963339)]"
      ]
     },
     "execution_count": 71,
     "metadata": {},
     "output_type": "execute_result"
    }
   ],
   "source": [
    "results = sorted(results, key=lambda x: x[1], reverse=True)\n",
    "results"
   ]
  },
  {
   "cell_type": "markdown",
   "metadata": {},
   "source": [
    "### Bar Chart of Different Model Results"
   ]
  },
  {
   "cell_type": "code",
   "execution_count": 72,
   "metadata": {},
   "outputs": [],
   "source": [
    "x = [x[0] for x in results]\n",
    "y = [x[1] for x in results]"
   ]
  },
  {
   "cell_type": "code",
   "execution_count": 73,
   "metadata": {},
   "outputs": [
    {
     "data": {
      "image/png": "[encoded data removed]",
      "text/plain": [
       "<Figure size 864x432 with 1 Axes>"
      ]
     },
     "metadata": {
      "needs_background": "light"
     },
     "output_type": "display_data"
    }
   ],
   "source": [
    "plt.figure(figsize=(12,6))\n",
    "sns.barplot(x,y)\n",
    "plt.ylabel('Accuracy')\n",
    "plt.title(\"Model Results\", fontsize=20)\n",
    "plt.savefig(\"../pics/model_performances.png\")  ## NOTE THIS WILL BE OVERWRITTEN BELOW WITH A BETTER XGBOOST"
   ]
  },
  {
   "cell_type": "markdown",
   "metadata": {},
   "source": [
    "## Gridsearch to try and improve xgboost"
   ]
  },
  {
   "cell_type": "code",
   "execution_count": 154,
   "metadata": {},
   "outputs": [],
   "source": [
    "params = {\n",
    "        'min_child_weight': [1],\n",
    "        'gamma': [.03,.05, .07],\n",
    "        'subsample': [1.0],\n",
    "        'colsample_bytree': [.8],\n",
    "        'max_depth': [4,5,6]\n",
    "        }"
   ]
  },
  {
   "cell_type": "markdown",
   "metadata": {},
   "source": [
    "Writing these down, best score so far\n",
    "\n",
    "{'colsample_bytree': 0.8,\n",
    " 'gamma': 0.5,\n",
    " 'max_depth': 5,\n",
    " 'min_child_weight': 1,\n",
    " 'subsample': 1.0}"
   ]
  },
  {
   "cell_type": "code",
   "execution_count": 155,
   "metadata": {},
   "outputs": [
    {
     "name": "stdout",
     "output_type": "stream",
     "text": [
      "Fitting 5 folds for each of 9 candidates, totalling 45 fits\n"
     ]
    },
    {
     "name": "stderr",
     "output_type": "stream",
     "text": [
      "[Parallel(n_jobs=-1)]: Using backend LokyBackend with 8 concurrent workers.\n",
      "[Parallel(n_jobs=-1)]: Done  45 out of  45 | elapsed:   50.3s finished\n"
     ]
    },
    {
     "data": {
      "text/plain": [
       "GridSearchCV(cv=5,\n",
       "             estimator=XGBClassifier(base_score=None, booster=None,\n",
       "                                     colsample_bylevel=None,\n",
       "                                     colsample_bynode=None,\n",
       "                                     colsample_bytree=None, gamma=None,\n",
       "                                     gpu_id=None, importance_type='gain',\n",
       "                                     interaction_constraints=None,\n",
       "                                     learning_rate=None, max_delta_step=None,\n",
       "                                     max_depth=None, min_child_weight=None,\n",
       "                                     missing=nan, monotone_constraints=None,\n",
       "                                     n_estimators=100, n_jobs=None,\n",
       "                                     num_parallel_tree=None, random_state=None,\n",
       "                                     reg_alpha=None, reg_lambda=None,\n",
       "                                     scale_pos_weight=None, subsample=None,\n",
       "                                     tree_method=None, validate_parameters=None,\n",
       "                                     verbosity=None),\n",
       "             n_jobs=-1,\n",
       "             param_grid={'colsample_bytree': [0.8], 'gamma': [0.03, 0.05, 0.07],\n",
       "                         'max_depth': [4, 5, 6], 'min_child_weight': [1],\n",
       "                         'subsample': [1.0]},\n",
       "             verbose=1)"
      ]
     },
     "execution_count": 155,
     "metadata": {},
     "output_type": "execute_result"
    }
   ],
   "source": [
    "grid = GridSearchCV(xgb.XGBClassifier(), params, cv = 5, n_jobs=-1, verbose=1)\n",
    "grid.fit(train_vec_all, y_train, eval_metric='mlogloss')"
   ]
  },
  {
   "cell_type": "code",
   "execution_count": 156,
   "metadata": {},
   "outputs": [
    {
     "data": {
      "text/plain": [
       "{'colsample_bytree': 0.8,\n",
       " 'gamma': 0.05,\n",
       " 'max_depth': 5,\n",
       " 'min_child_weight': 1,\n",
       " 'subsample': 1.0}"
      ]
     },
     "execution_count": 156,
     "metadata": {},
     "output_type": "execute_result"
    }
   ],
   "source": [
    "grid.best_params_"
   ]
  },
  {
   "cell_type": "code",
   "execution_count": 157,
   "metadata": {},
   "outputs": [
    {
     "data": {
      "text/plain": [
       "0.7947696139476962"
      ]
     },
     "execution_count": 157,
     "metadata": {},
     "output_type": "execute_result"
    }
   ],
   "source": [
    "grid.best_score_"
   ]
  },
  {
   "cell_type": "markdown",
   "metadata": {},
   "source": [
    "#### PICKLE MODEL"
   ]
  },
  {
   "cell_type": "code",
   "execution_count": 226,
   "metadata": {},
   "outputs": [],
   "source": [
    "pickle_out = open(\"xgboost.pickle\",\"wb\")\n",
    "pickle.dump(grid.best_estimator_, pickle_out)\n",
    "pickle_out.close()"
   ]
  },
  {
   "cell_type": "code",
   "execution_count": 158,
   "metadata": {},
   "outputs": [],
   "source": [
    "ps = grid.best_estimator_.predict(test_vec_all)"
   ]
  },
  {
   "cell_type": "code",
   "execution_count": 175,
   "metadata": {},
   "outputs": [
    {
     "data": {
      "text/plain": [
       "0.7918326693227091"
      ]
     },
     "execution_count": 175,
     "metadata": {},
     "output_type": "execute_result"
    }
   ],
   "source": [
    "accuracy_score(y_test, ps)"
   ]
  },
  {
   "cell_type": "code",
   "execution_count": 160,
   "metadata": {},
   "outputs": [
    {
     "data": {
      "text/plain": [
       "0.7810337323388371"
      ]
     },
     "execution_count": 160,
     "metadata": {},
     "output_type": "execute_result"
    }
   ],
   "source": [
    "f1_score(y_test, ps, average='weighted') ## need weighted because multiclass with class imbalance"
   ]
  },
  {
   "cell_type": "code",
   "execution_count": 161,
   "metadata": {},
   "outputs": [
    {
     "data": {
      "text/plain": [
       "array([[557,  12,  14,   2],\n",
       "       [ 26,  63,  48,   5],\n",
       "       [ 34,  16, 152,  10],\n",
       "       [  6,   9,  27,  23]])"
      ]
     },
     "execution_count": 161,
     "metadata": {},
     "output_type": "execute_result"
    }
   ],
   "source": [
    "confusion_matrix(y_test, ps)"
   ]
  },
  {
   "cell_type": "code",
   "execution_count": 162,
   "metadata": {},
   "outputs": [
    {
     "name": "stdout",
     "output_type": "stream",
     "text": [
      "              precision    recall  f1-score   support\n",
      "\n",
      "           😊       0.89      0.95      0.92       585\n",
      "           😡       0.63      0.44      0.52       142\n",
      "           😩       0.63      0.72      0.67       212\n",
      "           😱       0.57      0.35      0.44        65\n",
      "\n",
      "    accuracy                           0.79      1004\n",
      "   macro avg       0.68      0.62      0.64      1004\n",
      "weighted avg       0.78      0.79      0.78      1004\n",
      "\n"
     ]
    }
   ],
   "source": [
    "print(classification_report(y_test, ps))"
   ]
  },
  {
   "cell_type": "code",
   "execution_count": null,
   "metadata": {},
   "outputs": [],
   "source": []
  },
  {
   "cell_type": "markdown",
   "metadata": {},
   "source": [
    "Slightly better results with gridsearch, boosted accuracy by about a percent"
   ]
  },
  {
   "cell_type": "code",
   "execution_count": 177,
   "metadata": {},
   "outputs": [],
   "source": [
    "results[0] = ('xgboost', accuracy_score(y_test, ps))"
   ]
  },
  {
   "cell_type": "code",
   "execution_count": 178,
   "metadata": {},
   "outputs": [
    {
     "data": {
      "text/plain": [
       "[('xgboost', 0.7918326693227091),\n",
       " ('svc', 0.7828685258964143),\n",
       " ('rfc', 0.7739043824701195),\n",
       " ('voting', 0.7689243027888446),\n",
       " ('linear svc', 0.7559760956175299),\n",
       " ('log reg', 0.75),\n",
       " ('pac', 0.7360557768924303),\n",
       " ('mn bayes', 0.6543824701195219),\n",
       " ('bernoulli bayes', 0.6225099601593626),\n",
       " ('Dummy', 0.2502490535963339)]"
      ]
     },
     "execution_count": 178,
     "metadata": {},
     "output_type": "execute_result"
    }
   ],
   "source": [
    "results"
   ]
  },
  {
   "cell_type": "code",
   "execution_count": 180,
   "metadata": {},
   "outputs": [
    {
     "data": {
      "image/png": "[encoded data removed]",
      "text/plain": [
       "<Figure size 864x432 with 1 Axes>"
      ]
     },
     "metadata": {
      "needs_background": "light"
     },
     "output_type": "display_data"
    }
   ],
   "source": [
    "x = [x[0] for x in results]\n",
    "y = [x[1] for x in results]\n",
    "plt.figure(figsize=(12,6))\n",
    "sns.barplot(x,y)\n",
    "plt.ylabel('Accuracy')\n",
    "plt.title(\"Model Results\", fontsize=20)\n",
    "plt.savefig(\"../pics/model_performances.png\")"
   ]
  },
  {
   "cell_type": "markdown",
   "metadata": {},
   "source": [
    "## Take a look at the wrong predictions"
   ]
  },
  {
   "cell_type": "code",
   "execution_count": 211,
   "metadata": {},
   "outputs": [],
   "source": [
    "check_preds=pd.DataFrame()\n",
    "check_preds = pd.concat([df.loc[y_test.index], y_test], axis=1)"
   ]
  },
  {
   "cell_type": "code",
   "execution_count": 212,
   "metadata": {},
   "outputs": [],
   "source": [
    "check_preds['prediction'] = ps"
   ]
  },
  {
   "cell_type": "code",
   "execution_count": 222,
   "metadata": {},
   "outputs": [],
   "source": [
    "check_preds = check_preds.loc[:,~check_preds.columns.duplicated()]"
   ]
  },
  {
   "cell_type": "code",
   "execution_count": 257,
   "metadata": {},
   "outputs": [
    {
     "name": "stdout",
     "output_type": "stream",
     "text": [
      "RT @grandmagrit Anyone have election anxiety Mine is going thru the roof\n",
      "@realDonaldTrump My tweet is going wild right now! By the way I m a black french guy who loves America and presi https t co DczMJ89tuk\n",
      "@realDonaldTrump OMG! ARREST JOE BIDEN for High TREASON! He s a Crook amp NOW has STOLE this Monkey ELECTION!!! https t co 4FHaY7OHTP\n",
      "RT @disneywjoseph this election is so close https t co 4WUBZsCpVS\n",
      "that s a lot of mf money y all president owes!!! https t co UHL4PdQKUl\n",
      "RT @lilimagnifique Lisa bought a rose cup for rosé and the gold design is a REAL GOLD 블랙핑크 리사 I followed @965TDY and I vote LISA fo\n",
      "RT @TinaDHopkins Biden has TAKEN THE LEAD in Georgia!! Holy shit Maybe it s not too late for that blue wave after all\n",
      "OMG IM GETTING ELECTION ANXIETY Resisters let s have faith!!! Vote2020\n",
      "RT @UnabashedMisfit @johnkruzel IT MAKES SENSE NOW Trump amp Rs downplay virus all yr so their voters won t be afraid to vote in person\n",
      "Bitches worried about an election ELECT THESE NUTS NIGGA\n",
      "@madsmaru If Joe Biden wins antifas will censor your private thoughts\n",
      "RT @koan4u Latina s For Trump WTF Listen Up https t co pnMrF2dE30\n",
      "@nypost The father was in there too On gnews The Fourth Wave! Private messages from Hunter s Cell Phone Hunter https t co 2g7bzZhkzF\n",
      "RT @uk_lollipop I m so lost with trump and Biden What s going on I ve totally blanked it out the past few days\n",
      "These 20 Counties Could Decide The U S Election https t co lyTIh5id4H Cool cool cool\n",
      "wow Biden won Vermont Im so amazed\n",
      "RT @heavenlyitalian Stealing an election by drawing it out NOT checking signatures and letting votes be counted after Election Day\n",
      "@SHlVVV Donald Trump WOKE UP FEELING HUNGRY 0 VOTES Blew a 3 1 lead to a sleepy joe Won Texas and Florida https t co FMGHwDMQs8\n",
      "The Russians are coming for trump! https t co YDgzngzCFM\n",
      "OMG!!! This election is just like Harry Potter!!!!\n",
      "Ever read up on the World Hoax Organization invlovement in Wuhan Flu All Fraud!!!!! Same fraud as the fake ba https t co pKJogsX1nq\n",
      "Wait What The Washington Times has endorsed President Trump Is this a trick OMG I fainted https t co RczuibhBDD\n",
      "RT @moavotingsquad 2020 K CHAMP AWARDS Oh Nooooooo We lost the lead Vote now! 5 minutes before reset Rank 2 PERFO\n",
      "BIGGEST POLL KHOL Your vote this week RahulVaidya RubinaDilaik NainaSingh ShardulPandit\n",
      "@womenpepper You met the president ! In all seriousness doe fuck that guy\n",
      "@Rylan I did not read that as Election\n",
      "Just fell down a Twitter trump rabbit hole lots of isn t he wonderful be and sent by God Looked at a few acc https t co Iy3bUpXAHY\n",
      "Mom I m going to be able to vote next election Brandon\n",
      "If b b Biden wins I ll post all the guys I ve called my baby daddies\n",
      "RT @Zubhaque Update Still too close to call!! BUT Biden now ahead by approx 28 000 votes in Pennsylvania! In other news senior Republ\n",
      "election today\n",
      "Got my vote in Friday Anyone voting tomorrow Who s as anxious as me BidenHarris2020 DumpTrump2020\n",
      "RT @BlaqJoker91 Joe Biden first run for President was in June 9 1987 In this Life never give up\n",
      "@nolansmith07 covid killing americans trump biden gains leads in GA PA and NV trump the election is rigged\n",
      "@betangel @psychofftrading Joe Biden endorses this policy\n",
      "RT @Iego_ninjago guys vote coal ninjago for president he currently in the lead Vote2020 Ninjago https t co lKVJ0SKTau\n",
      "BIDEN HAS FLIPPED GEORGIA https t co nY0VfG7N5S\n",
      "@WazzaG94 @JeremyVineOn5 Yes that s my concern although President Eric Trump more comedy gold there!!!!\n",
      "@TrumpWarRoom DONALD TRUMP DONALD JR IVANKA ERIC NOW THE TIME HAS COME https t co Sauq8sDZ3s\n",
      "@tamburlaine01 We can t vote turner because trump is trying to be a dictator again I already hear the libs\n",
      "for all you people with 2020 vision why didn t you tell us about covid did joe biden win give me answers\n",
      "wait wait !!! Free get the best weight loss book in no time https t co 5VUVz3IlnG destiel Biden 264 https t co VEoaoMfUe2\n",
      "Wow props to Joe mfkn Biden what a comeback 28 3\n",
      "Akh akh electiono ki mibare Translation for my patriots who s winning this mother fucking election\n",
      "RT @rosiesrambles Y all! Tomorrow is the LAST day to vote in the GoodreadsChoice Awards Opening Round! Please consider voting for A S\n",
      "@wgsaraband Head and heart say Biden Trembling Sphincter says Trump\n",
      "I guess the USElection2020 is a remake of US Election in 2000 USElections\n",
      "I know fulton was going biden atlanta city but didnt think dekalb and gwinnett would either wtf is going on!!\n",
      "@whiskers72400 omg maybe i hope it s not predicting a trump win though\n",
      "ANTIFA JOE BIDEN https t co QFj0I7PUHG via @YouTube YT just cancelled my account please help me spread my N https t co I9WW7A11GC\n",
      "That number of positive cases is insane and the current Administration is not doing anything to help lower this Cov https t co BvuU4A8Zgs\n",
      "RT @Meek_SSB spoilers My uncle who works at the government just leaked to me who the next president is going to be https t co 6\n",
      "RT @RMPICS_twt There will be a special guest on tomorrow s ep of RUN BTS !! You saw my presence didn t you I vote for bts for Wo\n",
      "@STELLAaustin @kirstiealley All of Epstein s flight log endorsed Biden Every single person\n",
      "@kmeinke Enough of the sadness I have an election to worry about\n",
      "@KobeLightnTruuu Donald Trump WOKE UP FEELING HUNGRY 0 VOTES Blew a 3 1 lead to sleepy joe 5 tweets Unem https t co mFrx8VS8is\n",
      "@AngrierWHStaff The Senate though A Biden presidency goes nowhere without the Senate and all the shit that is wrong doesn t get fixed\n",
      "@vikramchandra When the flip happens Trump s explosion will be of a magnitude not seen before Hell he jus https t co BVW9ZxxWy3\n",
      "@bts0__0 but then election\n",
      "RT @shellystrick4L Kanye West only ran for president so that the first time he voted he could vote for himself\n",
      "Some deeply Republican counties won t START counting mail in ballots until the day AFTER the election https t co fuI56rQae5\n",
      "its almost election day!!! Election2020\n",
      "RT @_Saczak Trump s lead in Pennsylvania DOWN to 1 5 BidenHarrisToSaveAmerica Election2020\n",
      "Everyone today watching the US election https t co aiRKqkENHE\n",
      "@realDonaldTrump 140k votes 100 Biden https t co ed7fQUZEBC\n",
      "It s so sad how places are being boarded up bc their expecting violence if trump wins never has an election been like this wtf\n",
      "@Kelly75595171 @realDonaldTrump @EveningEdit He s Your President\n",
      "RT @NilSatisNisiO78 The new American president https t co QKlBmXiKpt\n",
      "@Mistywoman1 It s a Biden presidential advert\n",
      "@JackPosobiec And where s her mask!!!! Biden been screaming Be a patriot and wear a mask\n",
      "RT @altaf4u89 Howdy Modi Jammu Kashmir missing from India Map! And India spent 120 on Namaste Trump Trump Kashmir DonaldTrumpJr\n",
      "@petehasabeard I was really feeling it with Mitch He wasn t looking so great This election has really brought out my dark side\n",
      "RT @illwillie_ nevada 3 IF JOE BIDEN HAS 264 MUTHAFUCKIN ELECTORAL COLLEGE VOTES https t co bVDxhMKM51\n",
      "@SuleimanArafat @iameneji I pity Biden His work will be long painful amp thankless\n",
      "@common I should be focusing on exam prep but can t stop watching the US election results https t co 4REozqHkSm\n",
      "@TeamTrump @realDonaldTrump Nancy va haber recuento de votos Nancy will have a vote count https t co AYstdlyO03\n",
      "I know I don t want Trump to win but I DAAAAMMN sure don t joe Biden to win either Evil vs Evil https t co Jo86fa9rXU\n",
      "trump ganhou https t co BAcDDHW5Zu\n",
      "BUT SLEEPY JOE WILL BE YOUR PRESIDENT!!! https t co QjQA8yJ5rQ\n",
      "RT @Mork4mindy @SedonajaneRocks @balleralert God what has Trump done to America Shameful\n",
      "@TrashyAkechi BIDEN FUCKING DIES TRUMP TEST POSITIVE 100 LEGIT NOT CLICKBAIT\n",
      "@PaAmericangirl Wonder IMHO I ve been banned thrice as u know Good company it appears PRESIDENT Trump Don Jr https t co U9jnmQLtVM\n",
      "Bitchhh Election Day is tomorrow\n",
      "omg there s more on the ballot then just the president why didnt school teach us this uh they did\n",
      "Joe biden will now be the oldest president 77 years old Lot of pressure for a man that age but still ByeByeTrump\n",
      "RT @Alonekvg BIGGEST POLL KHOL Your vote this week RahulVaidya RubinaDilaik NainaSingh ShardulPandit\n",
      "@realDonaldTrump Donald Trump WOKE UP FEELING HUNGRY 0 VOTES Blew a 3 1 lead to sleepy joe 5 tweets Unem https t co rDXx4Z5BaX\n",
      "@holmorten Final warning tomorrow Biden will start the communist attack\n",
      "@w_terrence We will all be under Chinese rule if Biden wins\n",
      "@lindarchilders And election day may last several days or a few weeks until we know\n",
      "@GEOClTlES election stuff https t co pWnrsqN2oL\n",
      "@Moilgas @Jam4u_75 The former vice president is also suffering from Dementia and likes to sniff children He wi https t co 6eoQqxNiIx\n",
      "@fToRrEeEsSt Feeling sad now Just wait until Liz Cheney becomes the first woman President who s actually elected\n",
      "Regardless of who becomes the next president the USA has lost the moral war WtfAmerica 2020Election\n",
      "RT @Stellartones Definitely see this happening Kicking and screaming on the way out Lol Elections2020 ElectionNight ByeByeTrump T\n",
      "RT @JonathanB_50 Only 3 000 vote difference in GA this is why your vote matters!!\n",
      "RT @markue15 OMG THE GAP GUYS WE ARE GETTING CLOSER https t co nCyD7sEElw GOT7 @GOT7Official https t co xIy9Nx21IE\n",
      "RT @MrWick2u Report to your local election officials https t co VwSldS0MQk\n",
      "@KEEMSTAR Donald Trump WOKE UP FEELING HUNGRY 0 VOTES Blew a 3 1 lead to a sleepy joe Won Texas and Florida https t co MZrrZtWOw5\n",
      "RT @15poundstogo AAAAAAAAAHHHHH !!!! NEXT week AFTER the election we ll finally get to see some of the Biden Ukraine document\n",
      "@spectatorindex Donald Trump WOKE UP FEELING HUNGRY 0 VOTES Blew a 3 1 lead to a sleepy joe Won Texas and F https t co ghH9C6ahzw\n",
      "He s got a shit speech writer also Trump struggles to read it does he need a nanny https t co rM6X1FGQ7A\n",
      "Georgia Biden is only down by 1902 This is happening ElectionResults2020\n",
      "RT @Mindcite_US If Nixon was paranoid Trump is PETRIFIED FBI CIA Science Fauci Mexicans Muslims Kneelers Leakers Mueller Pel\n",
      "RT @CherylMorrisW Scientists Who Don t Believe In ClimateChange Are Now Leading A Top Environmental Agency In The US A Series Of\n",
      "RT @lentology when biden moves into the white house and sees shit stains on the bed sheets\n",
      "@MSNBC @AriMelber As a norwegian i gotta say that this is entertaining I feel sorry for americans right now because of circus Trump\n",
      "Landslides for Biden comparing with 2016 election https t co x4tg8mbx1C\n",
      "RT @SpeakerShinjini I can t believe how Biden is feeling before sleeping tonight\n",
      "RT @Atiny_support Ends at 11 00 KST Drop votes for Wooyoung so he can get a 30 second Time Squares ad Make the gap bigger ATEEZ 에이티즈\n",
      "HYLT JUMPED FROM 6 TO 3 THIS IS HOW IMPORTANT OUR VOTES! BLINKS PLEASE CREATE MORE ACCOUNTS AND VOTE FOR https t co hGCb4cq79t\n",
      "Trump Perks for Weisselbergs Included Free Rent Tax Preparer https t co y4cO6KiN2b\n",
      "RT @cherublink HYLT JUMPED FROM 6 TO 3 THIS IS HOW IMPORTANT OUR VOTES! BLINKS PLEASE CREATE MORE ACCOUNTS AND VOTE FOR @BLACKPINK ON\n",
      "RT @Maccassar1 China wants biden as POTUS What the Hell TrumpWins\n",
      "RT @GoatJames_SZN @JoeBiden Donald Trump WOKE UP FEELING HUNGRY 0 VOTES Blew a 3 1 lead to a sleepy joe Won Texas and Florida U\n",
      "@TomiLahren I disagree Remember on election night when the president was winning Michigan Wisconsin and Arizona https t co DAHtvG75jN\n",
      "Biden took my state of MI amp my covid test was negative Phew Turning out to be a good day ElectionResults2020 https t co 4pLkvx4M0x\n",
      "Sorry but not sorry that it scares that so many ppl still wants Trump to be president what has happend to the world we live in\n",
      "@kirstiealley Gurl! I just can t with you At least READ your own tweets BEFORE you post How embarrassing Please https t co SSZjrAPm2f\n",
      "@arielwinter1 @Onepiece If you look in google its live and it seems the trump might win again\n",
      "joe biden liked my tweet\n",
      "Antifa preparing for Election Day hit the shooting range https t co 9lbYrjhavx\n",
      "@AmyAThatcher I woke up to see and I was like come on Call Georgia for Biden\n",
      "Scumbags! Antifa gearing up for false flag violence disguised as Trump supporters https t co eyTKB7K6BT\n",
      "Commies will marry stay at home moms! VOTE https t co nsCv7dl99z\n",
      "@JoeBiden BIDEN WILL HAVE NO CLUE HOW TO CREATE JOBS OR GROW THE ECONOMY Higher taxes will be a Disaster\n",
      "RT @LoveDonald4Ever Dems Lets see how many states he wins and how many votes He s winning STOP COUNTING! We need to create ballots an\n",
      "RT @Beyoncemyroc Oh my my future president gotta body\n",
      "@ballantine70 @CoffeeRorschach Good grief! I m seeing Trump everywhere\n",
      "I remember being so scared in 2016 when Trump became president\n",
      "yeah but give the man a break imagine being raised by trump sr https t co hCwv6BqXqP\n",
      "RT @raptvcom JoeBiden is 6 electoral votes away from winning the election https t co WMniRfzU7w\n",
      "@JiayangFan Did you see this interview with Mary Trump and her concern about her Uncle over the next 76 days https t co QXvHNEsT9v\n",
      "@petehasabeard Ignore amp Block Sorry you had to have the this Enjoy Ignore amp Block Sorry you had to have the https t co XqIM7nS94L\n",
      "@SocialM85897394 Am I the only person on here that thinks Trump is an arrogant idiot\n",
      "@JayTatumWRLD Trump won wtf\n",
      "@BillDempster6 Lockdown US election what s going to happen by Wednesday !\n",
      "RT @KTHsolomon we re in 10th place for WWFC this is the one of the only categories WE CAN GIVE THE BOYS AN AWARD TO TAKE HOME PLEASE\n",
      "Update the Civil War has been scheduled for 7pm tonight NOT election night as previously suspected https t co cTVM7izKMy\n",
      "@damienwoody He s making damn sure he is the first to announce President Biden to the world and my gawd does he deserve it Woody\n",
      "RT @andriiish It doesn t get more exciting than this It all comes down to ink in Wisconsin The absentee ballot results in Green Bay\n",
      "This is the third presidential election I ve voted in and the FIRST time I ve voted for a white man\n",
      "@JoeConchaTV So why is the post saying Biden Trump2020\n",
      "@brimarlee Maybe just maybe it s cause major cities have more people to vote than rural\n",
      "@Mrsrobi70428384 I looked at the headline without looking at the context Thought you were referring to Trump in the WH\n",
      "Biden is gonna talk I knew there was a reason we all stayed up late\n",
      "Biden just overtook Trump in Georgia!!!!!\n",
      "RT @Groundotter @USPoliticsPoll Donald Trump WOKE UP FEELING HUNGRY 0 VOTES Blew a 3 1 lead to a sleepy joe Won Texas and Florida\n",
      "RT @clarinetmoonesc OMG!! Trump stans sopho!! https t co Wm0zhK4XJX\n",
      "So who else is wide awake with election anxiety I feel like we are headed into a shitshow\n",
      "RT @picardonhealth News you can use on Nov 3 2020 Peak Anxiety Here Are 10 Ways to Calm Down If the one two punch of pandemic s\n",
      "The Trump folks how many have been indicted or even gone to prison are claiming that the election is a fraud https t co qgvkVHzdio\n",
      "RT @PatAmador1 @joannelipman @Carrasquillo @WSJ @MSNBC and @CNN Are you protecting trump Hell Call the election\n",
      "No one told him how vote counting works https t co jMe5nup3LB\n",
      "@zainspink just wait till they find out that trump doesn t like them\n",
      "@gdoughdoc @SenKamalaHarris If Biden Wins The CCP Will Take Over The World The laptop content is a nati https t co D5WkE6Lpbu\n",
      "Imagine if it was Biden v Trump 2024\n",
      "HARRIS hiding behind Joe Biden is a Nail in USA coffin marxist https t co WgULauB1tM\n",
      "RT @KingJeffffrey This vote is too close for comfort https t co QNOdGvGQX9\n",
      "Is it too early to start drinking wine Election nerves ya feel me\n",
      "@Aboveon1y @MaxtheHippo @Heyitsmicaylee @KimPowellTV Did you know there are black trump supporters\n",
      "@Biden_Army Keep updating Amy TIA We re a nervous wreck out here\n",
      "OMG! To everyone who was saying that it s Trump who was causing more wokeness despite the evidence of it skyrock https t co DGgII2oBT3\n",
      "@theblaze @MrCapacho Nancy va haber recuento de votos Nancy will have a vote count https t co d26ZqLie4a https t co NhBCZhBMlw\n",
      "RT @HelenTBracken Trump has told a staggering 10 000 lies since taking office some big some trifling Lies damned lies and Do\n",
      "@joannelipman @Carrasquillo @WSJ @MSNBC and @CNN Are you protecting trump Hell Call the election\n",
      "2020MAMA Vote for exo on MAMAVOTE 2020 MAMA 2020 12 06 SUN @MnetMAMA @weareoneEXO https t co ZiOu2mTcJ0\n",
      "RT @LaLisaBitch0327 @soompi omgeee REMINDERS Untag BP KINGSCHOICE HERE https t co 4FEMcHAdEt Dabeme favourite member\n",
      "Election Day should be a holiday How am I expected to work with this much anxiety\n",
      "@realkimstover I m in Melbourne Australia it s bed time last night went to bed and Trump was winning This mor https t co XRkrzY2eCF\n",
      "Mike Pence could pardon Trump for everything IF Trump resigns and Pence takes over in next two months\n",
      "@JoeBiden 47 years of Do nothing is real proof of incompetence DONT BE FOOLED BY BIDEN\n",
      "RT @T_Cloud4 that s a lot of mf money y all president owes!!! https t co UHL4PdQKUl\n",
      "This man Trump just called game after being down 6 2 playing to 10 lol I m confused\n",
      "Please Please don t vote again Trump the president who didn t sign the Paris Agreement and who took s https t co ioyqHtQ8DX\n",
      "pretty crazy i m driving through downtown San Antonio amp businesses are boarding up bc of this upcoming election\n",
      "@bgirl0001 Here is a bit of ready for you on how Pelosi can become President A truly horrifying thought\n",
      "Collapsing of Mother of Democracy Trump stops the Count! Election2020\n",
      "Sorry to say but there is no hope left for trump s victory Biden is gonna win the election I ll miss you @realDonaldTrump\n",
      "@KayaJones I agree And when they didn t fire her after she told one of their anchors to Go to Hell I turned t https t co xla7DGTzAy\n",
      "It s nearly four AM and Georgia is blue!! Fingers crossed for seeing a Joe Biden victory in the morning!\n",
      "@glassbreaking_ That pre election anxiety gonna be nothing compared to that post election depression if Trump wins\n",
      "RT @HHepplewhite Florida my blood pressure Come on Trump\n",
      "@FoxNews This lady is stupid We have the right to vote whoever we want !!\n",
      "RT @itzreco4live Biden Supporter Admits Biden is Racist but then defends his Racism She s Black WTF This needs to go viral @Rea\n",
      "MUST SEE for each and every AMERICAN! @TheDemocrats @SenateDems @GOP @SenateGOP @SCOTUS @realDonaldTrump https t co S84504AMfm\n",
      "RT @RamenhaeMXMB WE RE 2 Monbebes if you haven t voted then please cast your daily 3 votes per device here https t co YSEnHPFjxi\n",
      "@ddale8 Trump will be fired by votes on nov 3 2020z Fauci will have the last laugh\n",
      "COUNT EVERY VOTE!\n",
      "Dressing up in costume tonight because THIS is the scariest night of the year not Halloween vote VoteHimOut\n",
      "RT @almostdita LEGENDARY PERFORMANCE BY @BTS_twt They re going to top last year s performance we better get ready I vote for BTS\n",
      "am i the only one that s scared of what s to come after this election\n",
      "RT @FalloutShelterB European election observers decry Trump s baseless allegations of voter fraud so do I https t co XdN3HjfAVu\n",
      "Dizzying Depressing that it could even be this close 4 more years of Trump seems like a nightmare too far https t co zwPPQBV1MD\n",
      "When you take a break from local news and get an update on the US has there ever been such a tense election https t co LO12Uo5WGJ\n",
      "OMG do we have a law that you can t run for President from prison https t co OpPtSdQb9Y\n",
      "So anxious I m on my second glass of wine Trump s in the lead God I just can t do another 4 years of bigotry I https t co ZXVltTKMNE\n",
      "Here s a scary thing I knew most of you during the last US election Yeah time flies right https t co EQXaSeiNME\n",
      "my anxiety is through the roof between the election and the @BacheloretteABC epi tonight i m spinning\n",
      "RT @JUDGEJUSTIN777 You are probably a Muslim Is that the only reason you don t like Trump Self centred\n",
      "Those voting for Joe Biden after all the exposure of corruption treason sedition etc what are they drinking !!\n",
      "@ScottMUFC1968 Heard Biden made fuck up calling his daughter his late sons name or something messed up like that\n",
      "RT @MrKuchi Xbox Playstation God of War Final Fantasy gigi Kanye soros ios14 Constitution Scalia Dems earthquake RIPRBG SCOTUS Merr\n",
      "RT @LV66337964 @JohnJetty1 Biden s ghost vote the oldest was born in 1850 and is 170 years old https t co fMqBlosuS9\n",
      "RT @CarolineSUSPEN Biden will guarantee WW3 and the reinstatement of the TPP and WORSE That s REALLY not nothing FvkBdn FvkDNC\n",
      "Thank u for helping @realDonaldTrump @WajahatAli u destroyed Biden s chance to win\n",
      "time is almost up to vote! https t co zaurvhxJjg\n",
      "@EWTN thanks for Prayers in the rosary with out mentioning politics! Todays homily was for trump!\n",
      "What What WHO IS RUNNING FOR PRESIDENT ! So this is really the trap of the Dems Biden is the bait for https t co FBHzIWwcVJ\n",
      "RT @JulianSerpaR Election Day Erection Day\n",
      "@common @johnlegend @JoeBiden @KamalaHarris I m doing the ugly cry I love this so much Glory BidenHarris2020 Vote\n",
      "@maggmountains @JoeBiden Ummm yea Definitely creepy ! Just as creepy as Biden s sniffing petting\n",
      "HES SURPASSED TRUMP IN VOTES I m so nervous https t co AnczpWsQJn\n",
      "Scared of election day tomorrow and I m not even American Can t imagine what it s like to be there right now https t co IZ89tZX3dI\n",
      "Did you feel Marine Le Pen president too\n",
      "@danielbenaim @AmbassadorRice If Biden Wins The CCP Will Take Over The World The laptop content is a na https t co GFP3bh6wp4\n",
      "Trump @GOP are AFRAID Please VOTE let s stop trump and WH crazies https t co Qt2pOEiWyf\n",
      "@McBenefit I just don t understand how so many are voting on him I mean our country is pretty dumb too voting in https t co tVbSQEPoVE\n",
      "@beydaddy @ivannizzle @zoeeswrld @goldxn_walls @makkayyy_ Donald Trump WOKE UP FEELING HUNGRY 0 VOTES Blew a 3 https t co nK4LngaA7I\n",
      "RT @MrKuchi If he wins everything is toast! @realDonaldTrump Calls Dr Fauci Disaster Says He Would Fire Him It Weren t For Negative\n",
      "RT @kk131066 4 I never thought that 1 day I ll sound like a character from an American action movie You are defending not just America\n",
      "RT @TED_ED Tomorrow Americans will be voting for their next president Your Twitter feeds might get a little so which would you like\n",
      "@QAnon_Report Maybe all the clones malfunctioned Q idea has been debunked with Trump losing The war and fight is over\n",
      "RT @byCamAdams Wow Look at the latest polls before Election Day VOTE https t co fUNciMV1N8\n",
      "There is a less than 90k difference between Trump amp Biden in GEORGIA the only votes we re waiting on is Fulton Co https t co qBjRvLrgQv\n",
      "@JeffreyGallag19 I just a photo of Hunter Biden in a red scarf and jock strap bare butt too\n",
      "Florida 58 votes in Biden Lead 50 vs Trump 49\n",
      "@Nancywaddell18 How can you sleep during this election results\n",
      "@Ls2787 @Dotsy1978 he will easily be better than trump the guy has achieved nothing and has made america look li https t co lJ7pBOxU9U\n",
      "@reesetheone1 All Biden need to do is win WI MI NV and it s game over with most GA and PA\n",
      "i know the all this election stuff is going on so is it too late to vote Kim Namjoon for president\n",
      "RT @benjaminbutter I m a little weary after all the election reporting so finding myself in Private Eye sure did wake me up https t c\n",
      "If Biden Wins The CCP Will Take Over The World The laptop content is a national security nightmare and https t co zpe5WPk8fc\n",
      "im like 100 positive trump is not going to win unless he somehow flips az and nevada but like its unlikely but im still like\n",
      "If everything holds as is I don t think it will It will be 271 Biden 267 Trump\n",
      "RT @DrDenaGrayson Trump s SuperSpreaderEvent in Georgia Wall to wall people ZERO SocialDistancing Very few wearing masks From Jun\n",
      "@D_mooji07 During his rallies Trump was lying over 50 times in under 90 minutes! https t co erZQDfHDDe\n",
      "@GaryLineker Nah it must be rigged surely people didn t actually VOTE!! ! ! https t co Evots3nT1n\n",
      "RT @Sub2Julianesque Donald Trump WOKE UP FEELING HUNGRY 0 VOTES Blew a 3 1 lead to a sleepy joe Won Texas and Florida Unemploye\n",
      "Joe Biden in the 25 year anniversary film for the Finno Soviet treaty of 1948 https t co Lo4Xk99ZA6\n",
      "@barbaracrampton Yeah time to dump trump\n",
      "RT @mojorisin94 These are the people that vote for Trump and the also the people that give this lunatic money! https t co 9OtoHio\n",
      "@imamoglu_int Kızılay G President K Kınık We all watched the baby with tears but that building should not b https t co KXFPnOqsBc\n",
      "2 remaining almost a tie Trump 2 439 925 49 5 Biden 2 430 499 49 3 Live Georgia Election Results Map Cou https t co 1bmCnILHxl\n",
      "@MatiTaylorL4L @MariahCarey If Biden Wins The CCP Will Take Over The World The laptop content is a nati https t co yWeVyxdYiz\n",
      "@JoeBiden Trump won omg\n",
      "Oh god! Election Day is tomorrow!\n",
      "@KaiBaekChenYeol Oooh and i can t vote too oh god\n",
      "@Shmami6 Having a panic attack because of the election\n",
      "Scary ! Indoctrinated by Trump now she s losing her mind https t co iz8aO5aq3j\n",
      "RT @Casper10666 BIDEN BEING PROTECTED AS POTUS Secret Service ramps up protection of Biden sending reinforcements of agents to Delaw\n",
      "You are probably a Muslim Is that the only reason you don t like Trump Self centred https t co bvO8rJqR4c\n",
      "Oh shit um scared 49 biden 49 trump Texas is about to close\n",
      "@jimmykimmel I so wanted to see Trump totally humiliated! I genuinely cannot get my head around why anyone would vote for him\n",
      "trump is starting to remind me of the 7year old who didn t get picked for either team and was told to sit on the bench\n",
      "RT @PatAmador1 Trump @GOP are AFRAID Please VOTE let s stop trump and WH crazies\n",
      "@ErrolWebber Don t believe your lying eyes! If you don t vote for Biden YOU AIN T BLACK!!!\n",
      "RT @WalkerSkyNews Reopening twitter for an election glimpse more stressful than newborns and homeschool https t co TtCuJUkWZw\n",
      "spoilers My uncle who works at the government just leaked to me who the next president is going to be https t co 6jn05ypzRI\n",
      "Aye aye Hear me out What if we had a no party system and just voted for the best mf to be president\n"
     ]
    }
   ],
   "source": [
    "dfdf= df.loc[X_train.index]\n",
    "for tweet in dfdf[dfdf.top_emoji == '😱'].tweet:\n",
    "    print(tweet)"
   ]
  },
  {
   "cell_type": "code",
   "execution_count": 223,
   "metadata": {},
   "outputs": [],
   "source": [
    "wrong_preds = check_preds[check_preds.top_emoji != check_preds.prediction]"
   ]
  },
  {
   "cell_type": "markdown",
   "metadata": {},
   "source": [
    "#### Some notes on what I see in the list of missclassified tweets seen below:\n",
    "- Some tweets are a couple words followed by a video, picture, link, etc. More likely than not, the emotion of the tweet is captured in the content of the media. My model will not be able to pick up on these emotions. In a perfect world, I would drop them and run everything again, however, I would be losing a lot of data (and some of these posts with links still have some text that carries emotion). If I had in the tens or hundreds of thousands of observations from each class, I would 100% drop these observations from my dataset!!\n",
    "- The model has a hard time differentiating anger and fear. This makes sense since they are both negative emotions that might use a lot of the same buzz words. I believe, though, that the respective scores would greatly increase with more data. Remember, I only had 325 observations for fearful tweets. In NLP, to truly begin to learn a classification task, especially a multiclass one, more data would be needed.\n",
    "- The model is trained on all ends of the political spectrum. What is happy for a right leaning individual is probably the opposite for a left leaning individual, and vice versa. This project could be supplemented by another machine learning project that works to classifiy political leanings on twitter. My past reddit NLP project might be a good starting ground for this!\n",
    "- Lastly, I am trusting that the results from twitter will have the posters accurately use emojis, wherein reality, some people will use the 'objectively' wrong emoji for certain situations. If there were hundreds of thousands of observations, this issue would likely correct itself and converge, but with the low amount of data I have, it is more of a problem. For example this tweet: \"I m sickkkkk of these bastards always mentioning Obama leave that fucking man alone! He hasn t been president for four damn years\" -- I would strongly advocate that it should be labeled as \"Angry\", which my model predicted. However, it is actually a \"Sad\" class, at least based on the emoji that the author of the tweet chose to use."
   ]
  },
  {
   "cell_type": "code",
   "execution_count": 224,
   "metadata": {
    "scrolled": false
   },
   "outputs": [
    {
     "name": "stdout",
     "output_type": "stream",
     "text": [
      "RT @yeajiprofile Yeyes! Please go to idol champ and vote for Yea Ji We are going down Every vote is counted please participate Let ju\n",
      "Actual: 😩\n",
      "Prediction: 😊\n",
      "---------------------------------------------------------------------------------------------------\n",
      "And u say u don t hate such a president for doing all this https t co HBns2DvAuf\n",
      "Actual: 😡\n",
      "Prediction: 😩\n",
      "---------------------------------------------------------------------------------------------------\n",
      "Yea I just remembered tomorrow is Election Day and my heart rate really just increased\n",
      "Actual: 😩\n",
      "Prediction: 😊\n",
      "---------------------------------------------------------------------------------------------------\n",
      "Me watching trump supporters https t co uXeLMJ8MTm\n",
      "Actual: 😩\n",
      "Prediction: 😊\n",
      "---------------------------------------------------------------------------------------------------\n",
      "JOE BIDEN WILL NEVER EVER EVER BE MY PRESIDENT THAT OLD MAN!!!! ElectionResults2020 JoeBiden\n",
      "Actual: 😡\n",
      "Prediction: 😱\n",
      "---------------------------------------------------------------------------------------------------\n",
      "if Michigan fuck up the election @CSosshouse gotta rename the song\n",
      "Actual: 😡\n",
      "Prediction: 😩\n",
      "---------------------------------------------------------------------------------------------------\n",
      "RT @Julia_Kingsley democracy working the way it should trumpers ur stealing the election stop pls\n",
      "Actual: 😡\n",
      "Prediction: 😩\n",
      "---------------------------------------------------------------------------------------------------\n",
      "@1mpre5510n5 Please for the love of fucking god vote Trump Gay marriage shouldn t get legalized\n",
      "Actual: 😩\n",
      "Prediction: 😊\n",
      "---------------------------------------------------------------------------------------------------\n",
      "Georgia is blue rn this election is giving me anxiety lol\n",
      "Actual: 😱\n",
      "Prediction: 😩\n",
      "---------------------------------------------------------------------------------------------------\n",
      "@hijikatamamoru If Joe Biden wins taco trucks will take away Hobby Lobby\n",
      "Actual: 😱\n",
      "Prediction: 😩\n",
      "---------------------------------------------------------------------------------------------------\n",
      "The last thing I need is the father of Hunter Biden promising to take care of my family like has his own https t co Gxt57yM01W\n",
      "Actual: 😡\n",
      "Prediction: 😊\n",
      "---------------------------------------------------------------------------------------------------\n",
      "RT @SaraRose2480 NOT KIDDING I totally FORGOT that I had CLASS last night! I m a TOP A student I really DON T want to do homewo\n",
      "Actual: 😱\n",
      "Prediction: 😩\n",
      "---------------------------------------------------------------------------------------------------\n",
      "RT @cindylhoo @jennycohn1 Biden s group better fight this if it was called for Trump!!\n",
      "Actual: 😡\n",
      "Prediction: 😊\n",
      "---------------------------------------------------------------------------------------------------\n",
      "Twitter ya re Trump is cappin\n",
      "Actual: 😩\n",
      "Prediction: 😡\n",
      "---------------------------------------------------------------------------------------------------\n",
      "yo if any of you support trump and or voted for him in this election i urge you to immediately block me because i fucking hate you\n",
      "Actual: 😊\n",
      "Prediction: 😡\n",
      "---------------------------------------------------------------------------------------------------\n",
      "@sijuwi3 @realDonaldTrump not in front of trump babe\n",
      "Actual: 😩\n",
      "Prediction: 😊\n",
      "---------------------------------------------------------------------------------------------------\n",
      "@Chellaney If Trump is not strong enough in its stance against China s threats Biden will be feeble\n",
      "Actual: 😱\n",
      "Prediction: 😩\n",
      "---------------------------------------------------------------------------------------------------\n",
      "I am almost to the end of a 2wk course of Nexium and last night and today has just wiped out all the benefits I was receiving election\n",
      "Actual: 😡\n",
      "Prediction: 😊\n",
      "---------------------------------------------------------------------------------------------------\n",
      "RT @pebbut why vote go up if no red illegal vote!! blue map more red how blue lead\n",
      "Actual: 😡\n",
      "Prediction: 😊\n",
      "---------------------------------------------------------------------------------------------------\n",
      "@igt27 Oooohh my god I will vote\n",
      "Actual: 😩\n",
      "Prediction: 😡\n",
      "---------------------------------------------------------------------------------------------------\n",
      "I DID A BIDEN V TRUMP POLL ON MY INSTAGRAM AND THE WAY THAT ITS ONLY SEXY ASS BITCHES WHO VOTED FOR BIDEN\n",
      "Actual: 😩\n",
      "Prediction: 😡\n",
      "---------------------------------------------------------------------------------------------------\n",
      "if trump wins i m moving to canada\n",
      "Actual: 😩\n",
      "Prediction: 😊\n",
      "---------------------------------------------------------------------------------------------------\n",
      "@Kokomothegreat The Trump Administration just announced they are filing a lawsuit in Wisconsin too\n",
      "Actual: 😡\n",
      "Prediction: 😩\n",
      "---------------------------------------------------------------------------------------------------\n",
      "They were just showing people openly caring guns and they are trump supporters\n",
      "Actual: 😱\n",
      "Prediction: 😊\n",
      "---------------------------------------------------------------------------------------------------\n",
      "basically Trump supporters Biden only won because they counted the ballots\n",
      "Actual: 😩\n",
      "Prediction: 😊\n",
      "---------------------------------------------------------------------------------------------------\n",
      "Uh oh Bad news for @realDonaldTrump ! They re going after his assets! VoteHimOut Deutsche Bank to cut Trump t https t co XQiCtqzA4W\n",
      "Actual: 😱\n",
      "Prediction: 😡\n",
      "---------------------------------------------------------------------------------------------------\n",
      "RT @RahasiaAlexus_ Once Biden in ima need someone better than him to come along so I can vote him out as well\n",
      "Actual: 😊\n",
      "Prediction: 😡\n",
      "---------------------------------------------------------------------------------------------------\n",
      "@DavidGHFrost @BorisJohnson @vonderleyen @MichelBarnier Shameful!!! We DID NOT VOTE FOR THIS!!!!\n",
      "Actual: 😡\n",
      "Prediction: 😩\n",
      "---------------------------------------------------------------------------------------------------\n",
      "On going votings Your votes stream is their ticket to getting these awards You can do more we can do more and https t co GbEAWtfQ7g\n",
      "Actual: 😩\n",
      "Prediction: 😊\n",
      "---------------------------------------------------------------------------------------------------\n",
      "Man am I going to feel on the verge of tears all day today because of this damn election !\n",
      "Actual: 😩\n",
      "Prediction: 😱\n",
      "---------------------------------------------------------------------------------------------------\n",
      "@LATiffani1 Lucky those over 100 000 purely Biden votes turned up wasn t it\n",
      "Actual: 😡\n",
      "Prediction: 😊\n",
      "---------------------------------------------------------------------------------------------------\n",
      "I codedly want trump to win https t co QvKCG4He08\n",
      "Actual: 😩\n",
      "Prediction: 😊\n",
      "---------------------------------------------------------------------------------------------------\n",
      "RT @EdwardCaddis @washingtonpost What Trump is saying is count the white vote and don t count the black one how is that Democracy\n",
      "Actual: 😱\n",
      "Prediction: 😊\n",
      "---------------------------------------------------------------------------------------------------\n",
      "@LarrySchweikart @RealRLimbaugh I feel Rush is giving up on @POTUS He has spent more time on his show today disc https t co uo6C1P2ITs\n",
      "Actual: 😩\n",
      "Prediction: 😊\n",
      "---------------------------------------------------------------------------------------------------\n",
      "@southberryst Bonjour here is your unroll @superyayadize 1 I m @Twitter censors President @realDonaldTrump ye https t co ENVR4AeUsX\n",
      "Actual: 😡\n",
      "Prediction: 😩\n",
      "---------------------------------------------------------------------------------------------------\n",
      "@BGSpolitics Casting my mind back to politics A levels in 2000 I thought that election was interesting enough https t co JxbGNGCbGH\n",
      "Actual: 😱\n",
      "Prediction: 😩\n",
      "---------------------------------------------------------------------------------------------------\n",
      "not cultist behavior from trump supporters https t co YqWLO5WEr3\n",
      "Actual: 😱\n",
      "Prediction: 😡\n",
      "---------------------------------------------------------------------------------------------------\n",
      "RT @LisaMaxResist Trump s appointed postmaster general has slowed mail down in all the key battleground States they are no longer runnin\n",
      "Actual: 😡\n",
      "Prediction: 😩\n",
      "---------------------------------------------------------------------------------------------------\n",
      "Sleeping fucking good knowing Trump is stressing rn\n",
      "Actual: 😩\n",
      "Prediction: 😊\n",
      "---------------------------------------------------------------------------------------------------\n",
      "RT @Mister_Chances I want trump to lose the election but again when he lose it will disturb the dollar on the Forex market sigh\n",
      "Actual: 😩\n",
      "Prediction: 😱\n",
      "---------------------------------------------------------------------------------------------------\n",
      "wow it s almost like people don t like you and didn t vote for you https t co nHbWKpBelw\n",
      "Actual: 😱\n",
      "Prediction: 😩\n",
      "---------------------------------------------------------------------------------------------------\n",
      "@HYPERS3XUAL ppl r thirsting over Biden wth\n",
      "Actual: 😊\n",
      "Prediction: 😩\n",
      "---------------------------------------------------------------------------------------------------\n",
      "We only need Nevada for Biden to be elected president\n",
      "Actual: 😱\n",
      "Prediction: 😩\n",
      "---------------------------------------------------------------------------------------------------\n",
      "@yumecock Well i i dont think ure wrong he is the tge heir of a large conglomerate and an agency president of https t co 4uZaCyzHD4\n",
      "Actual: 😩\n",
      "Prediction: 😡\n",
      "---------------------------------------------------------------------------------------------------\n",
      "RT @KLaw2222 Mostly peaceful BLM amp only an idea ANTIFA stabbed Bevelyn Beatty in D C tonight!! These 2 terrorist groups have the\n",
      "Actual: 😩\n",
      "Prediction: 😱\n",
      "---------------------------------------------------------------------------------------------------\n",
      "Trump s final campaign pitch is a false warning of cheating in Pennsylvania https t co SBnRzkws1S LYING ! LY https t co Bar23wpe6O\n",
      "Actual: 😡\n",
      "Prediction: 😱\n",
      "---------------------------------------------------------------------------------------------------\n",
      "Those polls that just added 5 for Trump because of the shy Trump voter seem pretty accurate right now https t co hvUemhSdLp\n",
      "Actual: 😩\n",
      "Prediction: 😡\n",
      "---------------------------------------------------------------------------------------------------\n",
      "RT @ariesmoan if you re making jokes about flint or hating on them you re actually the worst! voter suppression! and when has our govern\n",
      "Actual: 😊\n",
      "Prediction: 😡\n",
      "---------------------------------------------------------------------------------------------------\n",
      "TIL Facebook Has A Metric For Violence And Incitement Trends And It s Rising https t co oAQUfEdIUx via @RMac18\n",
      "Actual: 😱\n",
      "Prediction: 😩\n",
      "---------------------------------------------------------------------------------------------------\n",
      "RT @JamesHu94283365 What a powerful drawing! How can anyone vote for a party that thinks this is okay https t co VKW0prQXjY\n",
      "Actual: 😩\n",
      "Prediction: 😊\n",
      "---------------------------------------------------------------------------------------------------\n",
      "@sarahcpr Yep be very surprised if a civil war does not break out! President Biden is going to have a tough start\n",
      "Actual: 😩\n",
      "Prediction: 😡\n",
      "---------------------------------------------------------------------------------------------------\n",
      "@DealinRugs There will always be stupid people and there will be people in China who support trump\n",
      "Actual: 😡\n",
      "Prediction: 😊\n",
      "---------------------------------------------------------------------------------------------------\n",
      "This election is already making me go crazy tonight I swear\n",
      "Actual: 😩\n",
      "Prediction: 😱\n",
      "---------------------------------------------------------------------------------------------------\n",
      "@WANGTOPIA Vote for GOT7 on kchamp on idolchamp Only 3 votes per day no hearts required 갓세븐 GOT7 @GOT7Official\n",
      "Actual: 😊\n",
      "Prediction: 😩\n",
      "---------------------------------------------------------------------------------------------------\n",
      "i swear to god i muted every word to do with the election today and i m still seeing shit\n",
      "Actual: 😡\n",
      "Prediction: 😩\n",
      "---------------------------------------------------------------------------------------------------\n",
      "You can t vote without the stickers! Mrs Tidwell s Civics classes held a mock election for the high school today https t co cyc1NXO4D8\n",
      "Actual: 😊\n",
      "Prediction: 😩\n",
      "---------------------------------------------------------------------------------------------------\n",
      "RT @TheRealAreeba Grrr the voter databases aren t synced and people are being forced to vote with provisional ballots\n",
      "Actual: 😡\n",
      "Prediction: 😩\n",
      "---------------------------------------------------------------------------------------------------\n",
      "RT @huntadelia62 @PauletteParis1 @MSNBC This was my tweet this morning!! I was LIVID I m with ya This is NOT a normal election with Dem\n",
      "Actual: 😡\n",
      "Prediction: 😩\n",
      "---------------------------------------------------------------------------------------------------\n",
      "Public health regulations informed by popular vote PallisterMustResign mbpoli https t co kxFGVmOn5u\n",
      "Actual: 😡\n",
      "Prediction: 😩\n",
      "---------------------------------------------------------------------------------------------------\n",
      "I m sickkkkk of these bastards always mentioning Obama leave that fucking man alone! He hasn t been president for four damn years\n",
      "Actual: 😩\n",
      "Prediction: 😡\n",
      "---------------------------------------------------------------------------------------------------\n",
      "I have never been soo engrossed in a US election couldntwriteit it s the best tv of the year\n",
      "Actual: 😱\n",
      "Prediction: 😩\n",
      "---------------------------------------------------------------------------------------------------\n",
      "@hyejooIuvie @965TDY @BLACKPINK gn dra polo I followed @965TDY and I vote LISA for BiggestCrush at TDYAwards @BLACKPINK\n",
      "Actual: 😩\n",
      "Prediction: 😊\n",
      "---------------------------------------------------------------------------------------------------\n",
      "RT @arrington171 I wrote this from the heart please go vote https t co 5rLmnJHEFR\n",
      "Actual: 😩\n",
      "Prediction: 😊\n",
      "---------------------------------------------------------------------------------------------------\n",
      "@realDonaldTrump U lost the election Just accept and leave the white house\n",
      "Actual: 😩\n",
      "Prediction: 😱\n",
      "---------------------------------------------------------------------------------------------------\n",
      "RT @birbigs Holy cow Springsteen Share Call 10 friends And VOTE https t co 1rPZyBHpfi\n",
      "Actual: 😩\n",
      "Prediction: 😊\n",
      "---------------------------------------------------------------------------------------------------\n",
      "According to AP numbers if Biden wins Georgia he wins the election is it too early to say President Elect Biden\n",
      "Actual: 😱\n",
      "Prediction: 😊\n",
      "---------------------------------------------------------------------------------------------------\n",
      "@latimes Wow LawABidenCitizen has catched up !!! Trump needs to stop throwing Trumptums !\n",
      "Actual: 😱\n",
      "Prediction: 😡\n",
      "---------------------------------------------------------------------------------------------------\n",
      "RT @MaggieDaWitch I got this in response to my complaint regarding PissOffClive s unsolicited election spam text Really REALLY htt\n",
      "Actual: 😡\n",
      "Prediction: 😩\n",
      "---------------------------------------------------------------------------------------------------\n",
      "@rosepet19239091 Just woke up rose Looks like Trump is winning\n",
      "Actual: 😩\n",
      "Prediction: 😊\n",
      "---------------------------------------------------------------------------------------------------\n",
      "RT @jim1036 Well said Feel for the 231 000 dead Americans that didn t vote today Feel for the families of these Dead Americans\n",
      "Actual: 😡\n",
      "Prediction: 😩\n",
      "---------------------------------------------------------------------------------------------------\n",
      "@Ladyjet02 @ddale8 Hey we don t deserve that A lot of Grand Rapidians moved here to get away from the kind of p https t co zeuhUiy95r\n",
      "Actual: 😩\n",
      "Prediction: 😊\n",
      "---------------------------------------------------------------------------------------------------\n",
      "@ReportsDaNews 1000 agree we can t save America if Trump wins and now will stop the election counting\n",
      "Actual: 😡\n",
      "Prediction: 😊\n",
      "---------------------------------------------------------------------------------------------------\n",
      "i mean unless you re a trump supporter then go home i think your house is being robbed\n",
      "Actual: 😱\n",
      "Prediction: 😩\n",
      "---------------------------------------------------------------------------------------------------\n",
      "Anyone in SNK could die Castiel might die Trump could become president\n",
      "Actual: 😡\n",
      "Prediction: 😩\n",
      "---------------------------------------------------------------------------------------------------\n",
      "Days before election Jewish cemetery in Michigan vandalized with TRUMP and MAGA graffiti Jewish Telegraphi https t co biVZ6qYfiR\n",
      "Actual: 😡\n",
      "Prediction: 😩\n",
      "---------------------------------------------------------------------------------------------------\n",
      "Joe Biden is the president a fascist liberal Trump lost fixpix CountEveryLegalVote ByeByeTrump All Votes Matter\n",
      "Actual: 😩\n",
      "Prediction: 😱\n",
      "---------------------------------------------------------------------------------------------------\n",
      "RT @ajuicygeorge That s how one Ust girl asked me if inec has announced the America election winner\n",
      "Actual: 😩\n",
      "Prediction: 😊\n",
      "---------------------------------------------------------------------------------------------------\n",
      "brb gonna watch the walking dead while i wait for the election results\n",
      "Actual: 😊\n",
      "Prediction: 😩\n",
      "---------------------------------------------------------------------------------------------------\n",
      "why is supporting trump a personality trait ugh i m so embarrassed to be in america\n",
      "Actual: 😩\n",
      "Prediction: 😱\n",
      "---------------------------------------------------------------------------------------------------\n",
      "RT @talented_TIMMY 87k til Biden jumps in the GA LEAD Cmon Fulton Dekalb and ClayCo!! Election2020\n",
      "Actual: 😩\n",
      "Prediction: 😡\n",
      "---------------------------------------------------------------------------------------------------\n",
      "RT @ReelMarvinT @mwalk113 @Nevada7Desert Hey Mary! I ve been with Biden since he announced in April of 2019!! America needs him right now\n",
      "Actual: 😩\n",
      "Prediction: 😡\n",
      "---------------------------------------------------------------------------------------------------\n",
      "Ion really care bout the election anymore Kinda just waitin for @awesuker to wake up\n",
      "Actual: 😩\n",
      "Prediction: 😊\n",
      "---------------------------------------------------------------------------------------------------\n",
      "These election results are giving me anxiety https t co d4vm7895Z4\n",
      "Actual: 😱\n",
      "Prediction: 😊\n",
      "---------------------------------------------------------------------------------------------------\n",
      "White House s seat screwed due to no party getting full majority Sanjay Raut said the next president will be from Shiv Sena\n",
      "Actual: 😊\n",
      "Prediction: 😩\n",
      "---------------------------------------------------------------------------------------------------\n",
      "Last time @ShelaghFogarty and @IainDale did an ElectionNight Special Trump was elected President JustSaying\n",
      "Actual: 😱\n",
      "Prediction: 😩\n",
      "---------------------------------------------------------------------------------------------------\n",
      "@edenkathryn hmm it s almost like they re finding biden votes bc people are voting for biden\n",
      "Actual: 😱\n",
      "Prediction: 😩\n",
      "---------------------------------------------------------------------------------------------------\n",
      "It just defies credibility that a mostly sane society could see fit to vote for crooked demented qui pro quo Joe!! Astounding!!\n",
      "Actual: 😡\n",
      "Prediction: 😊\n",
      "---------------------------------------------------------------------------------------------------\n",
      "Bit like Trump https t co bBln2G09HJ\n",
      "Actual: 😡\n",
      "Prediction: 😊\n",
      "---------------------------------------------------------------------------------------------------\n",
      "RT @jordanburnsidee young joe biden vs young donald trump https t co SgbK96THZn\n",
      "Actual: 😡\n",
      "Prediction: 😩\n",
      "---------------------------------------------------------------------------------------------------\n",
      "Our prime minister being shown in black face multiple times isn t funny at all What is funny is a president ne https t co 4DXwAFhVfK\n",
      "Actual: 😡\n",
      "Prediction: 😊\n",
      "---------------------------------------------------------------------------------------------------\n",
      "if you guys vote for universal healthcare gun control right to abortion etc im moving to where they already have it\n",
      "Actual: 😡\n",
      "Prediction: 😩\n",
      "---------------------------------------------------------------------------------------------------\n",
      "@briebriejoy or we ll vote democrat EVEN MORE reluctantly next time!!!\n",
      "Actual: 😡\n",
      "Prediction: 😱\n",
      "---------------------------------------------------------------------------------------------------\n",
      "Biden will WIN Trump and DeJoy have cheated!! ProtectOurVote We deserve better! Look at how many he s killed a https t co 6BR3jsTNrH\n",
      "Actual: 😊\n",
      "Prediction: 😩\n",
      "---------------------------------------------------------------------------------------------------\n",
      "RT @TheBillyMartin The thing is well what I actually want to say is ok just Vote PLEASE!\n",
      "Actual: 😡\n",
      "Prediction: 😊\n",
      "---------------------------------------------------------------------------------------------------\n",
      "Bro this election stressing me the hell out\n",
      "Actual: 😱\n",
      "Prediction: 😩\n",
      "---------------------------------------------------------------------------------------------------\n",
      "@realDonaldTrump We you! We want you!! We voted for YOU! We will stand up and fight for you! We will pray https t co OC6UoVen68\n",
      "Actual: 😩\n",
      "Prediction: 😡\n",
      "---------------------------------------------------------------------------------------------------\n",
      "anyway i hope manny pacquiao wont run for president\n",
      "Actual: 😩\n",
      "Prediction: 😊\n",
      "---------------------------------------------------------------------------------------------------\n",
      "@rabiih @Itanovski He is not my president!\n",
      "Actual: 😊\n",
      "Prediction: 😡\n",
      "---------------------------------------------------------------------------------------------------\n",
      "RT @DaisyAdeleleo Biden on brink of Victory by Election fraud\n",
      "Actual: 😡\n",
      "Prediction: 😩\n",
      "---------------------------------------------------------------------------------------------------\n",
      "RT @J212_87 Warms my heart to see @AndrewYang in my home county MontCo Couldn t make it out today but that s life Step 1 VoteH\n",
      "Actual: 😩\n",
      "Prediction: 😊\n",
      "---------------------------------------------------------------------------------------------------\n",
      "ELECTION ABSTRACTS 0 0 0 0 president trump 0\n",
      "Actual: 😩\n",
      "Prediction: 😡\n",
      "---------------------------------------------------------------------------------------------------\n",
      "@TheDevilsUnited Datz wot I m boot can c it bein fixed fur Biden win\n",
      "Actual: 😡\n",
      "Prediction: 😩\n",
      "---------------------------------------------------------------------------------------------------\n",
      "donald trump be like people are voting\n",
      "Actual: 😡\n",
      "Prediction: 😊\n",
      "---------------------------------------------------------------------------------------------------\n",
      "NJ so disappointing Bad enough Trump didn t win NJ but Booker won again ! ! WTF! nj ElectionDay Trump2020 https t co AdzT6t8KwH\n",
      "Actual: 😩\n",
      "Prediction: 😡\n",
      "---------------------------------------------------------------------------------------------------\n",
      "because i too believe in ccp sponsored fb posts about how good of a president he was because he disciplined so many fucking people\n",
      "Actual: 😩\n",
      "Prediction: 😡\n",
      "---------------------------------------------------------------------------------------------------\n",
      "Not wanting trump to win but got 500 bet riding on him to win https t co LTQWkIakRM\n",
      "Actual: 😩\n",
      "Prediction: 😊\n",
      "---------------------------------------------------------------------------------------------------\n",
      "@one_by_two I thought he d demand President s Rule in the US seeing all the confusion!\n",
      "Actual: 😊\n",
      "Prediction: 😡\n",
      "---------------------------------------------------------------------------------------------------\n",
      "don t be shy vote for blond https t co vFf9Wylda9\n",
      "Actual: 😡\n",
      "Prediction: 😩\n",
      "---------------------------------------------------------------------------------------------------\n",
      "@EnglishFars Wow already admiring Biden plans to surrender\n",
      "Actual: 😱\n",
      "Prediction: 😡\n",
      "---------------------------------------------------------------------------------------------------\n",
      "@ABC When do we start blaming Biden\n",
      "Actual: 😊\n",
      "Prediction: 😩\n",
      "---------------------------------------------------------------------------------------------------\n",
      "President Donald Trump won early Tuesday with 16 votes to Biden s five This is not helping my anxiety level https t co kzQ6XB7zc1\n",
      "Actual: 😱\n",
      "Prediction: 😩\n",
      "---------------------------------------------------------------------------------------------------\n",
      "@sixlillies they better respect our president\n",
      "Actual: 😡\n",
      "Prediction: 😊\n",
      "---------------------------------------------------------------------------------------------------\n",
      "@RealJamesWoods Biden Supporters\n",
      "Actual: 😱\n",
      "Prediction: 😩\n",
      "---------------------------------------------------------------------------------------------------\n",
      "bye get this election shit out of my tl I hate election and everything related to election\n",
      "Actual: 😊\n",
      "Prediction: 😩\n",
      "---------------------------------------------------------------------------------------------------\n",
      "What am I missing How can this even be close I swear if I wake up tomorrow and that complete douche bag is still president !!!!\n",
      "Actual: 😡\n",
      "Prediction: 😱\n",
      "---------------------------------------------------------------------------------------------------\n",
      "RT @msnavlin @MSNBC @NBCNewsNow everyone vote! Vote for Idella who can t vote because @realDonaldTrump @VP haven t done anything to ke\n",
      "Actual: 😩\n",
      "Prediction: 😡\n",
      "---------------------------------------------------------------------------------------------------\n",
      "@livnotfound GOOD MORNING LIV I DIDN T PAY ATTENTION DURING MATH AND NOW I M SITTING HERE COMPLETELY LOST BUT IT https t co N85D5sYuzW\n",
      "Actual: 😡\n",
      "Prediction: 😩\n",
      "---------------------------------------------------------------------------------------------------\n",
      "RT @brittxnm biden is going to raise taxes sis you work 5 four hour shifts at bath amp bodyworks RELAX\n",
      "Actual: 😡\n",
      "Prediction: 😊\n",
      "---------------------------------------------------------------------------------------------------\n",
      "@Tedzepplin @RepsForBiden He did this well before he was elected How did so many people not realize what he was before the election !\n",
      "Actual: 😡\n",
      "Prediction: 😊\n",
      "---------------------------------------------------------------------------------------------------\n",
      "Once Biden is elected we push left https t co 55Wr1VKTjQ\n",
      "Actual: 😡\n",
      "Prediction: 😩\n",
      "---------------------------------------------------------------------------------------------------\n",
      "semicolon album comes in today but i m not even excited bc i m too anxious about the election https t co hFmmOboKNn\n",
      "Actual: 😊\n",
      "Prediction: 😩\n",
      "---------------------------------------------------------------------------------------------------\n",
      "One wasted vote in Parsons KS! https t co LYMHibTgHG\n",
      "Actual: 😊\n",
      "Prediction: 😡\n",
      "---------------------------------------------------------------------------------------------------\n",
      "@TomFitton The democrats said Trump wouldn t concede because they knew their funny business would show up He sho https t co iVk7eQIeKJ\n",
      "Actual: 😡\n",
      "Prediction: 😊\n",
      "---------------------------------------------------------------------------------------------------\n",
      "@nytimes @jennymedina china biden fuck off\n",
      "Actual: 😡\n",
      "Prediction: 😩\n",
      "---------------------------------------------------------------------------------------------------\n",
      "KNJ SAID GO VOTE SO U BETTER DO IT https t co up74joUfiR\n",
      "Actual: 😡\n",
      "Prediction: 😊\n",
      "---------------------------------------------------------------------------------------------------\n",
      "Yes Votes from the people in the graves of pets dead or alive non living things etc are being counted https t co 6aQS2vq7Za\n",
      "Actual: 😊\n",
      "Prediction: 😡\n",
      "---------------------------------------------------------------------------------------------------\n",
      "All the hard core Trumpers saying they will leave the US if Biden wins is that a threat or a promise\n",
      "Actual: 😊\n",
      "Prediction: 😩\n",
      "---------------------------------------------------------------------------------------------------\n",
      "tomorrow is Election Day and my birthday I ain t ready\n",
      "Actual: 😩\n",
      "Prediction: 😊\n",
      "---------------------------------------------------------------------------------------------------\n",
      "Me n my typical girls hate trump cuz he s a scumbag https t co jeLkbBCNcE\n",
      "Actual: 😊\n",
      "Prediction: 😡\n",
      "---------------------------------------------------------------------------------------------------\n",
      "RT @forwardarc Trump is in a foul mood Today he fired Bonnie Glick the Senate confirmed deputy head of the U S A I D without any justi\n",
      "Actual: 😡\n",
      "Prediction: 😩\n",
      "---------------------------------------------------------------------------------------------------\n",
      "@itsJeffTiedrich I hear he s invited 400 people to OUR WHITE HOUSE While he is threatening NOT to count OUR vo https t co YbWG7jU9aI\n",
      "Actual: 😡\n",
      "Prediction: 😩\n",
      "---------------------------------------------------------------------------------------------------\n",
      "DISGUSTED if you voting for TRUMP y all know where the unfollow button is https t co AI9uM2Neq0\n",
      "Actual: 😡\n",
      "Prediction: 😩\n",
      "---------------------------------------------------------------------------------------------------\n",
      "Not people clowning on the minors because they can t vote and still speaking they freedom of speech\n",
      "Actual: 😩\n",
      "Prediction: 😊\n",
      "---------------------------------------------------------------------------------------------------\n",
      "RT @YukariYumi @cyanblink Done voting for today with my 10 accnts yeah its decreasing hope everyone will vote 2020MAMA Voted f\n",
      "Actual: 😩\n",
      "Prediction: 😊\n",
      "---------------------------------------------------------------------------------------------------\n",
      "@KatyJayne101 He makes Trump look like shy 11 year old! It s time he went\n",
      "Actual: 😡\n",
      "Prediction: 😩\n",
      "---------------------------------------------------------------------------------------------------\n",
      "RT @orlandoscharer How about starting your post election stress recovery by reading our latest paper in Nature Comm with the lab of Hyun\n",
      "Actual: 😱\n",
      "Prediction: 😩\n",
      "---------------------------------------------------------------------------------------------------\n",
      "@DIRECTV Why is stevebannon on the Election HQ channel ! ! Please remove NewsMax! I don t want to see ANYTHING to do with him\n",
      "Actual: 😡\n",
      "Prediction: 😩\n",
      "---------------------------------------------------------------------------------------------------\n",
      "@samkablack I don t wanna watch the election stuff no more\n",
      "Actual: 😩\n",
      "Prediction: 😊\n",
      "---------------------------------------------------------------------------------------------------\n",
      "Don t worry guys I just looked at the election results and had an anxiety bout for all of us\n",
      "Actual: 😊\n",
      "Prediction: 😱\n",
      "---------------------------------------------------------------------------------------------------\n",
      "RT @BLINKVotingPage YO BLINKS!!! Where is the energy they might catch upppp I followed @965TDY and I vote LISA for BiggestCrush a\n",
      "Actual: 😱\n",
      "Prediction: 😡\n",
      "---------------------------------------------------------------------------------------------------\n",
      "Please ! Go! Go!! go Biden https t co qNlBTwQAjm\n",
      "Actual: 😱\n",
      "Prediction: 😊\n",
      "---------------------------------------------------------------------------------------------------\n",
      "I m so proud of everyone who voted especially the ones who have never done it before but realize the importance a https t co ORAfqJ7Zqq\n",
      "Actual: 😩\n",
      "Prediction: 😊\n",
      "---------------------------------------------------------------------------------------------------\n",
      "RT @officialHJesus Trump is a cheat and will always be a cheat https t co FObIZgpwrA\n",
      "Actual: 😊\n",
      "Prediction: 😩\n",
      "---------------------------------------------------------------------------------------------------\n",
      "I can t even keep following this Election Coverage anymore It s stressing me out too much https t co xpHaF2Uyv4\n",
      "Actual: 😡\n",
      "Prediction: 😩\n",
      "---------------------------------------------------------------------------------------------------\n",
      "Georgia is 1000 vote difference rn\n",
      "Actual: 😱\n",
      "Prediction: 😩\n",
      "---------------------------------------------------------------------------------------------------\n",
      "@DonaldJTrumpJr look at the fake journalists on nbc while they gloat Quite a difference from 2016 election They https t co LqMOfMYc7y\n",
      "Actual: 😡\n",
      "Prediction: 😩\n",
      "---------------------------------------------------------------------------------------------------\n",
      "Pretty bitches 4 Biden gt gt gt ugly hoes 4 Trump I don t make the rules baby\n",
      "Actual: 😊\n",
      "Prediction: 😩\n",
      "---------------------------------------------------------------------------------------------------\n",
      "@misterhsk Soon the White House will be For biden to him sorry I ll get my jaiket\n",
      "Actual: 😱\n",
      "Prediction: 😩\n",
      "---------------------------------------------------------------------------------------------------\n",
      "When little sleepy f BIDEN pays for Twitter Twitter would be like this https t co xdSC5ypbBJ https t co azmMNc3jbn\n",
      "Actual: 😡\n",
      "Prediction: 😊\n",
      "---------------------------------------------------------------------------------------------------\n",
      "@realDonaldTrump Great Trump We Iranians need you do not go\n",
      "Actual: 😩\n",
      "Prediction: 😊\n",
      "---------------------------------------------------------------------------------------------------\n",
      "Joe Biden Speeches ! Word Salad or Scrambled Words Both I think !\n",
      "Actual: 😱\n",
      "Prediction: 😡\n",
      "---------------------------------------------------------------------------------------------------\n",
      "I m freaking out and I don t even live in the states how the heck are they all feeling the day before the election\n",
      "Actual: 😱\n",
      "Prediction: 😩\n",
      "---------------------------------------------------------------------------------------------------\n",
      "RT @SayadaRamdial @miroirdufou @drvox Insane that the whole point of an election even needs to be insisted upon\n",
      "Actual: 😱\n",
      "Prediction: 😩\n",
      "---------------------------------------------------------------------------------------------------\n",
      "@stache1968 @hellolaiz Oh my bad Michigan just called BIDEN!\n",
      "Actual: 😊\n",
      "Prediction: 😡\n",
      "---------------------------------------------------------------------------------------------------\n",
      "@BreitbartNews If this is true A new election is in order wide spread corruption\n",
      "Actual: 😩\n",
      "Prediction: 😊\n",
      "---------------------------------------------------------------------------------------------------\n",
      "@amcboricua LoL!! He s really the best Whenever I hear him talk I just wish he was still president Like so SO badly\n",
      "Actual: 😩\n",
      "Prediction: 😊\n",
      "---------------------------------------------------------------------------------------------------\n",
      "@orangeflute @JayAbbott17 @DHughesy @Galenagreen @ItsBouquet @JoeBiden So you would like 4 more years of Trump https t co zIEkZwzD5Z\n",
      "Actual: 😱\n",
      "Prediction: 😩\n",
      "---------------------------------------------------------------------------------------------------\n",
      "These damn vote texts are out of control this year Damn ima vote stop texting and calling me\n",
      "Actual: 😡\n",
      "Prediction: 😩\n",
      "---------------------------------------------------------------------------------------------------\n",
      "we do not have patience for this fuckery today not this environmental racism amid a respiratory pandemic https t co mKqLNyPXlp\n",
      "Actual: 😡\n",
      "Prediction: 😊\n",
      "---------------------------------------------------------------------------------------------------\n",
      "@eclipyvcs which one do i vote\n",
      "Actual: 😱\n",
      "Prediction: 😩\n",
      "---------------------------------------------------------------------------------------------------\n",
      "@RyanAFournier Silent as the tomb Sen Mitch McConnell Hello Sen Lindsey Graham Hello And these won t https t co rzjG8QUmq0\n",
      "Actual: 😡\n",
      "Prediction: 😊\n",
      "---------------------------------------------------------------------------------------------------\n",
      "@MegLavDC I love downtown Sucks we re at a time when you can t even go during an election\n",
      "Actual: 😡\n",
      "Prediction: 😊\n",
      "---------------------------------------------------------------------------------------------------\n",
      "RT @diorhoseok0519 I can t wait until this election is OVER nonstop calls texts ads signs\n",
      "Actual: 😡\n",
      "Prediction: 😩\n",
      "---------------------------------------------------------------------------------------------------\n",
      "@writethewrongs2 It s a very real mental health strain I m appalled so many still stand behind Trump\n",
      "Actual: 😱\n",
      "Prediction: 😩\n",
      "---------------------------------------------------------------------------------------------------\n",
      "Nancy Pelosi s Opponent She Won t Even Debate Him Pelosi A Privileged Out of Touch Wealthy Elitist Working F https t co xnGC7wEukv\n",
      "Actual: 😡\n",
      "Prediction: 😊\n",
      "---------------------------------------------------------------------------------------------------\n",
      "RT @DMVBlackLives No Black joy on BLMPlaza per @MayorBowser Attacking Black people and threatening to tow @LongLiveGoGo is what we do\n",
      "Actual: 😡\n",
      "Prediction: 😩\n",
      "---------------------------------------------------------------------------------------------------\n",
      "RT @DFBHarvard This is that final coffin nail! If Biden wins Kamala will be President! No vote will occur! Joe will stumble into a N\n",
      "Actual: 😡\n",
      "Prediction: 😊\n",
      "---------------------------------------------------------------------------------------------------\n",
      "RT @MelanieMetz6 This is UNFREAKINBELIEVABLE First Georgia now Michigan Why does these leftist judges have the authority to stop them\n",
      "Actual: 😡\n",
      "Prediction: 😩\n",
      "---------------------------------------------------------------------------------------------------\n",
      "Fuck Trump https t co xfCLPn4Wu8\n",
      "Actual: 😡\n",
      "Prediction: 😩\n",
      "---------------------------------------------------------------------------------------------------\n",
      "@thfc_jack1234 Can t stand that fraud Biden\n",
      "Actual: 😡\n",
      "Prediction: 😩\n",
      "---------------------------------------------------------------------------------------------------\n",
      "Man I am stressed about having to go get in line to vote AFTER work Like it might be 6 30 before I get in line\n",
      "Actual: 😱\n",
      "Prediction: 😡\n",
      "---------------------------------------------------------------------------------------------------\n",
      "RT @femi_moji Ahhhhhhhhh just when I thought Nigeria couldn t embarrass me further they went to go and do Trump parade I need a soci\n",
      "Actual: 😩\n",
      "Prediction: 😱\n",
      "---------------------------------------------------------------------------------------------------\n",
      "@Sha_Elise24 @lynnv378 That was worst one I think! before the election\n",
      "Actual: 😡\n",
      "Prediction: 😩\n",
      "---------------------------------------------------------------------------------------------------\n",
      "RT @jacksmescudi if you didn t vote you don t deserve to celebrate!\n",
      "Actual: 😡\n",
      "Prediction: 😊\n",
      "---------------------------------------------------------------------------------------------------\n",
      "RT @airammsaldivar Y all be like there s no change no one does anything let s go protest all the time but then don t go vote for local e\n",
      "Actual: 😡\n",
      "Prediction: 😩\n",
      "---------------------------------------------------------------------------------------------------\n",
      "@Sharonlikesgame @alvexq @itsakeilayt trump is literally agaisnt human rights how is biden worse than that\n",
      "Actual: 😊\n",
      "Prediction: 😩\n",
      "---------------------------------------------------------------------------------------------------\n",
      "@geis_shane If Joe Biden wins windmill cancer will cheat my private thoughts\n",
      "Actual: 😩\n",
      "Prediction: 😱\n",
      "---------------------------------------------------------------------------------------------------\n",
      "Funny how the dead always vote Democratic\n",
      "Actual: 😡\n",
      "Prediction: 😩\n",
      "---------------------------------------------------------------------------------------------------\n",
      "Donald Trump please say something to us on Twitter\n",
      "Actual: 😡\n",
      "Prediction: 😩\n",
      "---------------------------------------------------------------------------------------------------\n",
      "You have to vote in the election that was already stolen! Otherwise Trump will steal the election! https t co rdH43Fo4yU\n",
      "Actual: 😱\n",
      "Prediction: 😡\n",
      "---------------------------------------------------------------------------------------------------\n",
      "RT @rohmontgomery she says vote or i wil personally have u killed https t co kq4UW1JJcu\n",
      "Actual: 😱\n",
      "Prediction: 😩\n",
      "---------------------------------------------------------------------------------------------------\n",
      "RT @Alennycas I just feel like SHSU should have a big bonfire steal trump signs and throw them into the fire while we all get drunk\n",
      "Actual: 😊\n",
      "Prediction: 😡\n",
      "---------------------------------------------------------------------------------------------------\n",
      "RT @caarmenella any of u that aren t voting this election are dead to me please fucking vote!!\n",
      "Actual: 😊\n",
      "Prediction: 😩\n",
      "---------------------------------------------------------------------------------------------------\n",
      "RT @tristan_puig @briebriejoy or we ll vote democrat EVEN MORE reluctantly next time!!!\n",
      "Actual: 😡\n",
      "Prediction: 😱\n",
      "---------------------------------------------------------------------------------------------------\n",
      "RT @cazam_c Dems made it possible to STEAL THIS ELECTION using COVID as excuse No mention of Covid now Fmr NV AG Laxalt No Question\n",
      "Actual: 😡\n",
      "Prediction: 😩\n",
      "---------------------------------------------------------------------------------------------------\n",
      "tobuscus is a trump supporter huh\n",
      "Actual: 😩\n",
      "Prediction: 😊\n",
      "---------------------------------------------------------------------------------------------------\n",
      "RT @lisa_brightest Lisa s MAC ads in the Philippines China South Korea Thailand Hong Kong and now New Zealand Lisa world dominati\n",
      "Actual: 😱\n",
      "Prediction: 😩\n",
      "---------------------------------------------------------------------------------------------------\n",
      "@deathbyrepp she shouldve voted for trump wtf\n",
      "Actual: 😡\n",
      "Prediction: 😩\n",
      "---------------------------------------------------------------------------------------------------\n",
      "RT @mariahhsandoval Joe Biden is a sexy mf\n",
      "Actual: 😩\n",
      "Prediction: 😊\n",
      "---------------------------------------------------------------------------------------------------\n",
      "@FLOTUS @The_BMC Tell Trump to concede defeat ASAP\n",
      "Actual: 😡\n",
      "Prediction: 😩\n",
      "---------------------------------------------------------------------------------------------------\n",
      "Dirty cheating bastard Trump https t co vlp0ZRu9HF https t co xIelext6kp\n",
      "Actual: 😡\n",
      "Prediction: 😩\n",
      "---------------------------------------------------------------------------------------------------\n",
      "RT @RobertDeNiroUS In just over 24 hours Trump has racked up NINE warnings for misinformation and lies on his Twitter feed ElectionResu\n",
      "Actual: 😡\n",
      "Prediction: 😩\n",
      "---------------------------------------------------------------------------------------------------\n",
      "il cialtrone Trump s Italian cheerleader spreads baseless conspiracy theories over votes https t co 9UvhTfCMN6\n",
      "Actual: 😊\n",
      "Prediction: 😡\n",
      "---------------------------------------------------------------------------------------------------\n",
      "@tedcruz Fictional Election Fraud Ted Trump calls wife ugly Ted\n",
      "Actual: 😡\n",
      "Prediction: 😩\n",
      "---------------------------------------------------------------------------------------------------\n",
      "RT @kyeolii_ BE CAREFUL WHEN DROPING YOUR HEARTS EXOLS!!!!! ONLY ON A TRUSTED FANBASES!!! EVEN ON CHOEAEDOL HAS AN IMPOSTOR!!!! SHE EVEN\n",
      "Actual: 😡\n",
      "Prediction: 😊\n",
      "---------------------------------------------------------------------------------------------------\n",
      "Oh no Guys we elected a boring president Wait Sorry What I meant was GUYS WE DID IT!!!! WE ELECTED https t co VcG4ynYGun\n",
      "Actual: 😩\n",
      "Prediction: 😡\n",
      "---------------------------------------------------------------------------------------------------\n",
      "RT @andrewbogut Is there still a virus All I see is election news Maybe we found the cure! !\n",
      "Actual: 😱\n",
      "Prediction: 😡\n",
      "---------------------------------------------------------------------------------------------------\n",
      "i see some americans on TikTok talking about don t make jokes about this election if ur not from the US and let https t co TqKk1fyt1h\n",
      "Actual: 😡\n",
      "Prediction: 😩\n",
      "---------------------------------------------------------------------------------------------------\n",
      "I m ready to vote joe Biden out when he gets elected\n",
      "Actual: 😩\n",
      "Prediction: 😊\n",
      "---------------------------------------------------------------------------------------------------\n",
      "RT @magarcia4112 Reminder if you re in line when polls close you are legally allowed to vote Do not leave!\n",
      "Actual: 😊\n",
      "Prediction: 😱\n",
      "---------------------------------------------------------------------------------------------------\n",
      "RT @128JC3 Is it just me The more I sit here amp think about things the more pissed off I m getting We have had to deal with the lefts t\n",
      "Actual: 😡\n",
      "Prediction: 😩\n",
      "---------------------------------------------------------------------------------------------------\n",
      "ain t no damn voter fraud trump know damn well dems actually believe in a pandemic and majority don t wanna be around hella people\n",
      "Actual: 😊\n",
      "Prediction: 😡\n",
      "---------------------------------------------------------------------------------------------------\n",
      "@leadlagreport If he s old it won t be for long because crazy Nancy will use the 25 amendment to have Harris as president\n",
      "Actual: 😩\n",
      "Prediction: 😱\n",
      "---------------------------------------------------------------------------------------------------\n",
      "I cannot with some peoples posts about Trump Like y all are really in love with him huh Did he give you all extr https t co f3nvE9Z73O\n",
      "Actual: 😩\n",
      "Prediction: 😊\n",
      "---------------------------------------------------------------------------------------------------\n",
      "RT @sirhottest Trump gained more Black supporters this year and lost white ones Dude is horrible at this whole racist thing\n",
      "Actual: 😱\n",
      "Prediction: 😩\n",
      "---------------------------------------------------------------------------------------------------\n",
      "RT @Froste The only reason Biden is winning is because they re counting every vote This is a deviestating attack on our democracy\n",
      "Actual: 😡\n",
      "Prediction: 😊\n",
      "---------------------------------------------------------------------------------------------------\n",
      "He says Trump will win again Please let him be wrong Pollster who predicted Trump s win makes a 2020 predictio https t co cqSZRHrYgA\n",
      "Actual: 😱\n",
      "Prediction: 😊\n",
      "---------------------------------------------------------------------------------------------------\n",
      "RT @amber_effinjay Biden please don t Atlanta falcons this thing!\n",
      "Actual: 😩\n",
      "Prediction: 😡\n",
      "---------------------------------------------------------------------------------------------------\n",
      "@disasterbyes Every election\n",
      "Actual: 😱\n",
      "Prediction: 😩\n",
      "---------------------------------------------------------------------------------------------------\n"
     ]
    }
   ],
   "source": [
    "for tweet, act, pred in zip(wrong_preds.tweet, wrong_preds.top_emoji, wrong_preds.prediction):\n",
    "    print(tweet)\n",
    "    print(f\"Actual: {act}\")\n",
    "    print(f\"Prediction: {pred}\")\n",
    "    print(\"---------------------------------------------------------------------------------------------------\")"
   ]
  },
  {
   "cell_type": "code",
   "execution_count": null,
   "metadata": {},
   "outputs": [],
   "source": []
  }
 ],
 "metadata": {
  "kernelspec": {
   "display_name": "Python 3",
   "language": "python",
   "name": "python3"
  },
  "language_info": {
   "codemirror_mode": {
    "name": "ipython",
    "version": 3
   },
   "file_extension": ".py",
   "mimetype": "text/x-python",
   "name": "python",
   "nbconvert_exporter": "python",
   "pygments_lexer": "ipython3",
   "version": "3.8.3"
  }
 },
 "nbformat": 4,
 "nbformat_minor": 4
}
